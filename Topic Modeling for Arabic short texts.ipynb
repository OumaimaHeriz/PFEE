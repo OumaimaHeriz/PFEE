{
 "cells": [
  {
   "cell_type": "markdown",
   "id": "24a3e434",
   "metadata": {},
   "source": [
    "# Load required packages"
   ]
  },
  {
   "cell_type": "markdown",
   "id": "c50bc8f3",
   "metadata": {},
   "source": [
    "Depending on my choice of python notebook, I am going to need to install and load the following packages to perform topic modeling"
   ]
  },
  {
   "cell_type": "code",
   "execution_count": 1,
   "id": "19e11da9",
   "metadata": {},
   "outputs": [
    {
     "data": {
      "text/plain": [
       "'\\n!pip install pandas\\n!pip install numpy\\n!pip install gensim\\n!pip oinstall nltk\\n!pip install matplotlib.pyplot\\n!pip install qalsadi\\n!pip install pyLDAvis \\n!pip install tomotopy\\n#!pip install git+https://github.com/rwalk/gsdmm.git\\n#!pip install tmplot\\n!pip install arabic_reshaper'"
      ]
     },
     "execution_count": 1,
     "metadata": {},
     "output_type": "execute_result"
    }
   ],
   "source": [
    "# Installations\n",
    "'''\n",
    "!pip install pandas\n",
    "!pip install numpy\n",
    "!pip install gensim\n",
    "!pip oinstall nltk\n",
    "!pip install matplotlib.pyplot\n",
    "!pip install qalsadi\n",
    "!pip install pyLDAvis \n",
    "!pip install tomotopy\n",
    "#!pip install git+https://github.com/rwalk/gsdmm.git\n",
    "#!pip install tmplot\n",
    "!pip install arabic_reshaper'''\n"
   ]
  },
  {
   "cell_type": "code",
   "execution_count": 2,
   "id": "4aa6771f",
   "metadata": {
    "id": "4aa6771f"
   },
   "outputs": [],
   "source": [
    "\n",
    "#Base and Cleaning \n",
    "import pandas as pd\n",
    "import numpy as np\n",
    "import warnings\n",
    "warnings.filterwarnings(\"ignore\")\n",
    "from pprint import pprint\n",
    "import pip\n",
    "import setuptools\n",
    "import tmplot as tmp\n",
    "\n",
    "\n",
    "\n",
    "# loading some necessary packages \n",
    "import gensim\n",
    "from gensim.utils import simple_preprocess\n",
    "from gensim.parsing.preprocessing import STOPWORDS\n",
    "from nltk.stem import ISRIStemmer\n",
    "from nltk.stem.porter import *\n",
    "import nltk\n",
    "from nltk.corpus import stopwords\n",
    "from gensim.models import CoherenceModel\n",
    "import gensim.corpora as corpora\n",
    "from gensim.models import CoherenceModel\n",
    "\n",
    "from sklearn.feature_extraction.text import CountVectorizer, TfidfTransformer;\n",
    "from sklearn.decomposition import NMF;\n",
    "from sklearn.preprocessing import normalize;\n",
    "from bidi.algorithm import get_display\n",
    "import arabic_reshaper\n",
    "\n",
    "\n",
    "from gensim.models.nmf import Nmf as GensimNmf\n",
    "from gsdmm import MovieGroupProcess\n",
    "from gensim.models import AuthorTopicModel\n",
    "import tomotopy as tp\n",
    "from gensim import models\n",
    "from statistics import mean \n",
    "import bitermplus as btm\n",
    "from gensim.models import LdaSeqModel\n",
    "import qalsadi.lemmatizer\n",
    "from gensim.models import HdpModel\n",
    "\n",
    "\n",
    "# Visualizations\n",
    "import matplotlib.pyplot as plt\n",
    "import pyLDAvis\n",
    "import pyLDAvis.gensim_models\n",
    "\n"
   ]
  },
  {
   "cell_type": "code",
   "execution_count": 3,
   "id": "fea82ecf",
   "metadata": {
    "colab": {
     "base_uri": "https://localhost:8080/",
     "height": 206
    },
    "id": "fea82ecf",
    "outputId": "b9c9fdef-196b-4852-8612-a82248c40703",
    "scrolled": true
   },
   "outputs": [
    {
     "data": {
      "text/html": [
       "<div>\n",
       "<style scoped>\n",
       "    .dataframe tbody tr th:only-of-type {\n",
       "        vertical-align: middle;\n",
       "    }\n",
       "\n",
       "    .dataframe tbody tr th {\n",
       "        vertical-align: top;\n",
       "    }\n",
       "\n",
       "    .dataframe thead th {\n",
       "        text-align: right;\n",
       "    }\n",
       "</style>\n",
       "<table border=\"1\" class=\"dataframe\">\n",
       "  <thead>\n",
       "    <tr style=\"text-align: right;\">\n",
       "      <th></th>\n",
       "      <th>بعد استقالة رئيس #المحكمة_الدستورية ننتظر استقالة #رئيس_القضاء #السودان</th>\n",
       "      <th>OBJ</th>\n",
       "    </tr>\n",
       "  </thead>\n",
       "  <tbody>\n",
       "    <tr>\n",
       "      <th>0</th>\n",
       "      <td>أهنئ الدكتور أحمد جمال الدين، القيادي بحزب مصر...</td>\n",
       "      <td>POS</td>\n",
       "    </tr>\n",
       "    <tr>\n",
       "      <th>1</th>\n",
       "      <td>البرادعي يستقوى بامريكا مرةاخرى و يرسل عصام ال...</td>\n",
       "      <td>NEG</td>\n",
       "    </tr>\n",
       "    <tr>\n",
       "      <th>2</th>\n",
       "      <td>#الحرية_والعدالة | شاهد الآن: #ليلة_الاتحادية ...</td>\n",
       "      <td>OBJ</td>\n",
       "    </tr>\n",
       "    <tr>\n",
       "      <th>3</th>\n",
       "      <td>الوالدة لو اقولها بخاطري حشيشة تضحك بس من اقول...</td>\n",
       "      <td>NEUTRAL</td>\n",
       "    </tr>\n",
       "    <tr>\n",
       "      <th>4</th>\n",
       "      <td>#انتخبوا_العرص #انتخبوا_البرص #مرسى_رئيسى #اين...</td>\n",
       "      <td>NEUTRAL</td>\n",
       "    </tr>\n",
       "  </tbody>\n",
       "</table>\n",
       "</div>"
      ],
      "text/plain": [
       "  بعد استقالة رئيس #المحكمة_الدستورية ننتظر استقالة #رئيس_القضاء #السودان  \\\n",
       "0  أهنئ الدكتور أحمد جمال الدين، القيادي بحزب مصر...                        \n",
       "1  البرادعي يستقوى بامريكا مرةاخرى و يرسل عصام ال...                        \n",
       "2  #الحرية_والعدالة | شاهد الآن: #ليلة_الاتحادية ...                        \n",
       "3  الوالدة لو اقولها بخاطري حشيشة تضحك بس من اقول...                        \n",
       "4  #انتخبوا_العرص #انتخبوا_البرص #مرسى_رئيسى #اين...                        \n",
       "\n",
       "       OBJ  \n",
       "0      POS  \n",
       "1      NEG  \n",
       "2      OBJ  \n",
       "3  NEUTRAL  \n",
       "4  NEUTRAL  "
      ]
     },
     "execution_count": 3,
     "metadata": {},
     "output_type": "execute_result"
    }
   ],
   "source": [
    "# Read the Dataset with pandas as a DATAFRAME\n",
    "# add your data path \n",
    "data = pd.read_csv(r\"C:\\Users\\PRO\\Downloads\\Tweets.csv\",sep='\\t',lineterminator='\\n',on_bad_lines='skip')\n",
    "\n",
    "data.head()"
   ]
  },
  {
   "cell_type": "code",
   "execution_count": 4,
   "id": "b5693047",
   "metadata": {
    "colab": {
     "base_uri": "https://localhost:8080/"
    },
    "id": "b5693047",
    "outputId": "8a12e855-77ac-4b1f-9da9-38416dc0c13c"
   },
   "outputs": [
    {
     "data": {
      "text/plain": [
       "Index(['بعد استقالة رئيس #المحكمة_الدستورية ننتظر استقالة #رئيس_القضاء #السودان', 'OBJ'], dtype='object')"
      ]
     },
     "execution_count": 4,
     "metadata": {},
     "output_type": "execute_result"
    }
   ],
   "source": [
    "data.columns"
   ]
  },
  {
   "cell_type": "code",
   "execution_count": 5,
   "id": "61e9e36f",
   "metadata": {
    "colab": {
     "base_uri": "https://localhost:8080/",
     "height": 424
    },
    "id": "61e9e36f",
    "outputId": "20d472cf-a1de-4c8f-eae5-c0ec11649c5d"
   },
   "outputs": [
    {
     "data": {
      "text/html": [
       "<div>\n",
       "<style scoped>\n",
       "    .dataframe tbody tr th:only-of-type {\n",
       "        vertical-align: middle;\n",
       "    }\n",
       "\n",
       "    .dataframe tbody tr th {\n",
       "        vertical-align: top;\n",
       "    }\n",
       "\n",
       "    .dataframe thead th {\n",
       "        text-align: right;\n",
       "    }\n",
       "</style>\n",
       "<table border=\"1\" class=\"dataframe\">\n",
       "  <thead>\n",
       "    <tr style=\"text-align: right;\">\n",
       "      <th></th>\n",
       "      <th>text</th>\n",
       "      <th>sentiment</th>\n",
       "    </tr>\n",
       "  </thead>\n",
       "  <tbody>\n",
       "    <tr>\n",
       "      <th>0</th>\n",
       "      <td>أهنئ الدكتور أحمد جمال الدين، القيادي بحزب مصر...</td>\n",
       "      <td>POS</td>\n",
       "    </tr>\n",
       "    <tr>\n",
       "      <th>1</th>\n",
       "      <td>البرادعي يستقوى بامريكا مرةاخرى و يرسل عصام ال...</td>\n",
       "      <td>NEG</td>\n",
       "    </tr>\n",
       "    <tr>\n",
       "      <th>2</th>\n",
       "      <td>#الحرية_والعدالة | شاهد الآن: #ليلة_الاتحادية ...</td>\n",
       "      <td>OBJ</td>\n",
       "    </tr>\n",
       "    <tr>\n",
       "      <th>3</th>\n",
       "      <td>الوالدة لو اقولها بخاطري حشيشة تضحك بس من اقول...</td>\n",
       "      <td>NEUTRAL</td>\n",
       "    </tr>\n",
       "    <tr>\n",
       "      <th>4</th>\n",
       "      <td>#انتخبوا_العرص #انتخبوا_البرص #مرسى_رئيسى #اين...</td>\n",
       "      <td>NEUTRAL</td>\n",
       "    </tr>\n",
       "    <tr>\n",
       "      <th>...</th>\n",
       "      <td>...</td>\n",
       "      <td>...</td>\n",
       "    </tr>\n",
       "    <tr>\n",
       "      <th>9688</th>\n",
       "      <td>والغاز مش مدعوم يا إنسان؟ وماذا عن الأسمنت وال...</td>\n",
       "      <td>NEG</td>\n",
       "    </tr>\n",
       "    <tr>\n",
       "      <th>9689</th>\n",
       "      <td>اغلاق كل الساحات والميادين الكبرى لمنع صلاة ال...</td>\n",
       "      <td>NEG</td>\n",
       "    </tr>\n",
       "    <tr>\n",
       "      <th>9690</th>\n",
       "      <td>#الشروق \"الداخلية\": 400 ألف مواطن تقدموا لأداء...</td>\n",
       "      <td>OBJ</td>\n",
       "    </tr>\n",
       "    <tr>\n",
       "      <th>9691</th>\n",
       "      <td>#هتحبك_لو صحتها من النوم علشان تقولها بحبك ;)</td>\n",
       "      <td>POS</td>\n",
       "    </tr>\n",
       "    <tr>\n",
       "      <th>9692</th>\n",
       "      <td>كل شى كتبته غلط كل شى حسبته غلط فى #الامتحانات</td>\n",
       "      <td>NEG</td>\n",
       "    </tr>\n",
       "  </tbody>\n",
       "</table>\n",
       "<p>9693 rows × 2 columns</p>\n",
       "</div>"
      ],
      "text/plain": [
       "                                                   text sentiment\n",
       "0     أهنئ الدكتور أحمد جمال الدين، القيادي بحزب مصر...       POS\n",
       "1     البرادعي يستقوى بامريكا مرةاخرى و يرسل عصام ال...       NEG\n",
       "2     #الحرية_والعدالة | شاهد الآن: #ليلة_الاتحادية ...       OBJ\n",
       "3     الوالدة لو اقولها بخاطري حشيشة تضحك بس من اقول...   NEUTRAL\n",
       "4     #انتخبوا_العرص #انتخبوا_البرص #مرسى_رئيسى #اين...   NEUTRAL\n",
       "...                                                 ...       ...\n",
       "9688  والغاز مش مدعوم يا إنسان؟ وماذا عن الأسمنت وال...       NEG\n",
       "9689  اغلاق كل الساحات والميادين الكبرى لمنع صلاة ال...       NEG\n",
       "9690  #الشروق \"الداخلية\": 400 ألف مواطن تقدموا لأداء...       OBJ\n",
       "9691      #هتحبك_لو صحتها من النوم علشان تقولها بحبك ;)       POS\n",
       "9692     كل شى كتبته غلط كل شى حسبته غلط فى #الامتحانات       NEG\n",
       "\n",
       "[9693 rows x 2 columns]"
      ]
     },
     "execution_count": 5,
     "metadata": {},
     "output_type": "execute_result"
    }
   ],
   "source": [
    "# REnaming the textuel column that we are working on :\n",
    "data = data.rename(columns = {'بعد استقالة رئيس #المحكمة_الدستورية ننتظر استقالة #رئيس_القضاء #السودان': 'text', 'OBJ': 'sentiment'}, inplace = False)\n",
    "\n",
    "# Print out data\n",
    "data\n"
   ]
  },
  {
   "cell_type": "code",
   "execution_count": 6,
   "id": "d95dab7c",
   "metadata": {
    "colab": {
     "base_uri": "https://localhost:8080/"
    },
    "id": "d95dab7c",
    "outputId": "1576cf4d-aa86-4450-bdd4-bd96e891255a"
   },
   "outputs": [
    {
     "data": {
      "text/plain": [
       "OBJ        6469\n",
       "NEG        1642\n",
       "NEUTRAL     805\n",
       "POS         777\n",
       "Name: sentiment, dtype: int64"
      ]
     },
     "execution_count": 6,
     "metadata": {},
     "output_type": "execute_result"
    }
   ],
   "source": [
    "count_sentiment = data.sentiment.value_counts()\n",
    "count_sentiment"
   ]
  },
  {
   "cell_type": "code",
   "execution_count": 7,
   "id": "28d816a9",
   "metadata": {
    "colab": {
     "base_uri": "https://localhost:8080/",
     "height": 282
    },
    "id": "28d816a9",
    "outputId": "f26f56df-6f50-4677-d81f-cc18a382a212"
   },
   "outputs": [
    {
     "data": {
      "text/plain": [
       "<AxesSubplot:>"
      ]
     },
     "execution_count": 7,
     "metadata": {},
     "output_type": "execute_result"
    },
    {
     "data": {
      "image/png": "[encoded data removed]",
      "text/plain": [
       "<Figure size 432x288 with 1 Axes>"
      ]
     },
     "metadata": {
      "needs_background": "light"
     },
     "output_type": "display_data"
    }
   ],
   "source": [
    "count_sentiment.plot.bar(rot = 0)"
   ]
  },
  {
   "cell_type": "markdown",
   "id": "99e83818",
   "metadata": {},
   "source": [
    "# Data Pre-processing"
   ]
  },
  {
   "cell_type": "markdown",
   "id": "ed91a5ab",
   "metadata": {},
   "source": [
    "\n",
    "Our goal in the data pre-processing stage is to convert sentences into words, convert words to their root and removing words that are too common or too irrelevant to the purpose of our topic modeling project. We used the following techniques to reach our goal, I’m going to share the code and walk you through each stage:\n",
    "   - Tokenization: Split the text into sentences and the sentences into words. Lowercase the words and remove punctuation.\n",
    "   - Words that have fewer than 3 characters are removed.\n",
    "   - All stopwords are removed.\n",
    "   - Words are lemmatized and stemmed — words in the third person are changed to first person and verbs in past and future tenses are changed into the present and are reduced to their root form."
   ]
  },
  {
   "cell_type": "code",
   "execution_count": 8,
   "id": "1d75a5b0",
   "metadata": {
    "id": "1d75a5b0"
   },
   "outputs": [],
   "source": [
    "\n",
    "data['text'] = data['text'].map(lambda x: x.replace(\"#\", \" \").replace(\"_\", \" \").replace(\"|\", \" \")\n",
    ".replace(\"؟\", \"\").replace(\"!\", \" \").replace('\\\"', \" \").replace(';', \"\").replace(':', \"\").replace('(', \"\").replace(')', \"\").replace('،', \" \").replace('-', \" \").replace('…', \"\"))"
   ]
  },
  {
   "cell_type": "code",
   "execution_count": 9,
   "id": "ea404607",
   "metadata": {
    "colab": {
     "base_uri": "https://localhost:8080/"
    },
    "id": "ea404607",
    "outputId": "9092da98-20b7-495e-9a30-87b631215ab4"
   },
   "outputs": [
    {
     "data": {
      "text/plain": [
       "0       أهنئ الدكتور أحمد جمال الدين  القيادي بحزب مصر...\n",
       "1       البرادعي يستقوى بامريكا مرةاخرى و يرسل عصام ال...\n",
       "2        الحرية والعدالة   شاهد الآن  ليلة الاتحادية أ...\n",
       "3       الوالدة لو اقولها بخاطري حشيشة تضحك بس من اقول...\n",
       "4        انتخبوا العرص  انتخبوا البرص  مرسى رئيسى  اين...\n",
       "                              ...                        \n",
       "9688    والغاز مش مدعوم يا إنسان وماذا عن الأسمنت والح...\n",
       "9689    اغلاق كل الساحات والميادين الكبرى لمنع صلاة ال...\n",
       "9690     الشروق  الداخلية  400 ألف مواطن تقدموا لأداء ...\n",
       "9691           هتحبك لو صحتها من النوم علشان تقولها بحبك \n",
       "9692       كل شى كتبته غلط كل شى حسبته غلط فى  الامتحانات\n",
       "Name: text, Length: 9693, dtype: object"
      ]
     },
     "execution_count": 9,
     "metadata": {},
     "output_type": "execute_result"
    }
   ],
   "source": [
    "data['text']"
   ]
  },
  {
   "cell_type": "code",
   "execution_count": 10,
   "id": "7c1bf914",
   "metadata": {
    "colab": {
     "base_uri": "https://localhost:8080/",
     "height": 35
    },
    "id": "7c1bf914",
    "outputId": "1debdf2f-2522-4aac-af20-2323362a7fa4"
   },
   "outputs": [
    {
     "data": {
      "text/plain": [
       "'يازين  مضامير اشتقنا لها 😿'"
      ]
     },
     "execution_count": 10,
     "metadata": {},
     "output_type": "execute_result"
    }
   ],
   "source": [
    "#let's print out an example:\n",
    "data['text'][2026]"
   ]
  },
  {
   "cell_type": "code",
   "execution_count": 11,
   "id": "a22f4745",
   "metadata": {
    "colab": {
     "base_uri": "https://localhost:8080/"
    },
    "id": "a22f4745",
    "outputId": "bd5ff89a-9aa5-4034-8d7e-f98bb38a9ec4"
   },
   "outputs": [
    {
     "name": "stderr",
     "output_type": "stream",
     "text": [
      "[nltk_data] Downloading package stopwords to\n",
      "[nltk_data]     C:\\Users\\PRO\\AppData\\Roaming\\nltk_data...\n",
      "[nltk_data]   Package stopwords is already up-to-date!\n"
     ]
    },
    {
     "data": {
      "text/plain": [
       "True"
      ]
     },
     "execution_count": 11,
     "metadata": {},
     "output_type": "execute_result"
    }
   ],
   "source": [
    "\n",
    "nltk.download('stopwords')"
   ]
  },
  {
   "cell_type": "code",
   "execution_count": 12,
   "id": "5771a342",
   "metadata": {
    "colab": {
     "base_uri": "https://localhost:8080/"
    },
    "id": "5771a342",
    "outputId": "0834d2ca-8701-4871-e041-88af1d7cc92b"
   },
   "outputs": [
    {
     "data": {
      "text/plain": [
       "['arabic',\n",
       " 'azerbaijani',\n",
       " 'bengali',\n",
       " 'danish',\n",
       " 'dutch',\n",
       " 'english',\n",
       " 'finnish',\n",
       " 'french',\n",
       " 'german',\n",
       " 'greek',\n",
       " 'hungarian',\n",
       " 'indonesian',\n",
       " 'italian',\n",
       " 'kazakh',\n",
       " 'nepali',\n",
       " 'norwegian',\n",
       " 'portuguese',\n",
       " 'romanian',\n",
       " 'russian',\n",
       " 'slovene',\n",
       " 'spanish',\n",
       " 'swedish',\n",
       " 'tajik',\n",
       " 'turkish']"
      ]
     },
     "execution_count": 12,
     "metadata": {},
     "output_type": "execute_result"
    }
   ],
   "source": [
    "# let's check if nltk contains stopwords for arabic datasets\n",
    "\n",
    "stopwords.fileids()"
   ]
  },
  {
   "cell_type": "code",
   "execution_count": 13,
   "id": "56b9ed7b",
   "metadata": {
    "colab": {
     "base_uri": "https://localhost:8080/"
    },
    "id": "56b9ed7b",
    "outputId": "4b0dd3b7-a93f-499a-b231-9bdc63c7a37c"
   },
   "outputs": [
    {
     "name": "stdout",
     "output_type": "stream",
     "text": [
      "['إذ', 'إذا', 'إذما', 'إذن', 'أف', 'أقل', 'أكثر', 'ألا', 'إلا', 'التي', 'الذي', 'الذين', 'اللاتي', 'اللائي', 'اللتان', 'اللتيا', 'اللتين', 'اللذان', 'اللذين', 'اللواتي', 'إلى', 'إليك', 'إليكم', 'إليكما', 'إليكن', 'أم', 'أما', 'أما', 'إما', 'أن', 'إن', 'إنا', 'أنا', 'أنت', 'أنتم', 'أنتما', 'أنتن', 'إنما', 'إنه', 'أنى', 'أنى', 'آه', 'آها', 'أو', 'أولاء', 'أولئك', 'أوه', 'آي', 'أي', 'أيها', 'إي', 'أين', 'أين', 'أينما', 'إيه', 'بخ', 'بس', 'بعد', 'بعض', 'بك', 'بكم', 'بكم', 'بكما', 'بكن', 'بل', 'بلى', 'بما', 'بماذا', 'بمن', 'بنا', 'به', 'بها', 'بهم', 'بهما', 'بهن', 'بي', 'بين', 'بيد', 'تلك', 'تلكم', 'تلكما', 'ته', 'تي', 'تين', 'تينك', 'ثم', 'ثمة', 'حاشا', 'حبذا', 'حتى', 'حيث', 'حيثما', 'حين', 'خلا', 'دون', 'ذا', 'ذات', 'ذاك', 'ذان', 'ذانك', 'ذلك', 'ذلكم', 'ذلكما', 'ذلكن', 'ذه', 'ذو', 'ذوا', 'ذواتا', 'ذواتي', 'ذي', 'ذين', 'ذينك', 'ريث', 'سوف', 'سوى', 'شتان', 'عدا', 'عسى', 'عل', 'على', 'عليك', 'عليه', 'عما', 'عن', 'عند', 'غير', 'فإذا', 'فإن', 'فلا', 'فمن', 'في', 'فيم', 'فيما', 'فيه', 'فيها', 'قد', 'كأن', 'كأنما', 'كأي', 'كأين', 'كذا', 'كذلك', 'كل', 'كلا', 'كلاهما', 'كلتا', 'كلما', 'كليكما', 'كليهما', 'كم', 'كم', 'كما', 'كي', 'كيت', 'كيف', 'كيفما', 'لا', 'لاسيما', 'لدى', 'لست', 'لستم', 'لستما', 'لستن', 'لسن', 'لسنا', 'لعل', 'لك', 'لكم', 'لكما', 'لكن', 'لكنما', 'لكي', 'لكيلا', 'لم', 'لما', 'لن', 'لنا', 'له', 'لها', 'لهم', 'لهما', 'لهن', 'لو', 'لولا', 'لوما', 'لي', 'لئن', 'ليت', 'ليس', 'ليسا', 'ليست', 'ليستا', 'ليسوا', 'ما', 'ماذا', 'متى', 'مذ', 'مع', 'مما', 'ممن', 'من', 'منه', 'منها', 'منذ', 'مه', 'مهما', 'نحن', 'نحو', 'نعم', 'ها', 'هاتان', 'هاته', 'هاتي', 'هاتين', 'هاك', 'هاهنا', 'هذا', 'هذان', 'هذه', 'هذي', 'هذين', 'هكذا', 'هل', 'هلا', 'هم', 'هما', 'هن', 'هنا', 'هناك', 'هنالك', 'هو', 'هؤلاء', 'هي', 'هيا', 'هيت', 'هيهات', 'والذي', 'والذين', 'وإذ', 'وإذا', 'وإن', 'ولا', 'ولكن', 'ولو', 'وما', 'ومن', 'وهو', 'يا', 'أبٌ', 'أخٌ', 'حمٌ', 'فو', 'أنتِ', 'يناير', 'فبراير', 'مارس', 'أبريل', 'مايو', 'يونيو', 'يوليو', 'أغسطس', 'سبتمبر', 'أكتوبر', 'نوفمبر', 'ديسمبر', 'جانفي', 'فيفري', 'مارس', 'أفريل', 'ماي', 'جوان', 'جويلية', 'أوت', 'كانون', 'شباط', 'آذار', 'نيسان', 'أيار', 'حزيران', 'تموز', 'آب', 'أيلول', 'تشرين', 'دولار', 'دينار', 'ريال', 'درهم', 'ليرة', 'جنيه', 'قرش', 'مليم', 'فلس', 'هللة', 'سنتيم', 'يورو', 'ين', 'يوان', 'شيكل', 'واحد', 'اثنان', 'ثلاثة', 'أربعة', 'خمسة', 'ستة', 'سبعة', 'ثمانية', 'تسعة', 'عشرة', 'أحد', 'اثنا', 'اثني', 'إحدى', 'ثلاث', 'أربع', 'خمس', 'ست', 'سبع', 'ثماني', 'تسع', 'عشر', 'ثمان', 'سبت', 'أحد', 'اثنين', 'ثلاثاء', 'أربعاء', 'خميس', 'جمعة', 'أول', 'ثان', 'ثاني', 'ثالث', 'رابع', 'خامس', 'سادس', 'سابع', 'ثامن', 'تاسع', 'عاشر', 'حادي', 'أ', 'ب', 'ت', 'ث', 'ج', 'ح', 'خ', 'د', 'ذ', 'ر', 'ز', 'س', 'ش', 'ص', 'ض', 'ط', 'ظ', 'ع', 'غ', 'ف', 'ق', 'ك', 'ل', 'م', 'ن', 'ه', 'و', 'ي', 'ء', 'ى', 'آ', 'ؤ', 'ئ', 'أ', 'ة', 'ألف', 'باء', 'تاء', 'ثاء', 'جيم', 'حاء', 'خاء', 'دال', 'ذال', 'راء', 'زاي', 'سين', 'شين', 'صاد', 'ضاد', 'طاء', 'ظاء', 'عين', 'غين', 'فاء', 'قاف', 'كاف', 'لام', 'ميم', 'نون', 'هاء', 'واو', 'ياء', 'همزة', 'ي', 'نا', 'ك', 'كن', 'ه', 'إياه', 'إياها', 'إياهما', 'إياهم', 'إياهن', 'إياك', 'إياكما', 'إياكم', 'إياك', 'إياكن', 'إياي', 'إيانا', 'أولالك', 'تانِ', 'تانِك', 'تِه', 'تِي', 'تَيْنِ', 'ثمّ', 'ثمّة', 'ذانِ', 'ذِه', 'ذِي', 'ذَيْنِ', 'هَؤلاء', 'هَاتانِ', 'هَاتِه', 'هَاتِي', 'هَاتَيْنِ', 'هَذا', 'هَذانِ', 'هَذِه', 'هَذِي', 'هَذَيْنِ', 'الألى', 'الألاء', 'أل', 'أنّى', 'أيّ', 'ّأيّان', 'أنّى', 'أيّ', 'ّأيّان', 'ذيت', 'كأيّ', 'كأيّن', 'بضع', 'فلان', 'وا', 'آمينَ', 'آهِ', 'آهٍ', 'آهاً', 'أُفٍّ', 'أُفٍّ', 'أفٍّ', 'أمامك', 'أمامكَ', 'أوّهْ', 'إلَيْكَ', 'إلَيْكَ', 'إليكَ', 'إليكنّ', 'إيهٍ', 'بخٍ', 'بسّ', 'بَسْ', 'بطآن', 'بَلْهَ', 'حاي', 'حَذارِ', 'حيَّ', 'حيَّ', 'دونك', 'رويدك', 'سرعان', 'شتانَ', 'شَتَّانَ', 'صهْ', 'صهٍ', 'طاق', 'طَق', 'عَدَسْ', 'كِخ', 'مكانَك', 'مكانَك', 'مكانَك', 'مكانكم', 'مكانكما', 'مكانكنّ', 'نَخْ', 'هاكَ', 'هَجْ', 'هلم', 'هيّا', 'هَيْهات', 'وا', 'واهاً', 'وراءَك', 'وُشْكَانَ', 'وَيْ', 'يفعلان', 'تفعلان', 'يفعلون', 'تفعلون', 'تفعلين', 'اتخذ', 'ألفى', 'تخذ', 'ترك', 'تعلَّم', 'جعل', 'حجا', 'حبيب', 'خال', 'حسب', 'خال', 'درى', 'رأى', 'زعم', 'صبر', 'ظنَّ', 'عدَّ', 'علم', 'غادر', 'ذهب', 'وجد', 'ورد', 'وهب', 'أسكن', 'أطعم', 'أعطى', 'رزق', 'زود', 'سقى', 'كسا', 'أخبر', 'أرى', 'أعلم', 'أنبأ', 'حدَث', 'خبَّر', 'نبَّا', 'أفعل به', 'ما أفعله', 'بئس', 'ساء', 'طالما', 'قلما', 'لات', 'لكنَّ', 'ءَ', 'أجل', 'إذاً', 'أمّا', 'إمّا', 'إنَّ', 'أنًّ', 'أى', 'إى', 'أيا', 'ب', 'ثمَّ', 'جلل', 'جير', 'رُبَّ', 'س', 'علًّ', 'ف', 'كأنّ', 'كلَّا', 'كى', 'ل', 'لات', 'لعلَّ', 'لكنَّ', 'لكنَّ', 'م', 'نَّ', 'هلّا', 'وا', 'أل', 'إلّا', 'ت', 'ك', 'لمّا', 'ن', 'ه', 'و', 'ا', 'ي', 'تجاه', 'تلقاء', 'جميع', 'حسب', 'سبحان', 'شبه', 'لعمر', 'مثل', 'معاذ', 'أبو', 'أخو', 'حمو', 'فو', 'مئة', 'مئتان', 'ثلاثمئة', 'أربعمئة', 'خمسمئة', 'ستمئة', 'سبعمئة', 'ثمنمئة', 'تسعمئة', 'مائة', 'ثلاثمائة', 'أربعمائة', 'خمسمائة', 'ستمائة', 'سبعمائة', 'ثمانمئة', 'تسعمائة', 'عشرون', 'ثلاثون', 'اربعون', 'خمسون', 'ستون', 'سبعون', 'ثمانون', 'تسعون', 'عشرين', 'ثلاثين', 'اربعين', 'خمسين', 'ستين', 'سبعين', 'ثمانين', 'تسعين', 'بضع', 'نيف', 'أجمع', 'جميع', 'عامة', 'عين', 'نفس', 'لا سيما', 'أصلا', 'أهلا', 'أيضا', 'بؤسا', 'بعدا', 'بغتة', 'تعسا', 'حقا', 'حمدا', 'خلافا', 'خاصة', 'دواليك', 'سحقا', 'سرا', 'سمعا', 'صبرا', 'صدقا', 'صراحة', 'طرا', 'عجبا', 'عيانا', 'غالبا', 'فرادى', 'فضلا', 'قاطبة', 'كثيرا', 'لبيك', 'معاذ', 'أبدا', 'إزاء', 'أصلا', 'الآن', 'أمد', 'أمس', 'آنفا', 'آناء', 'أنّى', 'أول', 'أيّان', 'تارة', 'ثمّ', 'ثمّة', 'حقا', 'صباح', 'مساء', 'ضحوة', 'عوض', 'غدا', 'غداة', 'قطّ', 'كلّما', 'لدن', 'لمّا', 'مرّة', 'قبل', 'خلف', 'أمام', 'فوق', 'تحت', 'يمين', 'شمال', 'ارتدّ', 'استحال', 'أصبح', 'أضحى', 'آض', 'أمسى', 'انقلب', 'بات', 'تبدّل', 'تحوّل', 'حار', 'رجع', 'راح', 'صار', 'ظلّ', 'عاد', 'غدا', 'كان', 'ما انفك', 'ما برح', 'مادام', 'مازال', 'مافتئ', 'ابتدأ', 'أخذ', 'اخلولق', 'أقبل', 'انبرى', 'أنشأ', 'أوشك', 'جعل', 'حرى', 'شرع', 'طفق', 'علق', 'قام', 'كرب', 'كاد', 'هبّ']\n"
     ]
    }
   ],
   "source": [
    "stopwords_list = stopwords.words('arabic')\n",
    "print(stopwords_list)"
   ]
  },
  {
   "cell_type": "markdown",
   "id": "9abbc18f",
   "metadata": {},
   "source": [
    "### Removing stop words "
   ]
  },
  {
   "cell_type": "code",
   "execution_count": 14,
   "id": "cda76504",
   "metadata": {
    "colab": {
     "base_uri": "https://localhost:8080/",
     "height": 424
    },
    "id": "cda76504",
    "outputId": "e6932cd3-45e4-4625-f392-46e9b884c006"
   },
   "outputs": [
    {
     "data": {
      "text/html": [
       "<div>\n",
       "<style scoped>\n",
       "    .dataframe tbody tr th:only-of-type {\n",
       "        vertical-align: middle;\n",
       "    }\n",
       "\n",
       "    .dataframe tbody tr th {\n",
       "        vertical-align: top;\n",
       "    }\n",
       "\n",
       "    .dataframe thead th {\n",
       "        text-align: right;\n",
       "    }\n",
       "</style>\n",
       "<table border=\"1\" class=\"dataframe\">\n",
       "  <thead>\n",
       "    <tr style=\"text-align: right;\">\n",
       "      <th></th>\n",
       "      <th>text</th>\n",
       "      <th>sentiment</th>\n",
       "    </tr>\n",
       "  </thead>\n",
       "  <tbody>\n",
       "    <tr>\n",
       "      <th>0</th>\n",
       "      <td>أهنئ الدكتور أحمد جمال الدين القيادي بحزب مصر ...</td>\n",
       "      <td>POS</td>\n",
       "    </tr>\n",
       "    <tr>\n",
       "      <th>1</th>\n",
       "      <td>البرادعي يستقوى بامريكا مرةاخرى يرسل عصام العر...</td>\n",
       "      <td>NEG</td>\n",
       "    </tr>\n",
       "    <tr>\n",
       "      <th>2</th>\n",
       "      <td>الحرية والعدالة شاهد ليلة الاتحادية فيلم استقص...</td>\n",
       "      <td>OBJ</td>\n",
       "    </tr>\n",
       "    <tr>\n",
       "      <th>3</th>\n",
       "      <td>الوالدة اقولها بخاطري حشيشة تضحك اقولها ملل ال...</td>\n",
       "      <td>NEUTRAL</td>\n",
       "    </tr>\n",
       "    <tr>\n",
       "      <th>4</th>\n",
       "      <td>انتخبوا العرص انتخبوا البرص مرسى رئيسى اين رئي...</td>\n",
       "      <td>NEUTRAL</td>\n",
       "    </tr>\n",
       "    <tr>\n",
       "      <th>...</th>\n",
       "      <td>...</td>\n",
       "      <td>...</td>\n",
       "    </tr>\n",
       "    <tr>\n",
       "      <th>9688</th>\n",
       "      <td>والغاز مش مدعوم إنسان وماذا الأسمنت والحديد وا...</td>\n",
       "      <td>NEG</td>\n",
       "    </tr>\n",
       "    <tr>\n",
       "      <th>9689</th>\n",
       "      <td>اغلاق الساحات والميادين الكبرى لمنع صلاة العيد...</td>\n",
       "      <td>NEG</td>\n",
       "    </tr>\n",
       "    <tr>\n",
       "      <th>9690</th>\n",
       "      <td>الشروق الداخلية 400 مواطن تقدموا لأداء الحج وب...</td>\n",
       "      <td>OBJ</td>\n",
       "    </tr>\n",
       "    <tr>\n",
       "      <th>9691</th>\n",
       "      <td>هتحبك صحتها النوم علشان تقولها بحبك</td>\n",
       "      <td>POS</td>\n",
       "    </tr>\n",
       "    <tr>\n",
       "      <th>9692</th>\n",
       "      <td>شى كتبته غلط شى حسبته غلط فى الامتحانات</td>\n",
       "      <td>NEG</td>\n",
       "    </tr>\n",
       "  </tbody>\n",
       "</table>\n",
       "<p>9693 rows × 2 columns</p>\n",
       "</div>"
      ],
      "text/plain": [
       "                                                   text sentiment\n",
       "0     أهنئ الدكتور أحمد جمال الدين القيادي بحزب مصر ...       POS\n",
       "1     البرادعي يستقوى بامريكا مرةاخرى يرسل عصام العر...       NEG\n",
       "2     الحرية والعدالة شاهد ليلة الاتحادية فيلم استقص...       OBJ\n",
       "3     الوالدة اقولها بخاطري حشيشة تضحك اقولها ملل ال...   NEUTRAL\n",
       "4     انتخبوا العرص انتخبوا البرص مرسى رئيسى اين رئي...   NEUTRAL\n",
       "...                                                 ...       ...\n",
       "9688  والغاز مش مدعوم إنسان وماذا الأسمنت والحديد وا...       NEG\n",
       "9689  اغلاق الساحات والميادين الكبرى لمنع صلاة العيد...       NEG\n",
       "9690  الشروق الداخلية 400 مواطن تقدموا لأداء الحج وب...       OBJ\n",
       "9691                هتحبك صحتها النوم علشان تقولها بحبك       POS\n",
       "9692            شى كتبته غلط شى حسبته غلط فى الامتحانات       NEG\n",
       "\n",
       "[9693 rows x 2 columns]"
      ]
     },
     "execution_count": 14,
     "metadata": {},
     "output_type": "execute_result"
    }
   ],
   "source": [
    "data['text'] = data['text'].apply(lambda x: ' '.join([word for word in x.split() if word not in (stopwords_list)]))\n",
    "data"
   ]
  },
  {
   "cell_type": "markdown",
   "id": "3ba6bfb0",
   "metadata": {
    "id": "3ba6bfb0"
   },
   "source": [
    "- while we are building a topic modeling project means that we are working on unsupervised machine learning project, which leads us to abondon the column of targe, but if we changed the project to a supervised ML, we can do that following the steps of a calssication model "
   ]
  },
  {
   "cell_type": "code",
   "execution_count": 15,
   "id": "7a8a9a3d",
   "metadata": {
    "colab": {
     "base_uri": "https://localhost:8080/",
     "height": 424
    },
    "id": "7a8a9a3d",
    "outputId": "bbf682d6-3e37-453b-ecfc-670e1de689de"
   },
   "outputs": [
    {
     "data": {
      "text/html": [
       "<div>\n",
       "<style scoped>\n",
       "    .dataframe tbody tr th:only-of-type {\n",
       "        vertical-align: middle;\n",
       "    }\n",
       "\n",
       "    .dataframe tbody tr th {\n",
       "        vertical-align: top;\n",
       "    }\n",
       "\n",
       "    .dataframe thead th {\n",
       "        text-align: right;\n",
       "    }\n",
       "</style>\n",
       "<table border=\"1\" class=\"dataframe\">\n",
       "  <thead>\n",
       "    <tr style=\"text-align: right;\">\n",
       "      <th></th>\n",
       "      <th>text</th>\n",
       "      <th>index</th>\n",
       "    </tr>\n",
       "  </thead>\n",
       "  <tbody>\n",
       "    <tr>\n",
       "      <th>0</th>\n",
       "      <td>أهنئ الدكتور أحمد جمال الدين القيادي بحزب مصر ...</td>\n",
       "      <td>0</td>\n",
       "    </tr>\n",
       "    <tr>\n",
       "      <th>1</th>\n",
       "      <td>البرادعي يستقوى بامريكا مرةاخرى يرسل عصام العر...</td>\n",
       "      <td>1</td>\n",
       "    </tr>\n",
       "    <tr>\n",
       "      <th>2</th>\n",
       "      <td>الحرية والعدالة شاهد ليلة الاتحادية فيلم استقص...</td>\n",
       "      <td>2</td>\n",
       "    </tr>\n",
       "    <tr>\n",
       "      <th>3</th>\n",
       "      <td>الوالدة اقولها بخاطري حشيشة تضحك اقولها ملل ال...</td>\n",
       "      <td>3</td>\n",
       "    </tr>\n",
       "    <tr>\n",
       "      <th>4</th>\n",
       "      <td>انتخبوا العرص انتخبوا البرص مرسى رئيسى اين رئي...</td>\n",
       "      <td>4</td>\n",
       "    </tr>\n",
       "    <tr>\n",
       "      <th>...</th>\n",
       "      <td>...</td>\n",
       "      <td>...</td>\n",
       "    </tr>\n",
       "    <tr>\n",
       "      <th>9688</th>\n",
       "      <td>والغاز مش مدعوم إنسان وماذا الأسمنت والحديد وا...</td>\n",
       "      <td>9688</td>\n",
       "    </tr>\n",
       "    <tr>\n",
       "      <th>9689</th>\n",
       "      <td>اغلاق الساحات والميادين الكبرى لمنع صلاة العيد...</td>\n",
       "      <td>9689</td>\n",
       "    </tr>\n",
       "    <tr>\n",
       "      <th>9690</th>\n",
       "      <td>الشروق الداخلية 400 مواطن تقدموا لأداء الحج وب...</td>\n",
       "      <td>9690</td>\n",
       "    </tr>\n",
       "    <tr>\n",
       "      <th>9691</th>\n",
       "      <td>هتحبك صحتها النوم علشان تقولها بحبك</td>\n",
       "      <td>9691</td>\n",
       "    </tr>\n",
       "    <tr>\n",
       "      <th>9692</th>\n",
       "      <td>شى كتبته غلط شى حسبته غلط فى الامتحانات</td>\n",
       "      <td>9692</td>\n",
       "    </tr>\n",
       "  </tbody>\n",
       "</table>\n",
       "<p>9693 rows × 2 columns</p>\n",
       "</div>"
      ],
      "text/plain": [
       "                                                   text  index\n",
       "0     أهنئ الدكتور أحمد جمال الدين القيادي بحزب مصر ...      0\n",
       "1     البرادعي يستقوى بامريكا مرةاخرى يرسل عصام العر...      1\n",
       "2     الحرية والعدالة شاهد ليلة الاتحادية فيلم استقص...      2\n",
       "3     الوالدة اقولها بخاطري حشيشة تضحك اقولها ملل ال...      3\n",
       "4     انتخبوا العرص انتخبوا البرص مرسى رئيسى اين رئي...      4\n",
       "...                                                 ...    ...\n",
       "9688  والغاز مش مدعوم إنسان وماذا الأسمنت والحديد وا...   9688\n",
       "9689  اغلاق الساحات والميادين الكبرى لمنع صلاة العيد...   9689\n",
       "9690  الشروق الداخلية 400 مواطن تقدموا لأداء الحج وب...   9690\n",
       "9691                هتحبك صحتها النوم علشان تقولها بحبك   9691\n",
       "9692            شى كتبته غلط شى حسبته غلط فى الامتحانات   9692\n",
       "\n",
       "[9693 rows x 2 columns]"
      ]
     },
     "execution_count": 15,
     "metadata": {},
     "output_type": "execute_result"
    }
   ],
   "source": [
    "data_text = data[[\"text\"]]\n",
    "data_text[\"index\"] = data_text.index\n",
    "documents = data_text\n",
    "documents"
   ]
  },
  {
   "cell_type": "markdown",
   "id": "dd94c40c",
   "metadata": {
    "id": "dd94c40c"
   },
   "source": [
    "- Above the number two is the number of columns in our Dataset"
   ]
  },
  {
   "cell_type": "code",
   "execution_count": 16,
   "id": "c8eee27c",
   "metadata": {
    "colab": {
     "base_uri": "https://localhost:8080/",
     "height": 35
    },
    "id": "c8eee27c",
    "outputId": "313fa97a-f936-4846-bbd8-ba6e3a335de2"
   },
   "outputs": [
    {
     "data": {
      "text/plain": [
       "'أهنئ الدكتور أحمد جمال الدين القيادي بحزب مصر بمناسبة صدور أولى روايته'"
      ]
     },
     "execution_count": 16,
     "metadata": {},
     "output_type": "execute_result"
    }
   ],
   "source": [
    "# Checking The first row of the column text\n",
    "data[\"text\"][0]"
   ]
  },
  {
   "cell_type": "markdown",
   "id": "448d27e9",
   "metadata": {
    "id": "448d27e9"
   },
   "source": [
    "- The library used for the lemmatization in our case is [Qalsadi](https://pypi.org/project/qalsadi/)"
   ]
  },
  {
   "cell_type": "code",
   "execution_count": 17,
   "id": "5f9b6388",
   "metadata": {
    "id": "5f9b6388"
   },
   "outputs": [],
   "source": [
    "#stemmer = ISRIStemmer() We possibly can use IRISStemer(), but the results wasn't done perfectly, which is going to effect \n",
    "# The results, lemmatizer is well enough for our case\n",
    "def lemmatize_stemming(text):\n",
    "    return qalsadi.lemmatizer.Lemmatizer().lemmatize(text)\n",
    "def preprocess(text):\n",
    "    result = []\n",
    "    for token in gensim.utils.simple_preprocess(text):\n",
    "        if token not in stopwords_list and len(token) > 3:\n",
    "            emoji_pattern = re.compile(\"[\"\n",
    "          u\"\\U0001F600-\\U0001F64F\"  # emoticons\n",
    "          u\"\\U0001F300-\\U0001F5FF\"  # symbols & pictographs\n",
    "          u\"\\U0001F680-\\U0001F6FF\"  # transport & map symbols\n",
    "          u\"\\U0001F1E0-\\U0001F1FF\"  # flags (iOS)\n",
    "                            \"]+\", flags=re.UNICODE)\n",
    "            emoji_pattern.sub(r'', token)\n",
    "            result.append(lemmatize_stemming(token))\n",
    "    return result"
   ]
  },
  {
   "cell_type": "markdown",
   "id": "da66a7af",
   "metadata": {
    "id": "da66a7af"
   },
   "source": [
    "#### Sample lemmatization :"
   ]
  },
  {
   "cell_type": "code",
   "execution_count": 18,
   "id": "700ddbeb",
   "metadata": {
    "colab": {
     "base_uri": "https://localhost:8080/"
    },
    "id": "700ddbeb",
    "outputId": "71312705-4b00-429a-b45a-b93555d6631b"
   },
   "outputs": [
    {
     "name": "stdout",
     "output_type": "stream",
     "text": [
      "original document: \n",
      "['يازين', 'مضامير', 'اشتقنا', '😿']\n",
      "\n",
      "\n",
      " tokenized and lemmatized document: \n",
      "['يازين', 'مضامير', 'اشتاق']\n"
     ]
    }
   ],
   "source": [
    "doc_sample = documents[documents['index'] == 2026].values[0][0]\n",
    "\n",
    "print('original document: ')\n",
    "words = []\n",
    "for word in doc_sample.split(' '):\n",
    "    words.append(word)\n",
    "print(words)\n",
    "print('\\n\\n tokenized and lemmatized document: ')\n",
    "print(preprocess(doc_sample))\n"
   ]
  },
  {
   "cell_type": "markdown",
   "id": "42750139",
   "metadata": {
    "id": "42750139"
   },
   "source": [
    "### **Note:**\n",
    "- **In this next part I will be using only 10 samples instead of the whole dataset to speed up the process.**"
   ]
  },
  {
   "cell_type": "markdown",
   "id": "86dfb644",
   "metadata": {},
   "source": [
    "# Dropping missing values(Texts ) in the DataFrame if exist "
   ]
  },
  {
   "cell_type": "code",
   "execution_count": 19,
   "id": "780e4880",
   "metadata": {
    "id": "780e4880"
   },
   "outputs": [
    {
     "data": {
      "text/plain": [
       "text         0\n",
       "sentiment    0\n",
       "dtype: int64"
      ]
     },
     "execution_count": 19,
     "metadata": {},
     "output_type": "execute_result"
    }
   ],
   "source": [
    "data.isnull().sum()"
   ]
  },
  {
   "cell_type": "markdown",
   "id": "3150097b",
   "metadata": {},
   "source": [
    "- After the results provided above we got zero null Value.\n",
    "- It can be seen that this step isn't mainly important in such a kind of unsupervised learning "
   ]
  },
  {
   "cell_type": "code",
   "execution_count": 20,
   "id": "908edc3b",
   "metadata": {},
   "outputs": [
    {
     "data": {
      "text/html": [
       "<div>\n",
       "<style scoped>\n",
       "    .dataframe tbody tr th:only-of-type {\n",
       "        vertical-align: middle;\n",
       "    }\n",
       "\n",
       "    .dataframe tbody tr th {\n",
       "        vertical-align: top;\n",
       "    }\n",
       "\n",
       "    .dataframe thead th {\n",
       "        text-align: right;\n",
       "    }\n",
       "</style>\n",
       "<table border=\"1\" class=\"dataframe\">\n",
       "  <thead>\n",
       "    <tr style=\"text-align: right;\">\n",
       "      <th></th>\n",
       "      <th>text</th>\n",
       "      <th>index</th>\n",
       "    </tr>\n",
       "  </thead>\n",
       "  <tbody>\n",
       "    <tr>\n",
       "      <th>0</th>\n",
       "      <td>أهنئ الدكتور أحمد جمال الدين القيادي بحزب مصر ...</td>\n",
       "      <td>0</td>\n",
       "    </tr>\n",
       "    <tr>\n",
       "      <th>1</th>\n",
       "      <td>البرادعي يستقوى بامريكا مرةاخرى يرسل عصام العر...</td>\n",
       "      <td>1</td>\n",
       "    </tr>\n",
       "    <tr>\n",
       "      <th>2</th>\n",
       "      <td>الحرية والعدالة شاهد ليلة الاتحادية فيلم استقص...</td>\n",
       "      <td>2</td>\n",
       "    </tr>\n",
       "    <tr>\n",
       "      <th>3</th>\n",
       "      <td>الوالدة اقولها بخاطري حشيشة تضحك اقولها ملل ال...</td>\n",
       "      <td>3</td>\n",
       "    </tr>\n",
       "    <tr>\n",
       "      <th>4</th>\n",
       "      <td>انتخبوا العرص انتخبوا البرص مرسى رئيسى اين رئي...</td>\n",
       "      <td>4</td>\n",
       "    </tr>\n",
       "    <tr>\n",
       "      <th>5</th>\n",
       "      <td>امير عيد اللي فعلا يتقال ستريكر صريح كاريوكي ا...</td>\n",
       "      <td>5</td>\n",
       "    </tr>\n",
       "    <tr>\n",
       "      <th>6</th>\n",
       "      <td>أحكي قصة حدثت شاب الفتيات بينهم حب كبير حدثت غ...</td>\n",
       "      <td>6</td>\n",
       "    </tr>\n",
       "    <tr>\n",
       "      <th>7</th>\n",
       "      <td>أدعوكم لحضور الندوة الثقافية الأربعاء مركز اعد...</td>\n",
       "      <td>7</td>\n",
       "    </tr>\n",
       "    <tr>\n",
       "      <th>8</th>\n",
       "      <td>عودة جماعة الإخوان الحياة السياسية بنفس وضعها ...</td>\n",
       "      <td>8</td>\n",
       "    </tr>\n",
       "    <tr>\n",
       "      <th>9</th>\n",
       "      <td>علاج السكري اف نتشورال السعودية العراق اليمن م...</td>\n",
       "      <td>9</td>\n",
       "    </tr>\n",
       "  </tbody>\n",
       "</table>\n",
       "</div>"
      ],
      "text/plain": [
       "                                                text  index\n",
       "0  أهنئ الدكتور أحمد جمال الدين القيادي بحزب مصر ...      0\n",
       "1  البرادعي يستقوى بامريكا مرةاخرى يرسل عصام العر...      1\n",
       "2  الحرية والعدالة شاهد ليلة الاتحادية فيلم استقص...      2\n",
       "3  الوالدة اقولها بخاطري حشيشة تضحك اقولها ملل ال...      3\n",
       "4  انتخبوا العرص انتخبوا البرص مرسى رئيسى اين رئي...      4\n",
       "5  امير عيد اللي فعلا يتقال ستريكر صريح كاريوكي ا...      5\n",
       "6  أحكي قصة حدثت شاب الفتيات بينهم حب كبير حدثت غ...      6\n",
       "7  أدعوكم لحضور الندوة الثقافية الأربعاء مركز اعد...      7\n",
       "8  عودة جماعة الإخوان الحياة السياسية بنفس وضعها ...      8\n",
       "9  علاج السكري اف نتشورال السعودية العراق اليمن م...      9"
      ]
     },
     "execution_count": 20,
     "metadata": {},
     "output_type": "execute_result"
    }
   ],
   "source": [
    "documents = documents[:10]\n",
    "documents"
   ]
  },
  {
   "cell_type": "code",
   "execution_count": 21,
   "id": "0323542f",
   "metadata": {
    "colab": {
     "base_uri": "https://localhost:8080/"
    },
    "id": "0323542f",
    "outputId": "61af520d-ab3c-48e7-94e6-073c9b77cd99",
    "scrolled": false
   },
   "outputs": [
    {
     "name": "stdout",
     "output_type": "stream",
     "text": [
      "['هنأ', 'دكتور', 'حمد', 'جمال', 'دين', 'قياد', 'حزب', 'مناسب', 'صدور', 'أولى', 'رواية']\n",
      "['برادع', 'يستقوى', 'بامريكا', 'مرةاخرى', 'رسل', 'عصام', 'عرى', 'واشنطن', 'مقرف']\n",
      "['حر', 'عدال', 'شاهد', 'ليل', 'اتحاد', 'ألام', 'استقصاء', 'تناول', 'سرار', 'كواليس', 'تعرض', 'أول', 'حقيق']\n",
      "['والد', 'اقولها', 'خاطر', 'حشيش', 'ضحك', 'اقولها', 'الله', 'كيل', 'أعطى', 'محاضر', 'فسق', 'فجور', 'جنوب', 'شيش', 'يانبع', 'حنان']\n",
      "['انتخب', 'العرص', 'انتخب', 'برص', 'مرسى', 'رئيسى', 'رئيسى']\n",
      "['امير', 'لي', 'علا', 'يتقال', 'ستريكر', 'صريح', 'كاريوكي', 'سك']\n",
      "['حك', 'حدث', 'فت', 'بين', 'كبير', 'حدث', 'غلط', 'واحد', 'استمر', 'قصة', 'يتم']\n",
      "['دع', 'حضور', 'ندوة', 'ثقاف', 'أربعاء', 'مركز', 'اعداد', 'قادة', 'تفاصيل']\n",
      "['عود', 'جماع', 'إخوان', 'حياة', 'سياسة', 'نفس', 'وضع', 'سابق', 'مستحيل', 'والطرمخة', 'جرائم', 'ماضي', 'جعل', 'تقدم', 'شبر']\n",
      "['علاج', 'سكر', 'نتشورال', 'سعودي', 'عراق', 'يمن', 'كويت', 'عمان', 'سوري', 'ليبي']\n"
     ]
    }
   ],
   "source": [
    "for txt in documents['text']:\n",
    "  print(preprocess(txt))"
   ]
  },
  {
   "cell_type": "code",
   "execution_count": 22,
   "id": "effcf9d5",
   "metadata": {
    "id": "effcf9d5"
   },
   "outputs": [],
   "source": [
    "processed_docs = documents['text'].map(preprocess)"
   ]
  },
  {
   "cell_type": "code",
   "execution_count": 23,
   "id": "5c434987",
   "metadata": {
    "colab": {
     "base_uri": "https://localhost:8080/"
    },
    "id": "5c434987",
    "outputId": "5c047def-eadc-4d14-826c-88a0fa0da536"
   },
   "outputs": [
    {
     "data": {
      "text/plain": [
       "0    [هنأ, دكتور, حمد, جمال, دين, قياد, حزب, مناسب,...\n",
       "1    [برادع, يستقوى, بامريكا, مرةاخرى, رسل, عصام, ع...\n",
       "2    [حر, عدال, شاهد, ليل, اتحاد, ألام, استقصاء, تن...\n",
       "3    [والد, اقولها, خاطر, حشيش, ضحك, اقولها, الله, ...\n",
       "4       [انتخب, العرص, انتخب, برص, مرسى, رئيسى, رئيسى]\n",
       "5    [امير, لي, علا, يتقال, ستريكر, صريح, كاريوكي, سك]\n",
       "6    [حك, حدث, فت, بين, كبير, حدث, غلط, واحد, استمر...\n",
       "7    [دع, حضور, ندوة, ثقاف, أربعاء, مركز, اعداد, قا...\n",
       "8    [عود, جماع, إخوان, حياة, سياسة, نفس, وضع, سابق...\n",
       "9    [علاج, سكر, نتشورال, سعودي, عراق, يمن, كويت, ع...\n",
       "Name: text, dtype: object"
      ]
     },
     "execution_count": 23,
     "metadata": {},
     "output_type": "execute_result"
    }
   ],
   "source": [
    "processed_docs"
   ]
  },
  {
   "cell_type": "code",
   "execution_count": 24,
   "id": "510843e5",
   "metadata": {},
   "outputs": [
    {
     "data": {
      "text/plain": [
       "pandas.core.series.Series"
      ]
     },
     "execution_count": 24,
     "metadata": {},
     "output_type": "execute_result"
    }
   ],
   "source": [
    "type(processed_docs)"
   ]
  },
  {
   "cell_type": "markdown",
   "id": "27c9cf2e",
   "metadata": {
    "id": "27c9cf2e"
   },
   "source": [
    "### Bag of words:\n",
    "\n",
    "Create a dictionary from ‘processed_docs’ containing the number of times a word appears in the training set."
   ]
  },
  {
   "cell_type": "code",
   "execution_count": 25,
   "id": "b8051acb",
   "metadata": {
    "id": "b8051acb"
   },
   "outputs": [],
   "source": [
    "dictionary = gensim.corpora.Dictionary(processed_docs)"
   ]
  },
  {
   "cell_type": "code",
   "execution_count": 26,
   "id": "6572cd67",
   "metadata": {
    "colab": {
     "base_uri": "https://localhost:8080/"
    },
    "id": "6572cd67",
    "outputId": "c377b1f2-787a-479a-affe-2d2a17096381"
   },
   "outputs": [
    {
     "name": "stdout",
     "output_type": "stream",
     "text": [
      "Dictionary(105 unique tokens: ['أولى', 'جمال', 'حزب', 'حمد', 'دكتور']...)\n"
     ]
    }
   ],
   "source": [
    "print(dictionary)"
   ]
  },
  {
   "cell_type": "code",
   "execution_count": 27,
   "id": "d04db6c0",
   "metadata": {
    "colab": {
     "base_uri": "https://localhost:8080/"
    },
    "id": "d04db6c0",
    "outputId": "43b3876e-5ae8-4cd7-fd32-5836aa66ba81"
   },
   "outputs": [
    {
     "name": "stdout",
     "output_type": "stream",
     "text": [
      "أولى 0\n",
      "جمال 1\n",
      "حزب 2\n",
      "حمد 3\n",
      "دكتور 4\n",
      "دين 5\n",
      "رواية 6\n",
      "صدور 7\n",
      "قياد 8\n",
      "مناسب 9\n",
      "هنأ 10\n"
     ]
    }
   ],
   "source": [
    "count = 0\n",
    "for k, v in dictionary.iteritems():\n",
    "    print(v, k)\n",
    "    count += 1\n",
    "    if count > 10:\n",
    "        break"
   ]
  },
  {
   "cell_type": "markdown",
   "id": "c719bf76",
   "metadata": {},
   "source": [
    "\n",
    "- read more about filter_extremes (https://radimrehurek.com/gensim/corpora/dictionary.html#gensim.corpora.dictionary.Dictionary.filter_extremes)"
   ]
  },
  {
   "cell_type": "code",
   "execution_count": 28,
   "id": "719a3c9a",
   "metadata": {
    "colab": {
     "base_uri": "https://localhost:8080/"
    },
    "id": "719a3c9a",
    "outputId": "3fc59f96-f51f-4eff-907f-f86c8d423877"
   },
   "outputs": [
    {
     "data": {
      "text/plain": [
       "[(11, 1),\n",
       " (12, 1),\n",
       " (13, 1),\n",
       " (14, 1),\n",
       " (15, 1),\n",
       " (16, 1),\n",
       " (17, 1),\n",
       " (18, 1),\n",
       " (19, 1)]"
      ]
     },
     "execution_count": 28,
     "metadata": {},
     "output_type": "execute_result"
    }
   ],
   "source": [
    "bow_corpus = [dictionary.doc2bow(doc) for doc in processed_docs]\n",
    "\n",
    "bow_corpus[1]"
   ]
  },
  {
   "cell_type": "code",
   "execution_count": 29,
   "id": "ca98a1ac",
   "metadata": {},
   "outputs": [
    {
     "data": {
      "text/plain": [
       "list"
      ]
     },
     "execution_count": 29,
     "metadata": {},
     "output_type": "execute_result"
    }
   ],
   "source": [
    "type(bow_corpus)"
   ]
  },
  {
   "cell_type": "code",
   "execution_count": 30,
   "id": "524f3342",
   "metadata": {
    "colab": {
     "base_uri": "https://localhost:8080/"
    },
    "id": "524f3342",
    "outputId": "22c1a14f-3a23-421f-f732-842f1ee09708"
   },
   "outputs": [
    {
     "name": "stdout",
     "output_type": "stream",
     "text": [
      "Word 11 (\"بامريكا\") appears 1 time.\n",
      "Word 12 (\"برادع\") appears 1 time.\n",
      "Word 13 (\"رسل\") appears 1 time.\n",
      "Word 14 (\"عرى\") appears 1 time.\n",
      "Word 15 (\"عصام\") appears 1 time.\n",
      "Word 16 (\"مرةاخرى\") appears 1 time.\n",
      "Word 17 (\"مقرف\") appears 1 time.\n",
      "Word 18 (\"واشنطن\") appears 1 time.\n",
      "Word 19 (\"يستقوى\") appears 1 time.\n"
     ]
    }
   ],
   "source": [
    "# SAmple of Topic 01\n",
    "bow_doc_01 = bow_corpus[1]\n",
    "for i in range(len(bow_doc_01)):\n",
    "    print(\"Word {} (\\\"{}\\\") appears {} time.\".format(bow_doc_01[i][0], \n",
    "                                                     dictionary[bow_doc_01[i][0]], \n",
    "                                                     bow_doc_01[i][1]))"
   ]
  },
  {
   "cell_type": "markdown",
   "id": "63694388",
   "metadata": {
    "id": "63694388"
   },
   "source": [
    "- Read More about  [BAG OF WORDS](https://www.tutorialspoint.com/gensim/gensim_creating_a_bag_of_words_corpus.htm)"
   ]
  },
  {
   "cell_type": "markdown",
   "id": "6dfcb698",
   "metadata": {
    "id": "6dfcb698"
   },
   "source": [
    "### TF-IDF:\n",
    "\n"
   ]
  },
  {
   "cell_type": "code",
   "execution_count": 31,
   "id": "394e8064",
   "metadata": {
    "id": "394e8064"
   },
   "outputs": [],
   "source": [
    "\n",
    "tfidf = gensim.models.TfidfModel(bow_corpus)"
   ]
  },
  {
   "cell_type": "code",
   "execution_count": 32,
   "id": "1eff644e",
   "metadata": {
    "id": "1eff644e"
   },
   "outputs": [],
   "source": [
    "corpus_tfidf = tfidf[bow_corpus]"
   ]
  },
  {
   "cell_type": "code",
   "execution_count": 33,
   "id": "ae3e6956",
   "metadata": {},
   "outputs": [
    {
     "data": {
      "text/plain": [
       "gensim.interfaces.TransformedCorpus"
      ]
     },
     "execution_count": 33,
     "metadata": {},
     "output_type": "execute_result"
    }
   ],
   "source": [
    "type(corpus_tfidf)"
   ]
  },
  {
   "cell_type": "code",
   "execution_count": 34,
   "id": "8d0d5092",
   "metadata": {
    "colab": {
     "base_uri": "https://localhost:8080/"
    },
    "id": "8d0d5092",
    "outputId": "74bf3ff2-a2b7-4d64-8647-5d8731c40360"
   },
   "outputs": [
    {
     "name": "stdout",
     "output_type": "stream",
     "text": [
      "[(0, 0.3015113445777637),\n",
      " (1, 0.3015113445777637),\n",
      " (2, 0.3015113445777637),\n",
      " (3, 0.3015113445777637),\n",
      " (4, 0.3015113445777637),\n",
      " (5, 0.3015113445777637),\n",
      " (6, 0.3015113445777637),\n",
      " (7, 0.3015113445777637),\n",
      " (8, 0.3015113445777637),\n",
      " (9, 0.3015113445777637),\n",
      " (10, 0.3015113445777637)]\n"
     ]
    }
   ],
   "source": [
    "for doc in corpus_tfidf:\n",
    "    pprint(doc)\n",
    "    break"
   ]
  },
  {
   "cell_type": "code",
   "execution_count": 35,
   "id": "ed1d59a3",
   "metadata": {},
   "outputs": [],
   "source": [
    "documents = data['text'].values\n",
    "texts = [[word for word in str(document).split()] for document in documents]\n",
    "id2word = corpora.Dictionary(texts)\n",
    "corpus = [id2word.doc2bow(text) for text in texts]"
   ]
  },
  {
   "cell_type": "markdown",
   "id": "147b9d06",
   "metadata": {
    "id": "147b9d06"
   },
   "source": [
    "# Modeling Part:\n"
   ]
  },
  {
   "cell_type": "markdown",
   "id": "f2d42d3b",
   "metadata": {},
   "source": [
    "- In this section we are going to use the topic modeling algorithms and calculte the most important measure \"coherence\""
   ]
  },
  {
   "cell_type": "markdown",
   "id": "e4ea99ae",
   "metadata": {},
   "source": [
    "# 1- Latent Dirichlet Allocation( LDA)"
   ]
  },
  {
   "cell_type": "code",
   "execution_count": 36,
   "id": "742728b9",
   "metadata": {
    "id": "742728b9"
   },
   "outputs": [],
   "source": [
    "lda_model = gensim.models.LdaMulticore(bow_corpus, num_topics=10, id2word=dictionary, passes=2, workers=2)"
   ]
  },
  {
   "cell_type": "code",
   "execution_count": 37,
   "id": "34d5dc6c",
   "metadata": {
    "scrolled": false
   },
   "outputs": [
    {
     "name": "stdout",
     "output_type": "stream",
     "text": [
      "Topic: 0 \n",
      "Words: 0.020*\"عود\" + 0.020*\"نفس\" + 0.020*\"جرائم\" + 0.020*\"ماضي\" + 0.020*\"والطرمخة\" + 0.020*\"دكتور\" + 0.020*\"إخوان\" + 0.020*\"مناسب\" + 0.020*\"رواية\" + 0.020*\"سياسة\"\n",
      "Topic: 1 \n",
      "Words: 0.059*\"يتقال\" + 0.059*\"علا\" + 0.059*\"كاريوكي\" + 0.059*\"صريح\" + 0.059*\"ستريكر\" + 0.059*\"سك\" + 0.059*\"امير\" + 0.059*\"لي\" + 0.005*\"انتخب\" + 0.005*\"رئيسى\"\n",
      "Topic: 2 \n",
      "Words: 0.010*\"رئيسى\" + 0.010*\"مرسى\" + 0.010*\"انتخب\" + 0.010*\"حدث\" + 0.010*\"امير\" + 0.010*\"يستقوى\" + 0.010*\"سك\" + 0.010*\"لي\" + 0.010*\"واشنطن\" + 0.010*\"كاريوكي\"\n",
      "Topic: 3 \n",
      "Words: 0.010*\"رئيسى\" + 0.010*\"انتخب\" + 0.010*\"مرسى\" + 0.010*\"حدث\" + 0.010*\"لي\" + 0.010*\"واشنطن\" + 0.010*\"برادع\" + 0.010*\"برص\" + 0.010*\"صريح\" + 0.010*\"كواليس\"\n",
      "Topic: 4 \n",
      "Words: 0.010*\"مرسى\" + 0.010*\"رئيسى\" + 0.010*\"انتخب\" + 0.010*\"حدث\" + 0.010*\"لي\" + 0.010*\"كواليس\" + 0.010*\"امير\" + 0.010*\"يستقوى\" + 0.010*\"بامريكا\" + 0.010*\"ستريكر\"\n",
      "Topic: 5 \n",
      "Words: 0.010*\"انتخب\" + 0.010*\"رئيسى\" + 0.010*\"مرسى\" + 0.010*\"حدث\" + 0.010*\"امير\" + 0.010*\"يستقوى\" + 0.010*\"برادع\" + 0.010*\"سك\" + 0.010*\"ستريكر\" + 0.010*\"مقرف\"\n",
      "Topic: 6 \n",
      "Words: 0.074*\"حدث\" + 0.074*\"رئيسى\" + 0.074*\"انتخب\" + 0.039*\"حك\" + 0.039*\"واحد\" + 0.039*\"غلط\" + 0.039*\"العرص\" + 0.039*\"استمر\" + 0.039*\"كبير\" + 0.039*\"بين\"\n",
      "Topic: 7 \n",
      "Words: 0.053*\"اقولها\" + 0.028*\"استقصاء\" + 0.028*\"ضحك\" + 0.028*\"شيش\" + 0.028*\"تناول\" + 0.028*\"حنان\" + 0.028*\"ليل\" + 0.028*\"الله\" + 0.028*\"يانبع\" + 0.028*\"والد\"\n",
      "Topic: 8 \n",
      "Words: 0.010*\"انتخب\" + 0.010*\"رئيسى\" + 0.010*\"لي\" + 0.010*\"مرسى\" + 0.010*\"حدث\" + 0.010*\"سك\" + 0.010*\"قادة\" + 0.010*\"يستقوى\" + 0.010*\"كواليس\" + 0.010*\"واشنطن\"\n",
      "Topic: 9 \n",
      "Words: 0.054*\"علاج\" + 0.054*\"عمان\" + 0.054*\"ليبي\" + 0.054*\"سكر\" + 0.054*\"نتشورال\" + 0.054*\"يمن\" + 0.054*\"سعودي\" + 0.054*\"عراق\" + 0.054*\"سوري\" + 0.054*\"كويت\"\n"
     ]
    }
   ],
   "source": [
    "for idx, topic in lda_model.print_topics(-1):\n",
    "    print('Topic: {} \\nWords: {}'.format(idx, topic))"
   ]
  },
  {
   "cell_type": "markdown",
   "id": "13bb5635",
   "metadata": {},
   "source": [
    "### LDA Coherence with u_mass "
   ]
  },
  {
   "cell_type": "code",
   "execution_count": 38,
   "id": "81efd890",
   "metadata": {},
   "outputs": [
    {
     "name": "stdout",
     "output_type": "stream",
     "text": [
      "\n",
      "Coherence Score with u_mass:  -19.60954178406967\n"
     ]
    }
   ],
   "source": [
    "# Compute Coherence Score\n",
    "coherence_model_lda = CoherenceModel(model=lda_model, dictionary=dictionary, coherence='u_mass',corpus=bow_corpus)\n",
    "coherence_lda_uMass = coherence_model_lda.get_coherence()\n",
    "print('\\nCoherence Score with u_mass: ', coherence_lda_uMass)"
   ]
  },
  {
   "cell_type": "markdown",
   "id": "011c2e24",
   "metadata": {},
   "source": [
    "### LDA cohernece with c_v"
   ]
  },
  {
   "cell_type": "code",
   "execution_count": 39,
   "id": "c9a590d2",
   "metadata": {},
   "outputs": [
    {
     "name": "stdout",
     "output_type": "stream",
     "text": [
      "\n",
      "Coherence Score with c_v:  0.5088837962117232\n"
     ]
    }
   ],
   "source": [
    "\n",
    "# Compute Coherence Score with tfidf and u_mass parameter \n",
    "coherence_model_lda = CoherenceModel(model=lda_model, dictionary=dictionary, coherence='c_v', texts =processed_docs  )\n",
    "coherence_lda_cv = coherence_model_lda.get_coherence()\n",
    "print('\\nCoherence Score with c_v: ', coherence_lda_cv)"
   ]
  },
  {
   "cell_type": "markdown",
   "id": "8852055f",
   "metadata": {},
   "source": [
    "### LDA Cohernece with c_npmi"
   ]
  },
  {
   "cell_type": "code",
   "execution_count": 40,
   "id": "18066675",
   "metadata": {},
   "outputs": [
    {
     "name": "stdout",
     "output_type": "stream",
     "text": [
      "\n",
      "Coherence Score with c_npmi:  -0.42442102214656996\n"
     ]
    }
   ],
   "source": [
    "#corpus_tfidf\n",
    "# Compute Coherence Score with tfidf and u_mass parameter \n",
    "coherence_model_lda = CoherenceModel(model=lda_model, dictionary=dictionary, coherence='c_npmi', texts =processed_docs  )\n",
    "coherence_lda_npmi = coherence_model_lda.get_coherence()\n",
    "print('\\nCoherence Score with c_npmi: ', coherence_lda_npmi)"
   ]
  },
  {
   "cell_type": "markdown",
   "id": "894001e7",
   "metadata": {},
   "source": [
    "### LDA Cohernece with C_uci"
   ]
  },
  {
   "cell_type": "code",
   "execution_count": 41,
   "id": "929f67f3",
   "metadata": {},
   "outputs": [
    {
     "name": "stdout",
     "output_type": "stream",
     "text": [
      "\n",
      "Coherence Score:  -16.484590063874208\n"
     ]
    }
   ],
   "source": [
    "\n",
    "coherence_model_lda = CoherenceModel(model=lda_model, texts=processed_docs, dictionary=dictionary, coherence='c_uci')\n",
    "coherence_lda_uci = coherence_model_lda.get_coherence()\n",
    "print('\\nCoherence Score: ', coherence_lda_uci)"
   ]
  },
  {
   "cell_type": "markdown",
   "id": "86432d54",
   "metadata": {},
   "source": [
    "### Optimal number of topics LDA "
   ]
  },
  {
   "cell_type": "markdown",
   "id": "bc780556",
   "metadata": {},
   "source": [
    "The last step is to find the optimal number of topics.We need to build many LDA models with different values of the number of topics (k) and pick the one that gives the highest coherence value. Choosing a ‘k’ that marks the end of a rapid growth of topic coherence usually offers meaningful and interpretable topics. Picking an even higher value can sometimes provide more granular sub-topics. If you see the same keywords being repeated in multiple topics, it’s probably a sign that the ‘k’ is too large.\n",
    "\n",
    "read more about how to implement this step: https://datascience.oneoffcoder.com/topic-modeling-gensim.html"
   ]
  },
  {
   "cell_type": "code",
   "execution_count": 42,
   "id": "303155ca",
   "metadata": {},
   "outputs": [],
   "source": [
    "results = []\n",
    "\n",
    "for t in range(2,10):\n",
    "    lda_model = gensim.models.LdaMulticore(bow_corpus, id2word=dictionary, passes=2, workers=2,num_topics=t)\n",
    "    corpus_lda = lda_model[corpus_tfidf]\n",
    "\n",
    "    cm = CoherenceModel(model=lda_model, corpus=corpus_lda, coherence='u_mass')\n",
    "    score = cm.get_coherence()\n",
    "    tup = t, score\n",
    "    results.append(tup)\n",
    "\n",
    "results = pd.DataFrame(results, columns=['topic', 'score'])"
   ]
  },
  {
   "cell_type": "code",
   "execution_count": 43,
   "id": "6a6491b1",
   "metadata": {},
   "outputs": [
    {
     "data": {
      "text/html": [
       "<div>\n",
       "<style scoped>\n",
       "    .dataframe tbody tr th:only-of-type {\n",
       "        vertical-align: middle;\n",
       "    }\n",
       "\n",
       "    .dataframe tbody tr th {\n",
       "        vertical-align: top;\n",
       "    }\n",
       "\n",
       "    .dataframe thead th {\n",
       "        text-align: right;\n",
       "    }\n",
       "</style>\n",
       "<table border=\"1\" class=\"dataframe\">\n",
       "  <thead>\n",
       "    <tr style=\"text-align: right;\">\n",
       "      <th></th>\n",
       "      <th>topic</th>\n",
       "      <th>score</th>\n",
       "    </tr>\n",
       "  </thead>\n",
       "  <tbody>\n",
       "    <tr>\n",
       "      <th>0</th>\n",
       "      <td>2</td>\n",
       "      <td>-0.145426</td>\n",
       "    </tr>\n",
       "    <tr>\n",
       "      <th>1</th>\n",
       "      <td>3</td>\n",
       "      <td>0.000000</td>\n",
       "    </tr>\n",
       "    <tr>\n",
       "      <th>2</th>\n",
       "      <td>4</td>\n",
       "      <td>-0.508992</td>\n",
       "    </tr>\n",
       "    <tr>\n",
       "      <th>3</th>\n",
       "      <td>5</td>\n",
       "      <td>0.000000</td>\n",
       "    </tr>\n",
       "    <tr>\n",
       "      <th>4</th>\n",
       "      <td>6</td>\n",
       "      <td>-0.872559</td>\n",
       "    </tr>\n",
       "    <tr>\n",
       "      <th>5</th>\n",
       "      <td>7</td>\n",
       "      <td>-0.394729</td>\n",
       "    </tr>\n",
       "    <tr>\n",
       "      <th>6</th>\n",
       "      <td>8</td>\n",
       "      <td>-0.981628</td>\n",
       "    </tr>\n",
       "    <tr>\n",
       "      <th>7</th>\n",
       "      <td>9</td>\n",
       "      <td>-1.939019</td>\n",
       "    </tr>\n",
       "  </tbody>\n",
       "</table>\n",
       "</div>"
      ],
      "text/plain": [
       "   topic     score\n",
       "0      2 -0.145426\n",
       "1      3  0.000000\n",
       "2      4 -0.508992\n",
       "3      5  0.000000\n",
       "4      6 -0.872559\n",
       "5      7 -0.394729\n",
       "6      8 -0.981628\n",
       "7      9 -1.939019"
      ]
     },
     "execution_count": 43,
     "metadata": {},
     "output_type": "execute_result"
    }
   ],
   "source": [
    "results"
   ]
  },
  {
   "cell_type": "code",
   "execution_count": 44,
   "id": "7ddbe3c7",
   "metadata": {},
   "outputs": [
    {
     "data": {
      "image/png": "[encoded data removed]",
      "text/plain": [
       "<Figure size 720x360 with 1 Axes>"
      ]
     },
     "metadata": {
      "needs_background": "light"
     },
     "output_type": "display_data"
    }
   ],
   "source": [
    "plt.figure(figsize = (10,5))\n",
    "s = pd.Series(results.score.values, index=results.topic.values)\n",
    "plt.xlabel(\"number of topics\")\n",
    "plt.ylabel(\"Score\")\n",
    "_ = s.plot()"
   ]
  },
  {
   "cell_type": "code",
   "execution_count": 45,
   "id": "a13de7d0",
   "metadata": {},
   "outputs": [
    {
     "data": {
      "text/html": [
       "\n",
       "<link rel=\"stylesheet\" type=\"text/css\" href=\"https://cdn.jsdelivr.net/gh/bmabey/pyLDAvis@3.3.1/pyLDAvis/js/ldavis.v1.0.0.css\">\n",
       "\n",
       "\n",
       "<div id=\"ldavis_el626422721271014083939180194\"></div>\n",
       "<script type=\"text/javascript\">\n",
       "\n",
       "var ldavis_el626422721271014083939180194_data = {\"mdsDat\": {\"x\": [0.18607143635332116, -0.10038056266807248, -0.03520527155036547, -0.02247979399091333, -0.014948965276041858, -0.010656075567510555, -0.0045295977396682665, 0.0010643186963613144, 0.0010645117428895571], \"y\": [0.04784523018045653, 0.1474062978903729, -0.12889808744729384, -0.04453095384424659, -0.02241394639950543, -6.546170829019177e-05, -0.0033420503136111974, 0.0019993963260194567, 0.0019995753160983783], \"topics\": [1, 2, 3, 4, 5, 6, 7, 8, 9], \"cluster\": [1, 1, 1, 1, 1, 1, 1, 1, 1], \"Freq\": [17.6229746946729, 17.61095937886563, 15.79324176568431, 14.74444162464352, 13.830383988135205, 10.179773544659271, 8.36020128980751, 0.9290118567658274, 0.9290118567658274]}, \"tinfo\": {\"Term\": [\"\\u062d\\u062f\\u062b\", \"\\u0627\\u0642\\u0648\\u0644\\u0647\\u0627\", \"\\u0631\\u0626\\u064a\\u0633\\u0649\", \"\\u0627\\u0646\\u062a\\u062e\\u0628\", \"\\u0627\\u0639\\u062f\\u0627\\u062f\", \"\\u062f\\u0639\", \"\\u062d\\u0636\\u0648\\u0631\", \"\\u062b\\u0642\\u0627\\u0641\", \"\\u0642\\u0627\\u062f\\u0629\", \"\\u062a\\u0641\\u0627\\u0635\\u064a\\u0644\", \"\\u0645\\u0631\\u0643\\u0632\", \"\\u0623\\u0631\\u0628\\u0639\\u0627\\u0621\", \"\\u0646\\u062f\\u0648\\u0629\", \"\\u0648\\u0627\\u062d\\u062f\", \"\\u063a\\u0644\\u0637\", \"\\u0627\\u0633\\u062a\\u0645\\u0631\", \"\\u064a\\u062a\\u0645\", \"\\u0642\\u0635\\u0629\", \"\\u0628\\u064a\\u0646\", \"\\u0643\\u0628\\u064a\\u0631\", \"\\u062d\\u0643\", \"\\u0641\\u062a\", \"\\u0648\\u0627\\u0644\\u0637\\u0631\\u0645\\u062e\\u0629\", \"\\u0633\\u064a\\u0627\\u0633\\u0629\", \"\\u062d\\u064a\\u0627\\u0629\", \"\\u0645\\u0627\\u0636\\u064a\", \"\\u0645\\u0633\\u062a\\u062d\\u064a\\u0644\", \"\\u0633\\u0627\\u0628\\u0642\", \"\\u062a\\u0642\\u062f\\u0645\", \"\\u0639\\u0648\\u062f\", \"\\u0631\\u0626\\u064a\\u0633\\u0649\", \"\\u0627\\u0646\\u062a\\u062e\\u0628\", \"\\u0627\\u0633\\u062a\\u0642\\u0635\\u0627\\u0621\", \"\\u0644\\u064a\\u0644\", \"\\u0623\\u0648\\u0644\", \"\\u0634\\u0627\\u0647\\u062f\", \"\\u0627\\u062a\\u062d\\u0627\\u062f\", \"\\u0633\\u0631\\u0627\\u0631\", \"\\u062d\\u0642\\u064a\\u0642\", \"\\u0623\\u0644\\u0627\\u0645\", \"\\u0643\\u0648\\u0627\\u0644\\u064a\\u0633\", \"\\u062a\\u0639\\u0631\\u0636\", \"\\u062a\\u0646\\u0627\\u0648\\u0644\", \"\\u0639\\u062f\\u0627\\u0644\", \"\\u062d\\u0631\", \"\\u0627\\u0644\\u0639\\u0631\\u0635\", \"\\u0628\\u0631\\u0635\", \"\\u0645\\u0631\\u0633\\u0649\", \"\\u0646\\u062f\\u0648\\u0629\", \"\\u0645\\u0631\\u0643\\u0632\", \"\\u062a\\u0641\\u0627\\u0635\\u064a\\u0644\", \"\\u0623\\u0631\\u0628\\u0639\\u0627\\u0621\", \"\\u0642\\u0627\\u062f\\u0629\", \"\\u062b\\u0642\\u0627\\u0641\", \"\\u062f\\u0639\", \"\\u062d\\u0636\\u0648\\u0631\", \"\\u0627\\u0639\\u062f\\u0627\\u062f\", \"\\u0641\\u062a\", \"\\u062d\\u0643\", \"\\u0642\\u0635\\u0629\", \"\\u0643\\u0628\\u064a\\u0631\", \"\\u064a\\u062a\\u0642\\u0627\\u0644\", \"\\u062d\\u062f\\u062b\", \"\\u0631\\u0633\\u0644\", \"\\u0639\\u0635\\u0627\\u0645\", \"\\u0644\\u064a\\u0628\\u064a\", \"\\u0644\\u064a\", \"\\u064a\\u0633\\u062a\\u0642\\u0648\\u0649\", \"\\u0639\\u0631\\u0649\", \"\\u062d\\u0632\\u0628\", \"\\u0631\\u0648\\u0627\\u064a\\u0629\", \"\\u0642\\u064a\\u0627\\u062f\", \"\\u062c\\u0645\\u0627\\u0644\", \"\\u062d\\u0645\\u062f\", \"\\u0647\\u0646\\u0623\", \"\\u062f\\u064a\\u0646\", \"\\u0623\\u0648\\u0644\\u0649\", \"\\u0635\\u062f\\u0648\\u0631\", \"\\u0645\\u0646\\u0627\\u0633\\u0628\", \"\\u062d\\u0632\\u0628\", \"\\u062f\\u0643\\u062a\\u0648\\u0631\", \"\\u0648\\u0627\\u0634\\u0646\\u0637\\u0646\", \"\\u0628\\u0627\\u0645\\u0631\\u064a\\u0643\\u0627\", \"\\u0645\\u0642\\u0631\\u0641\", \"\\u0639\\u0631\\u0649\", \"\\u0645\\u0631\\u0629\\u0627\\u062e\\u0631\\u0649\", \"\\u0628\\u0631\\u0627\\u062f\\u0639\", \"\\u064a\\u0633\\u062a\\u0642\\u0648\\u0649\", \"\\u0639\\u0635\\u0627\\u0645\", \"\\u0631\\u0633\\u0644\", \"\\u0646\\u062f\\u0648\\u0629\", \"\\u0645\\u0631\\u0643\\u0632\", \"\\u062f\\u0639\", \"\\u062d\\u0636\\u0648\\u0631\", \"\\u0623\\u0631\\u0628\\u0639\\u0627\\u0621\", \"\\u062b\\u0642\\u0627\\u0641\", \"\\u0642\\u0627\\u062f\\u0629\", \"\\u062a\\u0641\\u0627\\u0635\\u064a\\u0644\", \"\\u0627\\u0639\\u062f\\u0627\\u062f\", \"\\u0641\\u062a\", \"\\u0645\\u0631\\u0633\\u0649\", \"\\u0627\\u0646\\u062a\\u062e\\u0628\", \"\\u0628\\u0631\\u0635\", \"\\u0631\\u0626\\u064a\\u0633\\u0649\", \"\\u062d\\u062f\\u062b\", \"\\u0635\\u0631\\u064a\\u062d\", \"\\u0644\\u064a\", \"\\u0644\\u064a\\u0628\\u064a\", \"\\u0627\\u0645\\u064a\\u0631\", \"\\u0643\\u0648\\u064a\\u062a\", \"\\u0639\\u0644\\u0627\\u062c\", \"\\u0633\\u0648\\u0631\\u064a\", \"\\u0633\\u0639\\u0648\\u062f\\u064a\", \"\\u0639\\u0644\\u0627\", \"\\u0633\\u0643\\u0631\", \"\\u064a\\u0645\\u0646\", \"\\u0639\\u0631\\u0627\\u0642\", \"\\u0639\\u0645\\u0627\\u0646\", \"\\u0646\\u062a\\u0634\\u0648\\u0631\\u0627\\u0644\", \"\\u0643\\u0627\\u0631\\u064a\\u0648\\u0643\\u064a\", \"\\u0633\\u062a\\u0631\\u064a\\u0643\\u0631\", \"\\u0633\\u0643\", \"\\u0635\\u0631\\u064a\\u062d\", \"\\u0644\\u064a\", \"\\u0627\\u0645\\u064a\\u0631\", \"\\u0644\\u064a\\u0628\\u064a\", \"\\u064a\\u062a\\u0642\\u0627\\u0644\", \"\\u0646\\u062f\\u0648\\u0629\", \"\\u0623\\u0631\\u0628\\u0639\\u0627\\u0621\", \"\\u0645\\u0631\\u0643\\u0632\", \"\\u062a\\u0641\\u0627\\u0635\\u064a\\u0644\", \"\\u062b\\u0642\\u0627\\u0641\", \"\\u062f\\u0639\", \"\\u0627\\u0639\\u062f\\u0627\\u062f\", \"\\u062d\\u0636\\u0648\\u0631\", \"\\u0642\\u0627\\u062f\\u0629\", \"\\u0641\\u062a\", \"\\u062d\\u0643\", \"\\u0628\\u064a\\u0646\", \"\\u0645\\u0631\\u0633\\u0649\", \"\\u0627\\u0646\\u062a\\u062e\\u0628\", \"\\u0631\\u0626\\u064a\\u0633\\u0649\", \"\\u0628\\u0631\\u0635\", \"\\u062d\\u062f\\u062b\", \"\\u0639\\u0631\\u0649\", \"\\u062f\\u0643\\u062a\\u0648\\u0631\", \"\\u0627\\u0642\\u0648\\u0644\\u0647\\u0627\", \"\\u0627\\u0642\\u0648\\u0644\\u0647\\u0627\", \"\\u0641\\u062c\\u0648\\u0631\", \"\\u0623\\u0639\\u0637\\u0649\", \"\\u0636\\u062d\\u0643\", \"\\u064a\\u0627\\u0646\\u0628\\u0639\", \"\\u0641\\u0633\\u0642\", \"\\u062c\\u0646\\u0648\\u0628\", \"\\u062d\\u0634\\u064a\\u0634\", \"\\u062e\\u0627\\u0637\\u0631\", \"\\u0648\\u0627\\u0644\\u062f\", \"\\u0645\\u062d\\u0627\\u0636\\u0631\", \"\\u0627\\u0644\\u0644\\u0647\", \"\\u0634\\u064a\\u0634\", \"\\u062d\\u0646\\u0627\\u0646\", \"\\u0643\\u064a\\u0644\", \"\\u0646\\u062f\\u0648\\u0629\", \"\\u0623\\u0631\\u0628\\u0639\\u0627\\u0621\", \"\\u062a\\u0641\\u0627\\u0635\\u064a\\u0644\", \"\\u0642\\u0627\\u062f\\u0629\", \"\\u0645\\u0631\\u0643\\u0632\", \"\\u062d\\u0636\\u0648\\u0631\", \"\\u062f\\u0639\", \"\\u062b\\u0642\\u0627\\u0641\", \"\\u0627\\u0639\\u062f\\u0627\\u062f\", \"\\u064a\\u062a\\u0645\", \"\\u0641\\u062a\", \"\\u0642\\u0635\\u0629\", \"\\u062d\\u0643\", \"\\u0643\\u0628\\u064a\\u0631\", \"\\u0628\\u064a\\u0646\", \"\\u0627\\u0646\\u062a\\u062e\\u0628\", \"\\u0645\\u0631\\u0633\\u0649\", \"\\u062d\\u062f\\u062b\", \"\\u0631\\u0626\\u064a\\u0633\\u0649\", \"\\u0628\\u0631\\u0635\", \"\\u0631\\u0633\\u0644\", \"\\u062f\\u0643\\u062a\\u0648\\u0631\", \"\\u0639\\u0631\\u0649\", \"\\u0627\\u0645\\u064a\\u0631\", \"\\u0635\\u062f\\u0648\\u0631\", \"\\u064a\\u0633\\u062a\\u0642\\u0648\\u0649\", \"\\u062d\\u0632\\u0628\", \"\\u0639\\u0635\\u0627\\u0645\", \"\\u0648\\u0627\\u0644\\u0637\\u0631\\u0645\\u062e\\u0629\", \"\\u062d\\u064a\\u0627\\u0629\", \"\\u0633\\u064a\\u0627\\u0633\\u0629\", \"\\u0645\\u0633\\u062a\\u062d\\u064a\\u0644\", \"\\u062c\\u0639\\u0644\", \"\\u0633\\u0627\\u0628\\u0642\", \"\\u0646\\u0641\\u0633\", \"\\u0645\\u0627\\u0636\\u064a\", \"\\u0639\\u0648\\u062f\", \"\\u062a\\u0642\\u062f\\u0645\", \"\\u0648\\u0636\\u0639\", \"\\u0634\\u0628\\u0631\", \"\\u062c\\u0645\\u0627\\u0639\", \"\\u0625\\u062e\\u0648\\u0627\\u0646\", \"\\u062c\\u0631\\u0627\\u0626\\u0645\", \"\\u0646\\u062f\\u0648\\u0629\", \"\\u0642\\u0627\\u062f\\u0629\", \"\\u0623\\u0631\\u0628\\u0639\\u0627\\u0621\", \"\\u0645\\u0631\\u0643\\u0632\", \"\\u0627\\u0639\\u062f\\u0627\\u062f\", \"\\u062b\\u0642\\u0627\\u0641\", \"\\u062a\\u0641\\u0627\\u0635\\u064a\\u0644\", \"\\u062f\\u0639\", \"\\u062d\\u0636\\u0648\\u0631\", \"\\u0643\\u0628\\u064a\\u0631\", \"\\u0641\\u062a\", \"\\u062d\\u0643\", \"\\u0642\\u0635\\u0629\", \"\\u063a\\u0644\\u0637\", \"\\u0627\\u0633\\u062a\\u0645\\u0631\", \"\\u0645\\u0631\\u0633\\u0649\", \"\\u0628\\u0631\\u0635\", \"\\u0627\\u0646\\u062a\\u062e\\u0628\", \"\\u0631\\u0626\\u064a\\u0633\\u0649\", \"\\u062d\\u062f\\u062b\", \"\\u0631\\u0633\\u0644\", \"\\u064a\\u062a\\u0642\\u0627\\u0644\", \"\\u0639\\u0635\\u0627\\u0645\", \"\\u062d\\u0632\\u0628\", \"\\u062f\\u0643\\u062a\\u0648\\u0631\", \"\\u0627\\u0644\\u0639\\u0631\\u0635\", \"\\u0633\\u0643\", \"\\u0635\\u062f\\u0648\\u0631\", \"\\u062d\\u062f\\u062b\", \"\\u063a\\u0644\\u0637\", \"\\u0648\\u0627\\u062d\\u062f\", \"\\u0627\\u0633\\u062a\\u0645\\u0631\", \"\\u064a\\u062a\\u0645\", \"\\u0642\\u0635\\u0629\", \"\\u0628\\u064a\\u0646\", \"\\u0643\\u0628\\u064a\\u0631\", \"\\u062d\\u0643\", \"\\u0641\\u062a\", \"\\u0646\\u062f\\u0648\\u0629\", \"\\u0623\\u0631\\u0628\\u0639\\u0627\\u0621\", \"\\u0645\\u0631\\u0643\\u0632\", \"\\u062d\\u0636\\u0648\\u0631\", \"\\u062a\\u0641\\u0627\\u0635\\u064a\\u0644\", \"\\u062b\\u0642\\u0627\\u0641\", \"\\u0642\\u0627\\u062f\\u0629\", \"\\u062f\\u0639\", \"\\u0627\\u0639\\u062f\\u0627\\u062f\", \"\\u0631\\u0633\\u0644\", \"\\u0639\\u0635\\u0627\\u0645\", \"\\u064a\\u0633\\u062a\\u0642\\u0648\\u0649\", \"\\u0628\\u0631\\u0627\\u062f\\u0639\", \"\\u0645\\u0631\\u0629\\u0627\\u062e\\u0631\\u0649\", \"\\u0639\\u0631\\u0649\", \"\\u0645\\u0642\\u0631\\u0641\", \"\\u0628\\u0627\\u0645\\u0631\\u064a\\u0643\\u0627\", \"\\u0648\\u0627\\u0634\\u0646\\u0637\\u0646\", \"\\u0625\\u062e\\u0648\\u0627\\u0646\", \"\\u062c\\u0631\\u0627\\u0626\\u0645\", \"\\u0627\\u0646\\u062a\\u062e\\u0628\", \"\\u0631\\u0626\\u064a\\u0633\\u0649\", \"\\u0645\\u0631\\u0633\\u0649\", \"\\u064a\\u062a\\u0642\\u0627\\u0644\", \"\\u0628\\u0631\\u0635\", \"\\u0644\\u064a\\u0628\\u064a\", \"\\u062f\\u0643\\u062a\\u0648\\u0631\", \"\\u0633\\u0639\\u0648\\u062f\\u064a\", \"\\u0627\\u0639\\u062f\\u0627\\u062f\", \"\\u062f\\u0639\", \"\\u062d\\u0636\\u0648\\u0631\", \"\\u062b\\u0642\\u0627\\u0641\", \"\\u0642\\u0627\\u062f\\u0629\", \"\\u062a\\u0641\\u0627\\u0635\\u064a\\u0644\", \"\\u0645\\u0631\\u0643\\u0632\", \"\\u0623\\u0631\\u0628\\u0639\\u0627\\u0621\", \"\\u0646\\u062f\\u0648\\u0629\", \"\\u0628\\u064a\\u0646\", \"\\u0641\\u062a\", \"\\u0643\\u0628\\u064a\\u0631\", \"\\u062d\\u0643\", \"\\u064a\\u062a\\u0645\", \"\\u0642\\u0635\\u0629\", \"\\u0627\\u0633\\u062a\\u0645\\u0631\", \"\\u0648\\u0627\\u062d\\u062f\", \"\\u063a\\u0644\\u0637\", \"\\u0648\\u0636\\u0639\", \"\\u0634\\u0628\\u0631\", \"\\u062c\\u0631\\u0627\\u0626\\u0645\", \"\\u062c\\u0645\\u0627\\u0639\", \"\\u0646\\u0641\\u0633\", \"\\u0633\\u0627\\u0628\\u0642\", \"\\u0625\\u062e\\u0648\\u0627\\u0646\", \"\\u062a\\u0642\\u062f\\u0645\", \"\\u0645\\u0633\\u062a\\u062d\\u064a\\u0644\", \"\\u0639\\u0648\\u062f\", \"\\u0648\\u0627\\u0644\\u0637\\u0631\\u0645\\u062e\\u0629\", \"\\u0645\\u0627\\u0636\\u064a\", \"\\u062c\\u0639\\u0644\", \"\\u0627\\u0646\\u062a\\u062e\\u0628\", \"\\u0631\\u0626\\u064a\\u0633\\u0649\", \"\\u0645\\u0631\\u0633\\u0649\", \"\\u062d\\u062f\\u062b\", \"\\u0628\\u0631\\u0635\", \"\\u064a\\u062a\\u0642\\u0627\\u0644\", \"\\u0627\\u0645\\u064a\\u0631\", \"\\u0633\\u062a\\u0631\\u064a\\u0643\\u0631\", \"\\u0639\\u0635\\u0627\\u0645\", \"\\u0639\\u0631\\u0649\", \"\\u064a\\u0633\\u062a\\u0642\\u0648\\u0649\", \"\\u0631\\u0633\\u0644\", \"\\u062f\\u0643\\u062a\\u0648\\u0631\", \"\\u0644\\u064a\", \"\\u0627\\u0644\\u0639\\u0631\\u0635\", \"\\u062d\\u0632\\u0628\", \"\\u0628\\u0631\\u0627\\u062f\\u0639\", \"\\u0623\\u0648\\u0644\\u0649\", \"\\u0635\\u0631\\u064a\\u062d\", \"\\u0639\\u0631\\u0627\\u0642\", \"\\u0646\\u062f\\u0648\\u0629\", \"\\u0645\\u0631\\u0643\\u0632\", \"\\u0623\\u0631\\u0628\\u0639\\u0627\\u0621\", \"\\u062a\\u0641\\u0627\\u0635\\u064a\\u0644\", \"\\u062b\\u0642\\u0627\\u0641\", \"\\u0642\\u0627\\u062f\\u0629\", \"\\u062f\\u0639\", \"\\u0627\\u0639\\u062f\\u0627\\u062f\", \"\\u062d\\u0636\\u0648\\u0631\", \"\\u0641\\u062a\", \"\\u0643\\u0628\\u064a\\u0631\", \"\\u0642\\u0635\\u0629\", \"\\u062d\\u0643\", \"\\u0628\\u064a\\u0646\", \"\\u0648\\u0627\\u062d\\u062f\", \"\\u0627\\u0633\\u062a\\u0645\\u0631\", \"\\u064a\\u062a\\u0645\", \"\\u063a\\u0644\\u0637\", \"\\u062c\\u0631\\u0627\\u0626\\u0645\", \"\\u0634\\u0628\\u0631\", \"\\u0625\\u062e\\u0648\\u0627\\u0646\", \"\\u062a\\u0642\\u062f\\u0645\", \"\\u0648\\u0636\\u0639\", \"\\u0633\\u0627\\u0628\\u0642\", \"\\u0633\\u064a\\u0627\\u0633\\u0629\", \"\\u062c\\u0645\\u0627\\u0639\", \"\\u0645\\u0627\\u0636\\u064a\", \"\\u0646\\u0641\\u0633\", \"\\u0639\\u0648\\u062f\", \"\\u0648\\u0627\\u0644\\u0637\\u0631\\u0645\\u062e\\u0629\", \"\\u0627\\u0646\\u062a\\u062e\\u0628\", \"\\u0645\\u0631\\u0633\\u0649\", \"\\u0628\\u0631\\u0635\", \"\\u062d\\u062f\\u062b\", \"\\u0631\\u0626\\u064a\\u0633\\u0649\", \"\\u062f\\u0643\\u062a\\u0648\\u0631\", \"\\u064a\\u062a\\u0642\\u0627\\u0644\", \"\\u0639\\u0631\\u0649\", \"\\u0633\\u0643\", \"\\u0627\\u0645\\u064a\\u0631\", \"\\u064a\\u0633\\u062a\\u0642\\u0648\\u0649\", \"\\u0627\\u0642\\u0648\\u0644\\u0647\\u0627\", \"\\u0639\\u0635\\u0627\\u0645\", \"\\u0631\\u0633\\u0644\", \"\\u062d\\u0632\\u0628\", \"\\u0645\\u0642\\u0631\\u0641\", \"\\u0645\\u0646\\u0627\\u0633\\u0628\", \"\\u0644\\u064a\\u0628\\u064a\", \"\\u0644\\u064a\", \"\\u0635\\u0631\\u064a\\u062d\", \"\\u0623\\u0648\\u0644\\u0649\", \"\\u064a\\u0645\\u0646\", \"\\u0639\\u0631\\u0627\\u0642\", \"\\u0639\\u0645\\u0627\\u0646\", \"\\u0646\\u062f\\u0648\\u0629\", \"\\u0623\\u0631\\u0628\\u0639\\u0627\\u0621\", \"\\u0645\\u0631\\u0643\\u0632\", \"\\u062b\\u0642\\u0627\\u0641\", \"\\u062a\\u0641\\u0627\\u0635\\u064a\\u0644\", \"\\u062d\\u0636\\u0648\\u0631\", \"\\u062f\\u0639\", \"\\u0627\\u0639\\u062f\\u0627\\u062f\", \"\\u0642\\u0627\\u062f\\u0629\", \"\\u0641\\u062a\", \"\\u062d\\u0643\", \"\\u0628\\u064a\\u0646\", \"\\u0642\\u0635\\u0629\", \"\\u0643\\u0628\\u064a\\u0631\", \"\\u063a\\u0644\\u0637\", \"\\u0648\\u0627\\u062d\\u062f\", \"\\u064a\\u062a\\u0645\", \"\\u0627\\u0633\\u062a\\u0645\\u0631\", \"\\u0634\\u0628\\u0631\", \"\\u062a\\u0642\\u062f\\u0645\", \"\\u062c\\u0645\\u0627\\u0639\", \"\\u0645\\u0627\\u0636\\u064a\", \"\\u0639\\u0648\\u062f\", \"\\u0648\\u0636\\u0639\", \"\\u0645\\u0633\\u062a\\u062d\\u064a\\u0644\", \"\\u062c\\u0631\\u0627\\u0626\\u0645\", \"\\u0625\\u062e\\u0648\\u0627\\u0646\", \"\\u0646\\u0641\\u0633\", \"\\u0633\\u064a\\u0627\\u0633\\u0629\", \"\\u0633\\u0627\\u0628\\u0642\", \"\\u0648\\u0627\\u0644\\u0637\\u0631\\u0645\\u062e\\u0629\", \"\\u0627\\u0646\\u062a\\u062e\\u0628\", \"\\u0631\\u0626\\u064a\\u0633\\u0649\", \"\\u0628\\u0631\\u0635\", \"\\u0645\\u0631\\u0633\\u0649\", \"\\u062d\\u0632\\u0628\", \"\\u062d\\u062f\\u062b\", \"\\u064a\\u062a\\u0642\\u0627\\u0644\", \"\\u0644\\u064a\", \"\\u0644\\u064a\\u0628\\u064a\", \"\\u064a\\u0633\\u062a\\u0642\\u0648\\u0649\", \"\\u0628\\u0627\\u0645\\u0631\\u064a\\u0643\\u0627\", \"\\u0628\\u0631\\u0627\\u062f\\u0639\", \"\\u0639\\u0635\\u0627\\u0645\", \"\\u0645\\u0646\\u0627\\u0633\\u0628\", \"\\u0639\\u0644\\u0627\", \"\\u0639\\u0631\\u0649\", \"\\u062f\\u064a\\u0646\", \"\\u0627\\u0642\\u0648\\u0644\\u0647\\u0627\", \"\\u0639\\u0631\\u0627\\u0642\", \"\\u062f\\u0643\\u062a\\u0648\\u0631\", \"\\u0631\\u0633\\u0644\", \"\\u0627\\u0645\\u064a\\u0631\", \"\\u0646\\u062a\\u0634\\u0648\\u0631\\u0627\\u0644\", \"\\u0627\\u0644\\u0639\\u0631\\u0635\"], \"Freq\": [1.0, 1.0, 1.0, 1.0, 0.0, 0.0, 0.0, 0.0, 0.0, 0.0, 0.0, 0.0, 0.0, 0.0, 0.0, 0.0, 0.0, 0.0, 0.0, 0.0, 0.0, 0.0, 1.0, 1.0, 1.0, 1.0, 1.0, 1.0, 1.0, 1.0, 1.2805837758376013, 1.2805720401185245, 0.6739989483257993, 0.6739982327331727, 0.673997731818334, 0.6739965868701314, 0.6739956565997168, 0.6739955850404542, 0.6739954419219288, 0.6739952272441408, 0.6739945116515142, 0.6739929373477356, 0.6739927942292103, 0.6739927942292103, 0.673990504332805, 0.6739900034179664, 0.6739791979693043, 0.6739712548911487, 0.06740368210655637, 0.06740334220005872, 0.06740323933361865, 0.06740286364748967, 0.0674024924338146, 0.06740225986621094, 0.06740221514167179, 0.06740218383449437, 0.06740202282615337, 0.06740239851228236, 0.06740250137872243, 0.06740251032363026, 0.06740242981945976, 0.06740379391790428, 0.06740377602808861, 0.0674034987359458, 0.06740345401140663, 0.0674032795857039, 0.06740318119171773, 0.06740310963245506, 0.06740305596300807, 0.06740304254564632, 0.6751669953074835, 0.6751667807760624, 0.6751649930142206, 0.6751647069723259, 0.6751628477000104, 0.6751620610848, 0.6751622756162211, 0.6751614890010107, 0.6751610599381687, 0.6751569838411693, 0.6751564832678536, 0.6722709641446821, 0.6715934024066323, 0.6708721477691684, 0.670615854231525, 0.670358845589145, 0.6695433401473803, 0.6687376316405088, 0.6683609144652005, 0.6676466678541565, 0.06752005515972544, 0.06752005069032084, 0.06751973783199852, 0.06751966185212024, 0.06751955905581433, 0.06751959034164656, 0.06751956352521894, 0.0675194205042716, 0.06751936240201174, 0.06752041718149841, 0.0675220708612021, 0.06752161051252782, 0.06752106524516607, 0.06752106524516607, 0.06752102055112003, 0.06752081942791283, 0.06752050656959051, 0.06752038142626157, 0.06752032779340632, 0.6447366123786653, 0.6447360993425836, 0.6447362917311142, 0.6447346243638484, 0.6447344319753178, 0.6447341113277667, 0.6447336624211951, 0.6447328287375623, 0.644733021126093, 0.6447323798309907, 0.6447327004785418, 0.6447322515719702, 0.6447316744063782, 0.6447311613702965, 0.6447301994276432, 0.6447300711686228, 0.6447277625062547, 0.6447268646931117, 0.0644770480776251, 0.06447703605334193, 0.06447704006143631, 0.06447685168100004, 0.06447669135722449, 0.06447648694441066, 0.06447637471776776, 0.06447627451540805, 0.06447620236970905, 0.06447724046615576, 0.06447687973766077, 0.06447659917105354, 0.06447896394674295, 0.06447849900779384, 0.06447839880543413, 0.06447760520274515, 0.06447755309751808, 0.06447720439330626, 0.06447698394811487, 0.06447691180241587, 1.226319328244291, 0.6454327127081345, 0.6454318745171111, 0.6454307968429382, 0.6454306771013635, 0.6454303178766392, 0.6454298987811274, 0.6454295994271905, 0.6454293599440409, 0.6454288211069545, 0.6454291803316788, 0.6454281026575058, 0.6454281026575058, 0.6454273842080572, 0.6454262466630969, 0.06454671833139715, 0.06454644891285391, 0.06454585020498006, 0.06454582026958637, 0.06454566310876948, 0.06454563317337579, 0.06454545356101364, 0.06454537123868098, 0.06454530388404518, 0.06454585020498006, 0.06454561820567895, 0.06454568556031476, 0.06454566310876948, 0.06454567059261791, 0.0645454086579231, 0.06454924038831575, 0.06454704013687934, 0.06454682310527507, 0.06454676323448769, 0.06454671084754873, 0.06454648633209603, 0.06454635162282442, 0.06454620942970438, 0.06454619446200753, 0.0645461196235233, 0.06454609717197803, 0.06454608968812961, 0.06454605975273592, 0.6281221810500385, 0.6281219564132566, 0.6281211140253247, 0.6281209455477382, 0.6281208893885428, 0.6281203277965881, 0.6281202154781972, 0.6281201031598063, 0.628119822363829, 0.6281191484534834, 0.628119092294288, 0.6281184745431379, 0.6281188114983106, 0.6281185868615288, 0.6281184745431379, 0.06281519033042379, 0.06281521841002152, 0.0628149797334408, 0.0628148112558544, 0.06281460767877084, 0.06281452343997765, 0.06281446728078219, 0.06281438304198898, 0.06281413734550884, 0.0628148744349493, 0.0628147270170612, 0.06281451642007822, 0.06281449536037992, 0.06281455853947482, 0.06281453045987709, 0.06281737351914746, 0.06281653815111493, 0.06281636967352854, 0.06281592741986425, 0.06281569576318297, 0.06281552026569714, 0.06281547814630054, 0.06281536582790961, 0.06281519033042379, 0.06281512715132889, 0.06281512013142945, 0.06281509907173116, 0.06281501483293796, 1.029951675208598, 0.5420828465595032, 0.5420826398812603, 0.5420824332030174, 0.5420814824831001, 0.5420791676867794, 0.5420790436798337, 0.542078919672888, 0.5420779276173221, 0.5420753234714615, 0.054211429265416125, 0.05421102624284246, 0.054210897068940646, 0.05421063872113701, 0.054210607719400575, 0.05421059221853236, 0.05421023053160728, 0.05421010652466153, 0.05421006518901295, 0.060240564296155465, 0.05966703217209297, 0.05936525610267071, 0.05872081267346736, 0.05806826229018605, 0.057856892451166694, 0.0576544407783287, 0.057076759588539874, 0.05653385201311988, 0.054210421708981965, 0.05421025636638764, 0.05421372856086845, 0.05421226114534382, 0.05421215263926629, 0.054211289757602164, 0.05421125875586573, 0.054211217420217145, 0.05421113991587606, 0.05421097457328174, 0.4899166054791399, 0.4899156889059756, 0.4899156889059756, 0.4899146025970401, 0.48991490812142824, 0.4899132107637166, 0.48991175103608453, 0.48991117393446254, 0.4899078131661935, 0.048994026664564067, 0.048993822981638666, 0.048993907849524246, 0.04899365748926178, 0.048993678706233175, 0.04899361505531898, 0.048993606568530426, 0.04899348775349061, 0.048993318017719445, 0.04899352594403912, 0.04899349199688489, 0.04899348351009633, 0.04899347926670205, 0.04899349199688489, 0.048993475023307774, 0.048993343478085115, 0.048993326504508, 0.048993373181845074, 0.048993318017719445, 0.04899333923469084, 0.04899329255735377, 0.04899330953093088, 0.04899590648822975, 0.04899580889016132, 0.04899547366201327, 0.04899464195673455, 0.048994472220963384, 0.04899442554362631, 0.048994417056837755, 0.04899441281344347, 0.04899436189271212, 0.048994344919135006, 0.048994302485192216, 0.04899428126822082, 0.04899418791354668, 0.04899414547960389, 0.048994098802266815, 0.04899409031547825, 0.048994026664564067, 0.04899397150043844, 0.048993941796678486, 0.04899393330988992, 0.009644196527884676, 0.009644098447706936, 0.00964407769997703, 0.009644080529212926, 0.009644071098426604, 0.009644050350696699, 0.009644025830652263, 0.009644010741394149, 0.009644006969079622, 0.009644146544717173, 0.009644050350696699, 0.00964403714759585, 0.009644029602966793, 0.009644009798315518, 0.009643982449035186, 0.00964396170130528, 0.00964395698591212, 0.009643946612047167, 0.009644010741394149, 0.009643991879821508, 0.009643995652136035, 0.009643987164428347, 0.009643972075170234, 0.009643973018248864, 0.009643973961327497, 0.009643965473619807, 0.009643950384361694, 0.009643944725889902, 0.009643941896654006, 0.009643946612047167, 0.00964455961315804, 0.009644271974175245, 0.009644263486467557, 0.009644240852580387, 0.009644198414041941, 0.009644156918582128, 0.009644152203188967, 0.009644140886245382, 0.009644121081594107, 0.009644114480043682, 0.00964411353696505, 0.00964411353696505, 0.009644107878493258, 0.009644100333864201, 0.009644092789235144, 0.009644090903077879, 0.009644084301527455, 0.009644082415370191, 0.009644080529212926, 0.009644071098426604, 0.009644070155347973, 0.009644068269190708, 0.009644066383033445, 0.009644062610718917, 0.009644139943166749, 0.009644109764650521, 0.009644073927662502, 0.009644044692224907, 0.009644030546045424, 0.009644018286023206, 0.009643993765978772, 0.009643982449035186, 0.009643967359777073, 0.00964413145545906, 0.009644051293775331, 0.009644051293775331, 0.009644030546045424, 0.009644017342944575, 0.009643984335192451, 0.009643976790563395, 0.009643952270518959, 0.009643937181260845, 0.009643996595214668, 0.009643995652136035, 0.009643988107506978, 0.009643983392113819, 0.009643973018248864, 0.009643949441283063, 0.009643955099754855, 0.009643941896654006, 0.00964394001049674, 0.00964394001049674, 0.009643938124339477, 0.009643923978159996, 0.009643929636631788, 0.009644624685583657, 0.009644393631318788, 0.009644316298870956, 0.009644298380376944, 0.009644207844828261, 0.009644199357120572, 0.009644156918582128, 0.00964413617085222, 0.00964413145545906, 0.009644130512380429, 0.009644121081594107, 0.009644121081594107, 0.009644094675392408, 0.009644090903077879, 0.009644089016920616, 0.009644086187684718, 0.00964407769997703, 0.009644068269190708, 0.009644068269190708, 0.009644067326112078, 0.009644066383033445, 0.00964405506608986, 0.00964405506608986, 0.009644053179932595], \"Total\": [1.0, 1.0, 1.0, 1.0, 0.0, 0.0, 0.0, 0.0, 0.0, 0.0, 0.0, 0.0, 0.0, 0.0, 0.0, 0.0, 0.0, 0.0, 0.0, 0.0, 0.0, 0.0, 1.0, 1.0, 1.0, 1.0, 1.0, 1.0, 1.0, 1.0, 1.6624425926234192, 1.66243657904853, 1.0558436610897635, 1.055842903844409, 1.0558429461339693, 1.0558425384797998, 1.0558417408113199, 1.055841723222383, 1.0558416293912387, 1.055841694364279, 1.0558412808573223, 1.055840354684657, 1.0558402373764975, 1.0558404704747542, 1.0558395544543855, 1.055840703113927, 1.0558354281780467, 1.055832900010952, 0.8901702729083889, 0.8901717277968345, 0.8901717585630281, 0.8901712750448731, 0.8901724533718598, 0.8901717468499646, 0.8901720915483519, 0.8901722436031227, 0.8901723353673311, 0.937117825835953, 0.9371194024822067, 0.9371195881415999, 0.9371195714276233, 1.0295059110565605, 1.4249996259202182, 1.0554117605916564, 1.055552094057451, 1.0295057019355376, 1.0295071225061243, 1.0556263712750054, 1.0559967330957192, 1.0568913229169439, 1.0568963531810613, 1.0568961343546839, 1.0568951911322222, 1.056895155157168, 1.0568946539092574, 1.0568936169359924, 1.0568940830347457, 1.0568936922476149, 1.056893255736947, 1.0568913229169439, 1.0568915048302536, 1.0563253747897594, 1.0561906061353625, 1.056048311377516, 1.0559967330957192, 1.0559477621800115, 1.055786163987648, 1.0556263712750054, 1.055552094057451, 1.0554117605916564, 0.8901702729083889, 0.8901717277968345, 0.8901720915483519, 0.8901722436031227, 0.8901712750448731, 0.8901717468499646, 0.8901724533718598, 0.8901717585630281, 0.8901723353673311, 0.937117825835953, 1.055832900010952, 1.66243657904853, 1.0558354281780467, 1.6624425926234192, 1.4249996259202182, 1.0295079318433336, 1.0295071225061243, 1.0295057019355376, 1.029507329885887, 1.0295099139895276, 1.0295091489104011, 1.0295095768480855, 1.0295089104791866, 1.029508698488901, 1.0295083055136276, 1.0295081312736807, 1.0295077121046947, 1.0295080454353875, 1.0295077952770304, 1.0295085115735065, 1.0295084368124143, 1.0295077493150315, 1.0295079318433336, 1.0295071225061243, 1.029507329885887, 1.0295057019355376, 1.0295059110565605, 0.8901702729083889, 0.8901712750448731, 0.8901717277968345, 0.8901717585630281, 0.8901717468499646, 0.8901720915483519, 0.8901723353673311, 0.8901722436031227, 0.8901724533718598, 0.937117825835953, 0.9371194024822067, 0.9371194856470472, 1.055832900010952, 1.66243657904853, 1.6624425926234192, 1.0558354281780467, 1.4249996259202182, 1.0559967330957192, 1.0568915048302536, 1.611025953823904, 1.611025953823904, 1.0301338220174387, 1.0301332469117819, 1.0301326266066217, 1.0301328146977387, 1.0301324485801762, 1.0301320247480734, 1.030132229483519, 1.0301320349422098, 1.030131651205413, 1.0301322252522023, 1.030131307041465, 1.030131330320124, 1.0301311514775815, 1.0301305119884574, 0.8901702729083889, 0.8901712750448731, 0.8901717585630281, 0.8901724533718598, 0.8901717277968345, 0.8901722436031227, 0.8901720915483519, 0.8901717468499646, 0.8901723353673311, 0.9371206809164631, 0.937117825835953, 0.9371195881415999, 0.9371194024822067, 0.9371195714276233, 0.9371194856470472, 1.66243657904853, 1.055832900010952, 1.4249996259202182, 1.6624425926234192, 1.0558354281780467, 1.0554117605916564, 1.0568915048302536, 1.0559967330957192, 1.029507329885887, 1.0568936922476149, 1.0556263712750054, 1.0568913229169439, 1.055552094057451, 1.0145544800095876, 1.0145546124644431, 1.0145542165993293, 1.0145542889019117, 1.0145542237884682, 1.0145536340325974, 1.0145538129602252, 1.0145537313753705, 1.0145535232222958, 1.0145531704276265, 1.0145531745172078, 1.0145524828776, 1.0145533335198926, 1.0145530308968147, 1.014552904958313, 0.8901702729083889, 0.8901724533718598, 0.8901712750448731, 0.8901717277968345, 0.8901723353673311, 0.8901717468499646, 0.8901717585630281, 0.8901720915483519, 0.8901722436031227, 0.9371195714276233, 0.937117825835953, 0.9371194024822067, 0.9371195881415999, 0.9371208218038156, 0.9371209661464455, 1.055832900010952, 1.0558354281780467, 1.66243657904853, 1.6624425926234192, 1.4249996259202182, 1.0554117605916564, 1.0295059110565605, 1.055552094057451, 1.0568913229169439, 1.0568915048302536, 1.055840703113927, 1.0295077493150315, 1.0568936922476149, 1.4249996259202182, 0.9371208218038156, 0.9371206289389937, 0.9371209661464455, 0.9371206809164631, 0.9371195881415999, 0.9371194856470472, 0.9371195714276233, 0.9371194024822067, 0.937117825835953, 0.8901702729083889, 0.8901712750448731, 0.8901717277968345, 0.8901722436031227, 0.8901717585630281, 0.8901717468499646, 0.8901724533718598, 0.8901720915483519, 0.8901723353673311, 1.0554117605916564, 1.055552094057451, 1.0556263712750054, 1.055786163987648, 1.0559477621800115, 1.0559967330957192, 1.056048311377516, 1.0561906061353625, 1.0563253747897594, 1.0145530308968147, 1.014552904958313, 1.66243657904853, 1.6624425926234192, 1.055832900010952, 1.0295059110565605, 1.0558354281780467, 1.0295057019355376, 1.0568915048302536, 1.0295089104791866, 0.8901723353673311, 0.8901720915483519, 0.8901722436031227, 0.8901717468499646, 0.8901724533718598, 0.8901717585630281, 0.8901717277968345, 0.8901712750448731, 0.8901702729083889, 0.9371194856470472, 0.937117825835953, 0.9371195714276233, 0.9371194024822067, 0.9371206809164631, 0.9371195881415999, 0.9371209661464455, 0.9371206289389937, 0.9371208218038156, 1.0145531745172078, 1.0145524828776, 1.014552904958313, 1.0145533335198926, 1.0145538129602252, 1.0145536340325974, 1.0145530308968147, 1.0145531704276265, 1.0145542889019117, 1.0145535232222958, 1.0145544800095876, 1.0145537313753705, 1.0145542237884682, 1.66243657904853, 1.6624425926234192, 1.055832900010952, 1.4249996259202182, 1.0558354281780467, 1.0295059110565605, 1.029507329885887, 1.0295084368124143, 1.055552094057451, 1.0559967330957192, 1.0556263712750054, 1.0554117605916564, 1.0568915048302536, 1.0295071225061243, 1.055840703113927, 1.0568913229169439, 1.055786163987648, 1.0568940830347457, 1.0295079318433336, 1.0295077121046947, 0.8901702729083889, 0.8901717277968345, 0.8901712750448731, 0.8901717585630281, 0.8901717468499646, 0.8901724533718598, 0.8901720915483519, 0.8901723353673311, 0.8901722436031227, 0.937117825835953, 0.9371195714276233, 0.9371195881415999, 0.9371194024822067, 0.9371194856470472, 0.9371206289389937, 0.9371209661464455, 0.9371206809164631, 0.9371208218038156, 1.014552904958313, 1.0145524828776, 1.0145530308968147, 1.0145531704276265, 1.0145531745172078, 1.0145536340325974, 1.0145542165993293, 1.0145533335198926, 1.0145537313753705, 1.0145538129602252, 1.0145535232222958, 1.0145544800095876, 1.66243657904853, 1.055832900010952, 1.0558354281780467, 1.4249996259202182, 1.6624425926234192, 1.0568915048302536, 1.0295059110565605, 1.0559967330957192, 1.0295077493150315, 1.029507329885887, 1.0556263712750054, 1.611025953823904, 1.055552094057451, 1.0554117605916564, 1.0568913229169439, 1.056048311377516, 1.056893255736947, 1.0295057019355376, 1.0295071225061243, 1.0295079318433336, 1.0568940830347457, 1.0295081312736807, 1.0295077121046947, 1.0295080454353875, 0.8901702729083889, 0.8901712750448731, 0.8901717277968345, 0.8901717468499646, 0.8901717585630281, 0.8901722436031227, 0.8901720915483519, 0.8901723353673311, 0.8901724533718598, 0.937117825835953, 0.9371194024822067, 0.9371194856470472, 0.9371195881415999, 0.9371195714276233, 0.9371208218038156, 0.9371206289389937, 0.9371206809164631, 0.9371209661464455, 1.0145524828776, 1.0145531704276265, 1.0145533335198926, 1.0145537313753705, 1.0145535232222958, 1.0145531745172078, 1.0145542889019117, 1.014552904958313, 1.0145530308968147, 1.0145538129602252, 1.0145542165993293, 1.0145536340325974, 1.0145544800095876, 1.66243657904853, 1.6624425926234192, 1.0558354281780467, 1.055832900010952, 1.0568913229169439, 1.4249996259202182, 1.0295059110565605, 1.0295071225061243, 1.0295057019355376, 1.0556263712750054, 1.0561906061353625, 1.055786163987648, 1.055552094057451, 1.056893255736947, 1.029508698488901, 1.0559967330957192, 1.0568936169359924, 1.611025953823904, 1.0295077121046947, 1.0568915048302536, 1.0554117605916564, 1.029507329885887, 1.0295077952770304, 1.055840703113927], \"Category\": [\"Default\", \"Default\", \"Default\", \"Default\", \"Default\", \"Default\", \"Default\", \"Default\", \"Default\", \"Default\", \"Default\", \"Default\", \"Default\", \"Default\", \"Default\", \"Default\", \"Default\", \"Default\", \"Default\", \"Default\", \"Default\", \"Default\", \"Default\", \"Default\", \"Default\", \"Default\", \"Default\", \"Default\", \"Default\", \"Default\", \"Topic1\", \"Topic1\", \"Topic1\", \"Topic1\", \"Topic1\", \"Topic1\", \"Topic1\", \"Topic1\", \"Topic1\", \"Topic1\", \"Topic1\", \"Topic1\", \"Topic1\", \"Topic1\", \"Topic1\", \"Topic1\", \"Topic1\", \"Topic1\", \"Topic1\", \"Topic1\", \"Topic1\", \"Topic1\", \"Topic1\", \"Topic1\", \"Topic1\", \"Topic1\", \"Topic1\", \"Topic1\", \"Topic1\", \"Topic1\", \"Topic1\", \"Topic1\", \"Topic1\", \"Topic1\", \"Topic1\", \"Topic1\", \"Topic1\", \"Topic1\", \"Topic1\", \"Topic1\", \"Topic2\", \"Topic2\", \"Topic2\", \"Topic2\", \"Topic2\", \"Topic2\", \"Topic2\", \"Topic2\", \"Topic2\", \"Topic2\", \"Topic2\", \"Topic2\", \"Topic2\", \"Topic2\", \"Topic2\", \"Topic2\", \"Topic2\", \"Topic2\", \"Topic2\", \"Topic2\", \"Topic2\", \"Topic2\", \"Topic2\", \"Topic2\", \"Topic2\", \"Topic2\", \"Topic2\", \"Topic2\", \"Topic2\", \"Topic2\", \"Topic2\", \"Topic2\", \"Topic2\", \"Topic2\", \"Topic2\", \"Topic2\", \"Topic2\", \"Topic2\", \"Topic2\", \"Topic3\", \"Topic3\", \"Topic3\", \"Topic3\", \"Topic3\", \"Topic3\", \"Topic3\", \"Topic3\", \"Topic3\", \"Topic3\", \"Topic3\", \"Topic3\", \"Topic3\", \"Topic3\", \"Topic3\", \"Topic3\", \"Topic3\", \"Topic3\", \"Topic3\", \"Topic3\", \"Topic3\", \"Topic3\", \"Topic3\", \"Topic3\", \"Topic3\", \"Topic3\", \"Topic3\", \"Topic3\", \"Topic3\", \"Topic3\", \"Topic3\", \"Topic3\", \"Topic3\", \"Topic3\", \"Topic3\", \"Topic3\", \"Topic3\", \"Topic3\", \"Topic4\", \"Topic4\", \"Topic4\", \"Topic4\", \"Topic4\", \"Topic4\", \"Topic4\", \"Topic4\", \"Topic4\", \"Topic4\", \"Topic4\", \"Topic4\", \"Topic4\", \"Topic4\", \"Topic4\", \"Topic4\", \"Topic4\", \"Topic4\", \"Topic4\", \"Topic4\", \"Topic4\", \"Topic4\", \"Topic4\", \"Topic4\", \"Topic4\", \"Topic4\", \"Topic4\", \"Topic4\", \"Topic4\", \"Topic4\", \"Topic4\", \"Topic4\", \"Topic4\", \"Topic4\", \"Topic4\", \"Topic4\", \"Topic4\", \"Topic4\", \"Topic4\", \"Topic4\", \"Topic4\", \"Topic4\", \"Topic4\", \"Topic5\", \"Topic5\", \"Topic5\", \"Topic5\", \"Topic5\", \"Topic5\", \"Topic5\", \"Topic5\", \"Topic5\", \"Topic5\", \"Topic5\", \"Topic5\", \"Topic5\", \"Topic5\", \"Topic5\", \"Topic5\", \"Topic5\", \"Topic5\", \"Topic5\", \"Topic5\", \"Topic5\", \"Topic5\", \"Topic5\", \"Topic5\", \"Topic5\", \"Topic5\", \"Topic5\", \"Topic5\", \"Topic5\", \"Topic5\", \"Topic5\", \"Topic5\", \"Topic5\", \"Topic5\", \"Topic5\", \"Topic5\", \"Topic5\", \"Topic5\", \"Topic5\", \"Topic5\", \"Topic5\", \"Topic5\", \"Topic5\", \"Topic6\", \"Topic6\", \"Topic6\", \"Topic6\", \"Topic6\", \"Topic6\", \"Topic6\", \"Topic6\", \"Topic6\", \"Topic6\", \"Topic6\", \"Topic6\", \"Topic6\", \"Topic6\", \"Topic6\", \"Topic6\", \"Topic6\", \"Topic6\", \"Topic6\", \"Topic6\", \"Topic6\", \"Topic6\", \"Topic6\", \"Topic6\", \"Topic6\", \"Topic6\", \"Topic6\", \"Topic6\", \"Topic6\", \"Topic6\", \"Topic6\", \"Topic6\", \"Topic6\", \"Topic6\", \"Topic6\", \"Topic6\", \"Topic6\", \"Topic6\", \"Topic7\", \"Topic7\", \"Topic7\", \"Topic7\", \"Topic7\", \"Topic7\", \"Topic7\", \"Topic7\", \"Topic7\", \"Topic7\", \"Topic7\", \"Topic7\", \"Topic7\", \"Topic7\", \"Topic7\", \"Topic7\", \"Topic7\", \"Topic7\", \"Topic7\", \"Topic7\", \"Topic7\", \"Topic7\", \"Topic7\", \"Topic7\", \"Topic7\", \"Topic7\", \"Topic7\", \"Topic7\", \"Topic7\", \"Topic7\", \"Topic7\", \"Topic7\", \"Topic7\", \"Topic7\", \"Topic7\", \"Topic7\", \"Topic7\", \"Topic7\", \"Topic7\", \"Topic7\", \"Topic7\", \"Topic7\", \"Topic7\", \"Topic7\", \"Topic7\", \"Topic7\", \"Topic7\", \"Topic7\", \"Topic7\", \"Topic7\", \"Topic7\", \"Topic8\", \"Topic8\", \"Topic8\", \"Topic8\", \"Topic8\", \"Topic8\", \"Topic8\", \"Topic8\", \"Topic8\", \"Topic8\", \"Topic8\", \"Topic8\", \"Topic8\", \"Topic8\", \"Topic8\", \"Topic8\", \"Topic8\", \"Topic8\", \"Topic8\", \"Topic8\", \"Topic8\", \"Topic8\", \"Topic8\", \"Topic8\", \"Topic8\", \"Topic8\", \"Topic8\", \"Topic8\", \"Topic8\", \"Topic8\", \"Topic8\", \"Topic8\", \"Topic8\", \"Topic8\", \"Topic8\", \"Topic8\", \"Topic8\", \"Topic8\", \"Topic8\", \"Topic8\", \"Topic8\", \"Topic8\", \"Topic8\", \"Topic8\", \"Topic8\", \"Topic8\", \"Topic8\", \"Topic8\", \"Topic8\", \"Topic8\", \"Topic8\", \"Topic8\", \"Topic8\", \"Topic8\", \"Topic9\", \"Topic9\", \"Topic9\", \"Topic9\", \"Topic9\", \"Topic9\", \"Topic9\", \"Topic9\", \"Topic9\", \"Topic9\", \"Topic9\", \"Topic9\", \"Topic9\", \"Topic9\", \"Topic9\", \"Topic9\", \"Topic9\", \"Topic9\", \"Topic9\", \"Topic9\", \"Topic9\", \"Topic9\", \"Topic9\", \"Topic9\", \"Topic9\", \"Topic9\", \"Topic9\", \"Topic9\", \"Topic9\", \"Topic9\", \"Topic9\", \"Topic9\", \"Topic9\", \"Topic9\", \"Topic9\", \"Topic9\", \"Topic9\", \"Topic9\", \"Topic9\", \"Topic9\", \"Topic9\", \"Topic9\", \"Topic9\", \"Topic9\", \"Topic9\", \"Topic9\", \"Topic9\", \"Topic9\", \"Topic9\", \"Topic9\", \"Topic9\", \"Topic9\", \"Topic9\", \"Topic9\", \"Topic9\"], \"logprob\": [30.0, 29.0, 28.0, 27.0, 26.0, 25.0, 24.0, 23.0, 22.0, 21.0, 20.0, 19.0, 18.0, 17.0, 16.0, 15.0, 14.0, 13.0, 12.0, 11.0, 10.0, 9.0, 8.0, 7.0, 6.0, 5.0, 4.0, 3.0, 2.0, 1.0, -2.7081, -2.7081, -3.3499, -3.3499, -3.3499, -3.3499, -3.3499, -3.3499, -3.3499, -3.3499, -3.3499, -3.3499, -3.3499, -3.3499, -3.3499, -3.3499, -3.3499, -3.3499, -5.6524, -5.6524, -5.6524, -5.6524, -5.6525, -5.6525, -5.6525, -5.6525, -5.6525, -5.6525, -5.6525, -5.6525, -5.6525, -5.6524, -5.6524, -5.6524, -5.6524, -5.6524, -5.6524, -5.6524, -5.6524, -5.6524, -3.3475, -3.3475, -3.3475, -3.3475, -3.3475, -3.3475, -3.3475, -3.3475, -3.3475, -3.3475, -3.3475, -3.3518, -3.3528, -3.3539, -3.3543, -3.3546, -3.3559, -3.3571, -3.3576, -3.3587, -5.65, -5.65, -5.65, -5.65, -5.65, -5.65, -5.65, -5.65, -5.65, -5.65, -5.65, -5.65, -5.65, -5.65, -5.65, -5.65, -5.65, -5.65, -5.65, -3.2847, -3.2847, -3.2847, -3.2847, -3.2847, -3.2847, -3.2847, -3.2847, -3.2847, -3.2847, -3.2847, -3.2847, -3.2847, -3.2847, -3.2847, -3.2847, -3.2847, -3.2847, -5.5872, -5.5872, -5.5872, -5.5872, -5.5872, -5.5872, -5.5872, -5.5872, -5.5872, -5.5872, -5.5872, -5.5872, -5.5872, -5.5872, -5.5872, -5.5872, -5.5872, -5.5872, -5.5872, -5.5872, -2.573, -3.2149, -3.2149, -3.2149, -3.2149, -3.2149, -3.2149, -3.2149, -3.2149, -3.2149, -3.2149, -3.2149, -3.2149, -3.2149, -3.2149, -5.5174, -5.5174, -5.5174, -5.5174, -5.5174, -5.5174, -5.5174, -5.5174, -5.5174, -5.5174, -5.5174, -5.5174, -5.5174, -5.5174, -5.5174, -5.5174, -5.5174, -5.5174, -5.5174, -5.5174, -5.5174, -5.5174, -5.5174, -5.5174, -5.5174, -5.5174, -5.5174, -5.5174, -3.1781, -3.1781, -3.1781, -3.1781, -3.1781, -3.1781, -3.1781, -3.1781, -3.1781, -3.1781, -3.1781, -3.1781, -3.1781, -3.1781, -3.1781, -5.4806, -5.4806, -5.4806, -5.4806, -5.4806, -5.4806, -5.4806, -5.4806, -5.4806, -5.4806, -5.4806, -5.4806, -5.4806, -5.4806, -5.4806, -5.4806, -5.4806, -5.4806, -5.4806, -5.4806, -5.4806, -5.4806, -5.4806, -5.4806, -5.4806, -5.4806, -5.4806, -5.4806, -2.3771, -3.0189, -3.0189, -3.0189, -3.0189, -3.0189, -3.0189, -3.0189, -3.0189, -3.0189, -5.3214, -5.3215, -5.3215, -5.3215, -5.3215, -5.3215, -5.3215, -5.3215, -5.3215, -5.216, -5.2256, -5.2306, -5.2415, -5.2527, -5.2564, -5.2599, -5.2699, -5.2795, -5.3215, -5.3215, -5.3214, -5.3214, -5.3214, -5.3214, -5.3214, -5.3214, -5.3214, -5.3215, -2.9232, -2.9232, -2.9232, -2.9232, -2.9232, -2.9232, -2.9232, -2.9232, -2.9232, -5.2257, -5.2257, -5.2257, -5.2257, -5.2257, -5.2257, -5.2257, -5.2257, -5.2257, -5.2257, -5.2257, -5.2257, -5.2257, -5.2257, -5.2257, -5.2257, -5.2257, -5.2257, -5.2257, -5.2257, -5.2257, -5.2257, -5.2257, -5.2257, -5.2257, -5.2257, -5.2257, -5.2257, -5.2257, -5.2257, -5.2257, -5.2257, -5.2257, -5.2257, -5.2257, -5.2257, -5.2257, -5.2257, -5.2257, -5.2257, -5.2257, -5.2257, -4.6539, -4.654, -4.654, -4.654, -4.654, -4.654, -4.654, -4.654, -4.654, -4.6539, -4.654, -4.654, -4.654, -4.654, -4.654, -4.654, -4.654, -4.654, -4.654, -4.654, -4.654, -4.654, -4.654, -4.654, -4.654, -4.654, -4.654, -4.654, -4.654, -4.654, -4.6539, -4.6539, -4.6539, -4.6539, -4.6539, -4.6539, -4.6539, -4.6539, -4.654, -4.654, -4.654, -4.654, -4.654, -4.654, -4.654, -4.654, -4.654, -4.654, -4.654, -4.654, -4.654, -4.654, -4.654, -4.654, -4.6539, -4.654, -4.654, -4.654, -4.654, -4.654, -4.654, -4.654, -4.654, -4.6539, -4.654, -4.654, -4.654, -4.654, -4.654, -4.654, -4.654, -4.654, -4.654, -4.654, -4.654, -4.654, -4.654, -4.654, -4.654, -4.654, -4.654, -4.654, -4.654, -4.654, -4.654, -4.6539, -4.6539, -4.6539, -4.6539, -4.6539, -4.6539, -4.6539, -4.6539, -4.6539, -4.6539, -4.654, -4.654, -4.654, -4.654, -4.654, -4.654, -4.654, -4.654, -4.654, -4.654, -4.654, -4.654, -4.654, -4.654], \"loglift\": [30.0, 29.0, 28.0, 27.0, 26.0, 25.0, 24.0, 23.0, 22.0, 21.0, 20.0, 19.0, 18.0, 17.0, 16.0, 15.0, 14.0, 13.0, 12.0, 11.0, 10.0, 9.0, 8.0, 7.0, 6.0, 5.0, 4.0, 3.0, 2.0, 1.0, 1.475, 1.475, 1.2871, 1.2871, 1.2871, 1.2871, 1.2871, 1.2871, 1.2871, 1.2871, 1.2871, 1.2871, 1.2871, 1.2871, 1.2871, 1.2871, 1.2871, 1.2871, -0.8447, -0.8448, -0.8448, -0.8448, -0.8448, -0.8448, -0.8448, -0.8448, -0.8448, -0.8962, -0.8962, -0.8962, -0.8962, -0.9902, -1.3153, -1.015, -1.0152, -0.9902, -0.9902, -1.0152, -1.0156, -1.0164, 1.2885, 1.2885, 1.2885, 1.2885, 1.2885, 1.2885, 1.2885, 1.2885, 1.2885, 1.2885, 1.2885, 1.2848, 1.2839, 1.2829, 1.2826, 1.2823, 1.2812, 1.2802, 1.2797, 1.2787, -0.8423, -0.8423, -0.8423, -0.8423, -0.8423, -0.8423, -0.8423, -0.8424, -0.8424, -0.8937, -1.013, -1.4669, -1.013, -1.467, -1.3128, -0.9878, -0.9878, -0.9878, -0.9878, 1.3776, 1.3776, 1.3776, 1.3776, 1.3776, 1.3776, 1.3776, 1.3776, 1.3776, 1.3776, 1.3776, 1.3776, 1.3776, 1.3776, 1.3776, 1.3776, 1.3776, 1.3776, -0.7795, -0.7795, -0.7795, -0.7795, -0.7795, -0.7795, -0.7795, -0.7795, -0.7795, -0.8309, -0.8309, -0.8309, -0.9502, -1.4041, -1.4041, -0.9502, -1.25, -0.9503, -0.9512, -1.3727, 1.6415, 1.4468, 1.4468, 1.4468, 1.4468, 1.4468, 1.4468, 1.4468, 1.4468, 1.4468, 1.4468, 1.4468, 1.4468, 1.4468, 1.4468, -0.7097, -0.7097, -0.7097, -0.7097, -0.7097, -0.7097, -0.7097, -0.7097, -0.7097, -0.7611, -0.7611, -0.7611, -0.7611, -0.7611, -0.7611, -1.3343, -0.8804, -1.1802, -1.3343, -0.8804, -0.88, -0.8814, -0.8806, -0.8552, -0.8814, -0.8802, -0.8814, -0.8801, 1.4988, 1.4988, 1.4988, 1.4988, 1.4988, 1.4988, 1.4988, 1.4988, 1.4988, 1.4988, 1.4988, 1.4988, 1.4988, 1.4988, 1.4988, -0.6729, -0.6729, -0.6729, -0.6729, -0.6729, -0.6729, -0.6729, -0.6729, -0.6729, -0.7243, -0.7243, -0.7243, -0.7243, -0.7243, -0.7243, -0.8436, -0.8436, -1.2975, -1.2975, -1.1434, -0.8432, -0.8183, -0.8433, -0.8446, -0.8446, -0.8436, -0.8183, -0.8446, 1.9601, 1.7374, 1.7374, 1.7374, 1.7374, 1.7374, 1.7374, 1.7374, 1.7374, 1.7374, -0.5138, -0.5138, -0.5138, -0.5138, -0.5138, -0.5138, -0.5138, -0.5138, -0.5138, -0.5786, -0.5883, -0.5934, -0.6045, -0.6158, -0.6195, -0.6231, -0.6333, -0.6429, -0.6446, -0.6446, -1.1383, -1.1384, -0.6844, -0.6592, -0.6844, -0.6592, -0.6854, -0.6592, 1.8845, 1.8845, 1.8845, 1.8845, 1.8845, 1.8845, 1.8845, 1.8845, 1.8845, -0.4694, -0.4694, -0.4694, -0.4694, -0.4694, -0.4694, -0.4694, -0.4694, -0.4694, -0.5488, -0.5488, -0.5488, -0.5488, -0.5488, -0.5488, -0.5488, -0.5488, -0.5488, -0.5488, -0.5488, -0.5488, -0.5488, -1.0426, -1.0426, -0.5887, -0.8885, -0.5887, -0.5634, -0.5634, -0.5634, -0.5884, -0.5888, -0.5885, -0.5883, -0.5897, -0.5634, -0.5887, -0.5897, -0.5887, -0.5897, -0.5635, -0.5635, 0.1537, 0.1537, 0.1537, 0.1537, 0.1537, 0.1537, 0.1537, 0.1537, 0.1537, 0.1023, 0.1023, 0.1023, 0.1023, 0.1023, 0.1023, 0.1023, 0.1023, 0.1023, 0.0229, 0.0229, 0.0229, 0.0229, 0.0229, 0.0229, 0.0229, 0.0229, 0.0229, 0.0229, 0.0229, 0.0229, -0.4708, -0.0169, -0.0169, -0.3168, -0.4709, -0.0179, 0.0083, -0.0171, 0.0083, 0.0083, -0.0167, -0.4395, -0.0167, -0.0165, -0.0179, -0.0171, -0.0179, 0.0083, 0.0083, 0.0083, -0.0179, 0.0083, 0.0083, 0.0083, 0.1537, 0.1537, 0.1537, 0.1537, 0.1537, 0.1537, 0.1537, 0.1537, 0.1537, 0.1023, 0.1023, 0.1023, 0.1023, 0.1023, 0.1023, 0.1023, 0.1023, 0.1023, 0.0229, 0.0229, 0.0229, 0.0229, 0.0229, 0.0229, 0.0229, 0.0229, 0.0229, 0.0229, 0.0229, 0.0229, 0.0229, -0.4708, -0.4709, -0.0169, -0.0169, -0.0179, -0.3168, 0.0083, 0.0083, 0.0083, -0.0167, -0.0173, -0.0169, -0.0167, -0.0179, 0.0083, -0.0171, -0.0179, -0.4395, 0.0083, -0.0179, -0.0165, 0.0083, 0.0083, -0.0169]}, \"token.table\": {\"Topic\": [4, 1, 1, 2, 5, 1, 1, 6, 4, 1, 4, 3, 1, 2, 2, 1, 6, 1, 5, 1, 5, 5, 5, 2, 4, 6, 1, 2, 4, 1, 6, 2, 4, 5, 4, 2, 2, 1, 2, 2, 5, 3, 1, 3, 3, 3, 3, 5, 1, 5, 4, 2, 3, 4, 1, 3, 2, 2, 3, 3, 3, 5, 6, 6, 4, 4, 6, 2, 3, 6, 1, 3, 4, 3, 3, 1, 5, 4, 2, 1, 5, 2, 2, 3, 5, 2, 6, 2, 4, 5, 5, 4, 3, 6, 2, 3], \"Freq\": [0.9707482046598168, 0.9471116790875538, 0.9471105562257706, 0.9461686048318284, 0.9856557218266347, 0.9471116374236063, 0.9471099148976982, 1.0670980973909063, 0.6207224642324457, 0.9471125682603073, 0.9707500327040811, 0.9713383974748799, 0.6015267064036419, 0.9467988014578487, 0.9471614935954961, 0.9471173000186246, 1.067099783235791, 0.9471128808092065, 0.9856555862700696, 0.9471129860373131, 0.9856558441780707, 0.9856545629132359, 0.9856554278231966, 0.9461676128251922, 0.9707493563696921, 0.7017545701839976, 0.9471135986345567, 0.9461710757924212, 0.9707491634364004, 0.9471117373697086, 1.0670998779357652, 0.9461676450312546, 0.9707501793006041, 0.9856541853088729, 0.9707493467632038, 0.9461709129364315, 0.9461690220999434, 0.6015245304933802, 0.9474974956119563, 0.9461665725216916, 0.9856551358701952, 0.9713373530927255, 0.9471116532012427, 0.9713369061901062, 0.9713380017443637, 0.9713374769726547, 0.971336277474532, 0.9856545698975917, 0.947110921899205, 0.9856562542370164, 0.9707500107673063, 0.9461689546782861, 0.9713378295293951, 0.9707487892060247, 0.9471127769428598, 0.9713380368522252, 0.9469726265804239, 0.9473715277813399, 0.9713371062020034, 0.9713366812314076, 0.9713377223556244, 0.9856552435241931, 1.0670982617536462, 1.0671016732692638, 0.9707476627081092, 0.9707489569698464, 1.067099666525057, 0.9461667684219288, 0.9713372825559202, 1.067099685557291, 0.9471120500119296, 0.9713359593836531, 0.9707507819273341, 0.9713385931373693, 0.9713399334456673, 0.947110594160286, 0.985655041300138, 0.9707491674237982, 0.9470165436361104, 0.9471195678687669, 0.9856544996545583, 0.9469263756461991, 0.9461693454583768, 0.9713379583793339, 0.9856549620391641, 0.9461680937652446, 1.0670984813686133, 0.9466780064798028, 0.9707497083793568, 0.9856543139906592, 0.985655582296972, 0.9707486119577889, 0.9713397361397573, 1.0670984221819155, 0.9473048677177146, 0.9713376413674616], \"Term\": [\"\\u0623\\u0639\\u0637\\u0649\", \"\\u0623\\u0644\\u0627\\u0645\", \"\\u0623\\u0648\\u0644\", \"\\u0623\\u0648\\u0644\\u0649\", \"\\u0625\\u062e\\u0648\\u0627\\u0646\", \"\\u0627\\u062a\\u062d\\u0627\\u062f\", \"\\u0627\\u0633\\u062a\\u0642\\u0635\\u0627\\u0621\", \"\\u0627\\u0633\\u062a\\u0645\\u0631\", \"\\u0627\\u0642\\u0648\\u0644\\u0647\\u0627\", \"\\u0627\\u0644\\u0639\\u0631\\u0635\", \"\\u0627\\u0644\\u0644\\u0647\", \"\\u0627\\u0645\\u064a\\u0631\", \"\\u0627\\u0646\\u062a\\u062e\\u0628\", \"\\u0628\\u0627\\u0645\\u0631\\u064a\\u0643\\u0627\", \"\\u0628\\u0631\\u0627\\u062f\\u0639\", \"\\u0628\\u0631\\u0635\", \"\\u0628\\u064a\\u0646\", \"\\u062a\\u0639\\u0631\\u0636\", \"\\u062a\\u0642\\u062f\\u0645\", \"\\u062a\\u0646\\u0627\\u0648\\u0644\", \"\\u062c\\u0631\\u0627\\u0626\\u0645\", \"\\u062c\\u0639\\u0644\", \"\\u062c\\u0645\\u0627\\u0639\", \"\\u062c\\u0645\\u0627\\u0644\", \"\\u062c\\u0646\\u0648\\u0628\", \"\\u062d\\u062f\\u062b\", \"\\u062d\\u0631\", \"\\u062d\\u0632\\u0628\", \"\\u062d\\u0634\\u064a\\u0634\", \"\\u062d\\u0642\\u064a\\u0642\", \"\\u062d\\u0643\", \"\\u062d\\u0645\\u062f\", \"\\u062d\\u0646\\u0627\\u0646\", \"\\u062d\\u064a\\u0627\\u0629\", \"\\u062e\\u0627\\u0637\\u0631\", \"\\u062f\\u0643\\u062a\\u0648\\u0631\", \"\\u062f\\u064a\\u0646\", \"\\u0631\\u0626\\u064a\\u0633\\u0649\", \"\\u0631\\u0633\\u0644\", \"\\u0631\\u0648\\u0627\\u064a\\u0629\", \"\\u0633\\u0627\\u0628\\u0642\", \"\\u0633\\u062a\\u0631\\u064a\\u0643\\u0631\", \"\\u0633\\u0631\\u0627\\u0631\", \"\\u0633\\u0639\\u0648\\u062f\\u064a\", \"\\u0633\\u0643\", \"\\u0633\\u0643\\u0631\", \"\\u0633\\u0648\\u0631\\u064a\", \"\\u0633\\u064a\\u0627\\u0633\\u0629\", \"\\u0634\\u0627\\u0647\\u062f\", \"\\u0634\\u0628\\u0631\", \"\\u0634\\u064a\\u0634\", \"\\u0635\\u062f\\u0648\\u0631\", \"\\u0635\\u0631\\u064a\\u062d\", \"\\u0636\\u062d\\u0643\", \"\\u0639\\u062f\\u0627\\u0644\", \"\\u0639\\u0631\\u0627\\u0642\", \"\\u0639\\u0631\\u0649\", \"\\u0639\\u0635\\u0627\\u0645\", \"\\u0639\\u0644\\u0627\", \"\\u0639\\u0644\\u0627\\u062c\", \"\\u0639\\u0645\\u0627\\u0646\", \"\\u0639\\u0648\\u062f\", \"\\u063a\\u0644\\u0637\", \"\\u0641\\u062a\", \"\\u0641\\u062c\\u0648\\u0631\", \"\\u0641\\u0633\\u0642\", \"\\u0642\\u0635\\u0629\", \"\\u0642\\u064a\\u0627\\u062f\", \"\\u0643\\u0627\\u0631\\u064a\\u0648\\u0643\\u064a\", \"\\u0643\\u0628\\u064a\\u0631\", \"\\u0643\\u0648\\u0627\\u0644\\u064a\\u0633\", \"\\u0643\\u0648\\u064a\\u062a\", \"\\u0643\\u064a\\u0644\", \"\\u0644\\u064a\", \"\\u0644\\u064a\\u0628\\u064a\", \"\\u0644\\u064a\\u0644\", \"\\u0645\\u0627\\u0636\\u064a\", \"\\u0645\\u062d\\u0627\\u0636\\u0631\", \"\\u0645\\u0631\\u0629\\u0627\\u062e\\u0631\\u0649\", \"\\u0645\\u0631\\u0633\\u0649\", \"\\u0645\\u0633\\u062a\\u062d\\u064a\\u0644\", \"\\u0645\\u0642\\u0631\\u0641\", \"\\u0645\\u0646\\u0627\\u0633\\u0628\", \"\\u0646\\u062a\\u0634\\u0648\\u0631\\u0627\\u0644\", \"\\u0646\\u0641\\u0633\", \"\\u0647\\u0646\\u0623\", \"\\u0648\\u0627\\u062d\\u062f\", \"\\u0648\\u0627\\u0634\\u0646\\u0637\\u0646\", \"\\u0648\\u0627\\u0644\\u062f\", \"\\u0648\\u0627\\u0644\\u0637\\u0631\\u0645\\u062e\\u0629\", \"\\u0648\\u0636\\u0639\", \"\\u064a\\u0627\\u0646\\u0628\\u0639\", \"\\u064a\\u062a\\u0642\\u0627\\u0644\", \"\\u064a\\u062a\\u0645\", \"\\u064a\\u0633\\u062a\\u0642\\u0648\\u0649\", \"\\u064a\\u0645\\u0646\"]}, \"R\": 30, \"lambda.step\": 0.01, \"plot.opts\": {\"xlab\": \"PC1\", \"ylab\": \"PC2\"}, \"topic.order\": [2, 8, 1, 9, 6, 3, 7, 4, 5]};\n",
       "\n",
       "function LDAvis_load_lib(url, callback){\n",
       "  var s = document.createElement('script');\n",
       "  s.src = url;\n",
       "  s.async = true;\n",
       "  s.onreadystatechange = s.onload = callback;\n",
       "  s.onerror = function(){console.warn(\"failed to load library \" + url);};\n",
       "  document.getElementsByTagName(\"head\")[0].appendChild(s);\n",
       "}\n",
       "\n",
       "if(typeof(LDAvis) !== \"undefined\"){\n",
       "   // already loaded: just create the visualization\n",
       "   !function(LDAvis){\n",
       "       new LDAvis(\"#\" + \"ldavis_el626422721271014083939180194\", ldavis_el626422721271014083939180194_data);\n",
       "   }(LDAvis);\n",
       "}else if(typeof define === \"function\" && define.amd){\n",
       "   // require.js is available: use it to load d3/LDAvis\n",
       "   require.config({paths: {d3: \"https://d3js.org/d3.v5\"}});\n",
       "   require([\"d3\"], function(d3){\n",
       "      window.d3 = d3;\n",
       "      LDAvis_load_lib(\"https://cdn.jsdelivr.net/gh/bmabey/pyLDAvis@3.3.1/pyLDAvis/js/ldavis.v3.0.0.js\", function(){\n",
       "        new LDAvis(\"#\" + \"ldavis_el626422721271014083939180194\", ldavis_el626422721271014083939180194_data);\n",
       "      });\n",
       "    });\n",
       "}else{\n",
       "    // require.js not available: dynamically load d3 & LDAvis\n",
       "    LDAvis_load_lib(\"https://d3js.org/d3.v5.js\", function(){\n",
       "         LDAvis_load_lib(\"https://cdn.jsdelivr.net/gh/bmabey/pyLDAvis@3.3.1/pyLDAvis/js/ldavis.v3.0.0.js\", function(){\n",
       "                 new LDAvis(\"#\" + \"ldavis_el626422721271014083939180194\", ldavis_el626422721271014083939180194_data);\n",
       "            })\n",
       "         });\n",
       "}\n",
       "</script>"
      ],
      "text/plain": [
       "PreparedData(topic_coordinates=              x         y  topics  cluster       Freq\n",
       "topic                                                \n",
       "1      0.186071  0.047845       1        1  17.622975\n",
       "7     -0.100381  0.147406       2        1  17.610959\n",
       "0     -0.035205 -0.128898       3        1  15.793242\n",
       "8     -0.022480 -0.044531       4        1  14.744442\n",
       "5     -0.014949 -0.022414       5        1  13.830384\n",
       "2     -0.010656 -0.000065       6        1  10.179774\n",
       "6     -0.004530 -0.003342       7        1   8.360201\n",
       "3      0.001064  0.001999       8        1   0.929012\n",
       "4      0.001065  0.002000       9        1   0.929012, topic_info=        Term      Freq     Total Category  logprob  loglift\n",
       "63       حدث  1.000000  1.000000  Default   30.000  30.0000\n",
       "34    اقولها  1.000000  1.000000  Default   29.000  29.0000\n",
       "51     رئيسى  1.000000  1.000000  Default   28.000  28.0000\n",
       "49     انتخب  1.000000  1.000000  Default   27.000  27.0000\n",
       "72     اعداد  0.000000  0.000000  Default   26.000  26.0000\n",
       "..       ...       ...       ...      ...      ...      ...\n",
       "4      دكتور  0.009644  1.056892   Topic9   -4.654  -0.0179\n",
       "13       رسل  0.009644  1.055412   Topic9   -4.654  -0.0165\n",
       "53      امير  0.009644  1.029507   Topic9   -4.654   0.0083\n",
       "103  نتشورال  0.009644  1.029508   Topic9   -4.654   0.0083\n",
       "48     العرص  0.009644  1.055841   Topic9   -4.654  -0.0169\n",
       "\n",
       "[431 rows x 6 columns], token_table=      Topic      Freq    Term\n",
       "term                         \n",
       "33        4  0.970748    أعطى\n",
       "20        1  0.947112    ألام\n",
       "21        1  0.947111     أول\n",
       "0         2  0.946169    أولى\n",
       "80        5  0.985656   إخوان\n",
       "...     ...       ...     ...\n",
       "47        4  0.970749   يانبع\n",
       "60        3  0.971340   يتقال\n",
       "70        6  1.067098     يتم\n",
       "19        2  0.947305  يستقوى\n",
       "104       3  0.971338     يمن\n",
       "\n",
       "[96 rows x 3 columns], R=30, lambda_step=0.01, plot_opts={'xlab': 'PC1', 'ylab': 'PC2'}, topic_order=[2, 8, 1, 9, 6, 3, 7, 4, 5])"
      ]
     },
     "execution_count": 45,
     "metadata": {},
     "output_type": "execute_result"
    }
   ],
   "source": [
    "pyLDAvis.enable_notebook()\n",
    "vis = pyLDAvis.gensim_models.prepare(lda_model, bow_corpus, dictionary=lda_model.id2word)\n",
    "vis"
   ]
  },
  {
   "cell_type": "markdown",
   "id": "daa75906",
   "metadata": {},
   "source": [
    "# 2- LDA Sequence"
   ]
  },
  {
   "cell_type": "code",
   "execution_count": 46,
   "id": "79496e9d",
   "metadata": {},
   "outputs": [],
   "source": [
    "\n",
    "ldaseq = LdaSeqModel(corpus=bow_corpus, id2word=dictionary, time_slice=[438, 430, 456], num_topics=5)\n"
   ]
  },
  {
   "cell_type": "code",
   "execution_count": 47,
   "id": "18452bac",
   "metadata": {},
   "outputs": [
    {
     "data": {
      "text/plain": [
       "[[('أولى', 0.021573874150074265),\n",
       "  ('سياسة', 0.018822258904880075),\n",
       "  ('أربعاء', 0.018822258904880075),\n",
       "  ('سابق', 0.018822258904880075),\n",
       "  ('حياة', 0.018822258904880075),\n",
       "  ('جماع', 0.018822258904880075),\n",
       "  ('جعل', 0.018822258904880075),\n",
       "  ('جرائم', 0.018822258904880075),\n",
       "  ('تقدم', 0.018822258904880075),\n",
       "  ('إخوان', 0.018822258904880075),\n",
       "  ('ندوة', 0.018822258904880075),\n",
       "  ('مركز', 0.018822258904880075),\n",
       "  ('قادة', 0.018822258904880075),\n",
       "  ('دع', 0.018822258904880075),\n",
       "  ('حضور', 0.018822258904880075),\n",
       "  ('ثقاف', 0.018822258904880075),\n",
       "  ('تفاصيل', 0.018822258904880075),\n",
       "  ('عود', 0.018822258904880075),\n",
       "  ('ليبي', 0.018822258904880075),\n",
       "  ('كويت', 0.018822258904880075)],\n",
       " [('أولى', 0.4619578738491258),\n",
       "  ('رئيسى', 0.0074802327334051255),\n",
       "  ('مرسى', 0.007045565128829063),\n",
       "  ('انتخب', 0.0067847741044377),\n",
       "  ('برص', 0.006695066316697693),\n",
       "  ('العرص', 0.006648143258316831),\n",
       "  ('يتقال', 0.0064038918574044),\n",
       "  ('امير', 0.006254557595438239),\n",
       "  ('مركز', 0.006250457086716768),\n",
       "  ('برادع', 0.006198331602257829),\n",
       "  ('دع', 0.006130749499313953),\n",
       "  ('تفاصيل', 0.006079092822243081),\n",
       "  ('لي', 0.006077336255087397),\n",
       "  ('رسل', 0.006072036238182357),\n",
       "  ('سك', 0.006047585288995529),\n",
       "  ('ستريكر', 0.005989112063968339),\n",
       "  ('أربعاء', 0.005956293820110838),\n",
       "  ('واشنطن', 0.005917421644899774),\n",
       "  ('ندوة', 0.005910379312111454),\n",
       "  ('قادة', 0.00586464116330651)],\n",
       " [('رئيسى', 0.103272180532604),\n",
       "  ('انتخب', 0.103272180532604),\n",
       "  ('اقولها', 0.10327218053260348),\n",
       "  ('أولى', 0.02759136592852797),\n",
       "  ('جنوب', 0.020099047946062185),\n",
       "  ('حشيش', 0.020099047946062185),\n",
       "  ('حنان', 0.020099047946062185),\n",
       "  ('خاطر', 0.020099047946062185),\n",
       "  ('شيش', 0.020099047946062185),\n",
       "  ('ضحك', 0.020099047946062185),\n",
       "  ('فجور', 0.020099047946062185),\n",
       "  ('أعطى', 0.020099047946062185),\n",
       "  ('الله', 0.020099047946062185),\n",
       "  ('محاضر', 0.020099047946062185),\n",
       "  ('والد', 0.020099047946062185),\n",
       "  ('يانبع', 0.020099047946062185),\n",
       "  ('العرص', 0.020099047946062185),\n",
       "  ('برص', 0.020099047946062185),\n",
       "  ('فسق', 0.020099047946062185),\n",
       "  ('كيل', 0.020099047946062185)],\n",
       " [('أولى', 0.02374281984745029),\n",
       "  ('عرى', 0.02067435133957158),\n",
       "  ('رسل', 0.02067435133957158),\n",
       "  ('برادع', 0.02067435133957158),\n",
       "  ('بامريكا', 0.02067435133957158),\n",
       "  ('علا', 0.02067435133957158),\n",
       "  ('عصام', 0.02067435133957158),\n",
       "  ('كاريوكي', 0.02067435133957158),\n",
       "  ('واشنطن', 0.02067435133957158),\n",
       "  ('يستقوى', 0.02067435133957158),\n",
       "  ('مقرف', 0.02067435133957158),\n",
       "  ('مرةاخرى', 0.02067435133957158),\n",
       "  ('امير', 0.02067435133957156),\n",
       "  ('صريح', 0.02067435133957156),\n",
       "  ('ستريكر', 0.02067435133957156),\n",
       "  ('يتقال', 0.02067435133957156),\n",
       "  ('سك', 0.02067435133957156),\n",
       "  ('لي', 0.02067435133957156),\n",
       "  ('تناول', 0.020632936476526007),\n",
       "  ('شاهد', 0.020629747793577513)],\n",
       " [('حدث', 0.10915848282603668),\n",
       "  ('أولى', 0.029854544669567062),\n",
       "  ('حك', 0.02502078671034411),\n",
       "  ('صدور', 0.02502078671034411),\n",
       "  ('حزب', 0.02502078671034411),\n",
       "  ('دين', 0.02502078671034411),\n",
       "  ('دكتور', 0.02502078671034411),\n",
       "  ('حمد', 0.02502078671034411),\n",
       "  ('هنأ', 0.02502078671034411),\n",
       "  ('استمر', 0.02502078671034411),\n",
       "  ('جمال', 0.02502078671034411),\n",
       "  ('قياد', 0.02502078671034411),\n",
       "  ('غلط', 0.02502078671034411),\n",
       "  ('فت', 0.02502078671034411),\n",
       "  ('قصة', 0.02502078671034411),\n",
       "  ('كبير', 0.02502078671034411),\n",
       "  ('واحد', 0.02502078671034411),\n",
       "  ('يتم', 0.02502078671034411),\n",
       "  ('بين', 0.02502078671034411),\n",
       "  ('رواية', 0.02502078671034411)]]"
      ]
     },
     "execution_count": 47,
     "metadata": {},
     "output_type": "execute_result"
    }
   ],
   "source": [
    "ldaseq.print_topics(time=0)"
   ]
  },
  {
   "cell_type": "code",
   "execution_count": 48,
   "id": "11ad0248",
   "metadata": {},
   "outputs": [
    {
     "data": {
      "text/plain": [
       "[[('أولى', 0.021573874150074265),\n",
       "  ('سياسة', 0.018822258904880075),\n",
       "  ('أربعاء', 0.018822258904880075),\n",
       "  ('سابق', 0.018822258904880075),\n",
       "  ('حياة', 0.018822258904880075),\n",
       "  ('جماع', 0.018822258904880075),\n",
       "  ('جعل', 0.018822258904880075),\n",
       "  ('جرائم', 0.018822258904880075),\n",
       "  ('تقدم', 0.018822258904880075),\n",
       "  ('إخوان', 0.018822258904880075),\n",
       "  ('ندوة', 0.018822258904880075),\n",
       "  ('مركز', 0.018822258904880075),\n",
       "  ('قادة', 0.018822258904880075),\n",
       "  ('دع', 0.018822258904880075),\n",
       "  ('حضور', 0.018822258904880075),\n",
       "  ('ثقاف', 0.018822258904880075),\n",
       "  ('تفاصيل', 0.018822258904880075),\n",
       "  ('عود', 0.018822258904880075),\n",
       "  ('ليبي', 0.018822258904880075),\n",
       "  ('كويت', 0.018822258904880075)],\n",
       " [('أولى', 0.021628628709695553),\n",
       "  ('سياسة', 0.01882704946654385),\n",
       "  ('أربعاء', 0.01882704946654385),\n",
       "  ('سابق', 0.01882704946654385),\n",
       "  ('حياة', 0.01882704946654385),\n",
       "  ('جماع', 0.01882704946654385),\n",
       "  ('جعل', 0.01882704946654385),\n",
       "  ('جرائم', 0.01882704946654385),\n",
       "  ('تقدم', 0.01882704946654385),\n",
       "  ('إخوان', 0.01882704946654385),\n",
       "  ('ندوة', 0.01882704946654385),\n",
       "  ('مركز', 0.01882704946654385),\n",
       "  ('قادة', 0.01882704946654385),\n",
       "  ('دع', 0.01882704946654385),\n",
       "  ('حضور', 0.01882704946654385),\n",
       "  ('ثقاف', 0.01882704946654385),\n",
       "  ('تفاصيل', 0.01882704946654385),\n",
       "  ('عود', 0.01882704946654385),\n",
       "  ('ليبي', 0.01882704946654385),\n",
       "  ('كويت', 0.01882704946654385)],\n",
       " [('أولى', 0.021662240206210662),\n",
       "  ('سياسة', 0.018829309377544116),\n",
       "  ('أربعاء', 0.018829309377544116),\n",
       "  ('سابق', 0.018829309377544116),\n",
       "  ('حياة', 0.018829309377544116),\n",
       "  ('جماع', 0.018829309377544116),\n",
       "  ('جعل', 0.018829309377544116),\n",
       "  ('جرائم', 0.018829309377544116),\n",
       "  ('تقدم', 0.018829309377544116),\n",
       "  ('إخوان', 0.018829309377544116),\n",
       "  ('ندوة', 0.018829309377544116),\n",
       "  ('مركز', 0.018829309377544116),\n",
       "  ('قادة', 0.018829309377544116),\n",
       "  ('دع', 0.018829309377544116),\n",
       "  ('حضور', 0.018829309377544116),\n",
       "  ('ثقاف', 0.018829309377544116),\n",
       "  ('تفاصيل', 0.018829309377544116),\n",
       "  ('عود', 0.018829309377544116),\n",
       "  ('ليبي', 0.018829309377544116),\n",
       "  ('كويت', 0.018829309377544116)]]"
      ]
     },
     "execution_count": 48,
     "metadata": {},
     "output_type": "execute_result"
    }
   ],
   "source": [
    "ldaseq.print_topic_times(topic=0) # evolution of 1st topic"
   ]
  },
  {
   "cell_type": "markdown",
   "id": "db91af3a",
   "metadata": {},
   "source": [
    "### LDA seq cohererence with CV"
   ]
  },
  {
   "cell_type": "code",
   "execution_count": 49,
   "id": "207ecb36",
   "metadata": {},
   "outputs": [
    {
     "name": "stdout",
     "output_type": "stream",
     "text": [
      "Coherence score by cv:  0.33998479889588573\n"
     ]
    }
   ],
   "source": [
    "\n",
    "\n",
    "# we just have to specify the time-slice we want to find coherence for.\n",
    "\n",
    "topics_dtm = ldaseq.dtm_coherence(time=0)\n",
    "\n",
    "# running u_mass coherence on our models\n",
    "dtm = CoherenceModel(topics=topics_dtm, corpus=bow_corpus,texts=processed_docs, dictionary=dictionary, coherence='c_v')\n",
    "ldaseq_cv=dtm.get_coherence()\n",
    "\n",
    "\n",
    "print (\"Coherence score by cv: \", ldaseq_cv)\n",
    "\n"
   ]
  },
  {
   "cell_type": "markdown",
   "id": "8a5248d9",
   "metadata": {},
   "source": [
    "### LDA seq coherence with u_mass"
   ]
  },
  {
   "cell_type": "code",
   "execution_count": 50,
   "id": "b8744c1f",
   "metadata": {},
   "outputs": [
    {
     "name": "stdout",
     "output_type": "stream",
     "text": [
      "Coherence score by U_MASS:  -15.490338241390798\n"
     ]
    }
   ],
   "source": [
    "\n",
    "\n",
    "# we just have to specify the time-slice we want to find coherence for.\n",
    "\n",
    "topics_dtm = ldaseq.dtm_coherence(time=0)\n",
    "\n",
    "# running u_mass coherence on our models\n",
    "dtm = CoherenceModel(topics=topics_dtm, corpus=bow_corpus,texts=processed_docs, dictionary=dictionary, coherence='u_mass')\n",
    "ldaseq_umass=dtm.get_coherence()\n",
    "\n",
    "print (\"Coherence score by U_MASS: \",ldaseq_umass )\n"
   ]
  },
  {
   "cell_type": "markdown",
   "id": "c54249bb",
   "metadata": {},
   "source": [
    "### LDA seq coherence with C_uci"
   ]
  },
  {
   "cell_type": "code",
   "execution_count": 51,
   "id": "0f3bddc7",
   "metadata": {},
   "outputs": [
    {
     "name": "stdout",
     "output_type": "stream",
     "text": [
      "Coherence score by c_uci:  -13.180756583284197\n"
     ]
    }
   ],
   "source": [
    "\n",
    "# we just have to specify the time-slice we want to find coherence for.\n",
    "\n",
    "topics_dtm = ldaseq.dtm_coherence(time=0)\n",
    "\n",
    "# running u_mass coherence on our models\n",
    "dtm = CoherenceModel(topics=topics_dtm, corpus=bow_corpus,texts=processed_docs, dictionary=dictionary, coherence='c_uci')\n",
    "ldaseq_cuci=dtm.get_coherence()\n",
    "\n",
    "print (\"Coherence score by c_uci: \", ldaseq_cuci)\n",
    "\n"
   ]
  },
  {
   "cell_type": "markdown",
   "id": "177cbf3d",
   "metadata": {},
   "source": [
    "### LDA seq coherence with c_nmpi"
   ]
  },
  {
   "cell_type": "code",
   "execution_count": 52,
   "id": "922dc29a",
   "metadata": {},
   "outputs": [
    {
     "name": "stdout",
     "output_type": "stream",
     "text": [
      "Coherence score by c_npmi:  -0.20106736711109136\n"
     ]
    }
   ],
   "source": [
    "\n",
    "\n",
    "# we just have to specify the time-slice we want to find coherence for.\n",
    "\n",
    "topics_dtm = ldaseq.dtm_coherence(time=0)\n",
    "\n",
    "# running u_mass coherence on our models\n",
    "dtm = CoherenceModel(topics=topics_dtm, corpus=bow_corpus,texts=processed_docs, dictionary=dictionary, coherence='c_npmi')\n",
    "ldaseq_cnmpi=dtm.get_coherence()\n",
    "\n",
    "print (\"Coherence score by c_npmi: \",ldaseq_cnmpi)\n"
   ]
  },
  {
   "cell_type": "markdown",
   "id": "4454882d",
   "metadata": {},
   "source": [
    "# 3-  Biterm topic model (BTM)"
   ]
  },
  {
   "cell_type": "code",
   "execution_count": 53,
   "id": "d3ea4f6f",
   "metadata": {},
   "outputs": [
    {
     "name": "stderr",
     "output_type": "stream",
     "text": [
      "100%|██████████████████████████████████████████████████████████████████████████████████| 20/20 [00:02<00:00,  7.47it/s]\n"
     ]
    }
   ],
   "source": [
    "X, vocabulary, vocab_dict = btm.get_words_freqs(data['text'])\n",
    "docs_vec = btm.get_vectorized_docs(data['text'], vocabulary)\n",
    "biterms = btm.get_biterms(docs_vec)\n",
    "model = btm.BTM(\n",
    "    X, vocabulary, seed=12321, T=8, M=20, alpha=50/8, beta=0.01)\n",
    "model.fit(biterms, iterations=20)"
   ]
  },
  {
   "cell_type": "code",
   "execution_count": 54,
   "id": "f584b596",
   "metadata": {},
   "outputs": [
    {
     "name": "stderr",
     "output_type": "stream",
     "text": [
      "100%|███████████████████████████████████████████████████████████████████████████| 9693/9693 [00:00<00:00, 21124.54it/s]\n"
     ]
    }
   ],
   "source": [
    "p_zd = model.transform(docs_vec)"
   ]
  },
  {
   "cell_type": "code",
   "execution_count": 55,
   "id": "41e5731d",
   "metadata": {},
   "outputs": [
    {
     "name": "stdout",
     "output_type": "stream",
     "text": [
      "[-2.03093543 -3.73568352 -2.22938169 -3.55233601 -3.08509595 -2.73935008\n",
      " -1.61397307 -2.03093543]\n"
     ]
    }
   ],
   "source": [
    "\n",
    "coherence = btm.coherence(model.matrix_topics_words_, X, M=2)\n",
    "\n",
    "#coherence = model.coherence_\n",
    "\n",
    "print(coherence)\n"
   ]
  },
  {
   "cell_type": "code",
   "execution_count": 56,
   "id": "bda67de8",
   "metadata": {},
   "outputs": [
    {
     "data": {
      "text/plain": [
       "(8,)"
      ]
     },
     "execution_count": 56,
     "metadata": {},
     "output_type": "execute_result"
    }
   ],
   "source": [
    "coherence.shape"
   ]
  },
  {
   "cell_type": "code",
   "execution_count": 57,
   "id": "3672d085",
   "metadata": {},
   "outputs": [
    {
     "data": {
      "text/plain": [
       "-3.735683520311739"
      ]
     },
     "execution_count": 57,
     "metadata": {},
     "output_type": "execute_result"
    }
   ],
   "source": [
    "coherence[1]"
   ]
  },
  {
   "cell_type": "code",
   "execution_count": 58,
   "id": "52570a7a",
   "metadata": {},
   "outputs": [
    {
     "name": "stdout",
     "output_type": "stream",
     "text": [
      "-2.6272113973728333\n"
     ]
    }
   ],
   "source": [
    "\n",
    "\n",
    "coherence_mean = mean(coherence)\n",
    "\n",
    "print(coherence_mean)"
   ]
  },
  {
   "cell_type": "code",
   "execution_count": 59,
   "id": "c735745f",
   "metadata": {},
   "outputs": [
    {
     "name": "stdout",
     "output_type": "stream",
     "text": [
      "Sum of first  8 numbers is:  36\n",
      "Average of  8 numbers is:  4.5\n"
     ]
    }
   ],
   "source": [
    "\n",
    "sum = 0\n",
    "# loop from 1 to n\n",
    "for num in range(1, (len(coherence)) + 1, 1):\n",
    "    sum = sum + num\n",
    "print(\"Sum of first \",(len(coherence)), \"numbers is: \", sum)\n",
    "average = sum /  (len(coherence))\n",
    "print(\"Average of \", (len(coherence)), \"numbers is: \", average)"
   ]
  },
  {
   "cell_type": "code",
   "execution_count": 60,
   "id": "c1140413",
   "metadata": {},
   "outputs": [
    {
     "name": "stdout",
     "output_type": "stream",
     "text": [
      "-0.2538669285091642\n",
      "-0.46696044003896736\n",
      "-0.27867271112134384\n",
      "-0.4440420013774278\n",
      "-0.3856369942713237\n",
      "-0.3424187600955059\n",
      "-0.20174663344993646\n",
      "-0.2538669285091642\n"
     ]
    }
   ],
   "source": [
    "for i in range(len(coherence)) :\n",
    "    coh_mean = coherence[i]/ len(coherence)\n",
    "    print(coh_mean)"
   ]
  },
  {
   "cell_type": "code",
   "execution_count": 61,
   "id": "7723fa2b",
   "metadata": {},
   "outputs": [
    {
     "data": {
      "application/vnd.jupyter.widget-view+json": {
       "model_id": "5b52c9a8a2ba47fa9b45ab4dcaff94d8",
       "version_major": 2,
       "version_minor": 0
      },
      "text/plain": [
       "VBox(children=(VBox(children=(HBox(children=(HTML(value='<b>Select a topic</b>:'), Dropdown(options=((0, 0), (…"
      ]
     },
     "metadata": {},
     "output_type": "display_data"
    }
   ],
   "source": [
    "\n",
    "# Run the interactive report interface\n",
    "tmp.report(model=model, docs=data['text'])"
   ]
  },
  {
   "cell_type": "code",
   "execution_count": 62,
   "id": "22417e67",
   "metadata": {},
   "outputs": [
    {
     "data": {
      "text/html": [
       "<div>\n",
       "<style scoped>\n",
       "    .dataframe tbody tr th:only-of-type {\n",
       "        vertical-align: middle;\n",
       "    }\n",
       "\n",
       "    .dataframe tbody tr th {\n",
       "        vertical-align: top;\n",
       "    }\n",
       "\n",
       "    .dataframe thead th {\n",
       "        text-align: right;\n",
       "    }\n",
       "</style>\n",
       "<table border=\"1\" class=\"dataframe\">\n",
       "  <thead>\n",
       "    <tr style=\"text-align: right;\">\n",
       "      <th></th>\n",
       "      <th>documents</th>\n",
       "      <th>label</th>\n",
       "    </tr>\n",
       "  </thead>\n",
       "  <tbody>\n",
       "    <tr>\n",
       "      <th>0</th>\n",
       "      <td>أهنئ الدكتور أحمد جمال الدين القيادي بحزب مصر ...</td>\n",
       "      <td>5</td>\n",
       "    </tr>\n",
       "    <tr>\n",
       "      <th>1</th>\n",
       "      <td>البرادعي يستقوى بامريكا مرةاخرى يرسل عصام العر...</td>\n",
       "      <td>7</td>\n",
       "    </tr>\n",
       "    <tr>\n",
       "      <th>2</th>\n",
       "      <td>الحرية والعدالة شاهد ليلة الاتحادية فيلم استقص...</td>\n",
       "      <td>6</td>\n",
       "    </tr>\n",
       "    <tr>\n",
       "      <th>3</th>\n",
       "      <td>الوالدة اقولها بخاطري حشيشة تضحك اقولها ملل ال...</td>\n",
       "      <td>0</td>\n",
       "    </tr>\n",
       "    <tr>\n",
       "      <th>4</th>\n",
       "      <td>انتخبوا العرص انتخبوا البرص مرسى رئيسى اين رئي...</td>\n",
       "      <td>5</td>\n",
       "    </tr>\n",
       "    <tr>\n",
       "      <th>...</th>\n",
       "      <td>...</td>\n",
       "      <td>...</td>\n",
       "    </tr>\n",
       "    <tr>\n",
       "      <th>9688</th>\n",
       "      <td>والغاز مش مدعوم إنسان وماذا الأسمنت والحديد وا...</td>\n",
       "      <td>0</td>\n",
       "    </tr>\n",
       "    <tr>\n",
       "      <th>9689</th>\n",
       "      <td>اغلاق الساحات والميادين الكبرى لمنع صلاة العيد...</td>\n",
       "      <td>2</td>\n",
       "    </tr>\n",
       "    <tr>\n",
       "      <th>9690</th>\n",
       "      <td>الشروق الداخلية 400 مواطن تقدموا لأداء الحج وب...</td>\n",
       "      <td>3</td>\n",
       "    </tr>\n",
       "    <tr>\n",
       "      <th>9691</th>\n",
       "      <td>هتحبك صحتها النوم علشان تقولها بحبك</td>\n",
       "      <td>2</td>\n",
       "    </tr>\n",
       "    <tr>\n",
       "      <th>9692</th>\n",
       "      <td>شى كتبته غلط شى حسبته غلط فى الامتحانات</td>\n",
       "      <td>6</td>\n",
       "    </tr>\n",
       "  </tbody>\n",
       "</table>\n",
       "<p>9693 rows × 2 columns</p>\n",
       "</div>"
      ],
      "text/plain": [
       "                                              documents  label\n",
       "0     أهنئ الدكتور أحمد جمال الدين القيادي بحزب مصر ...      5\n",
       "1     البرادعي يستقوى بامريكا مرةاخرى يرسل عصام العر...      7\n",
       "2     الحرية والعدالة شاهد ليلة الاتحادية فيلم استقص...      6\n",
       "3     الوالدة اقولها بخاطري حشيشة تضحك اقولها ملل ال...      0\n",
       "4     انتخبوا العرص انتخبوا البرص مرسى رئيسى اين رئي...      5\n",
       "...                                                 ...    ...\n",
       "9688  والغاز مش مدعوم إنسان وماذا الأسمنت والحديد وا...      0\n",
       "9689  اغلاق الساحات والميادين الكبرى لمنع صلاة العيد...      2\n",
       "9690  الشروق الداخلية 400 مواطن تقدموا لأداء الحج وب...      3\n",
       "9691                هتحبك صحتها النوم علشان تقولها بحبك      2\n",
       "9692            شى كتبته غلط شى حسبته غلط فى الامتحانات      6\n",
       "\n",
       "[9693 rows x 2 columns]"
      ]
     },
     "execution_count": 62,
     "metadata": {},
     "output_type": "execute_result"
    }
   ],
   "source": [
    "btm.get_docs_top_topic(data['text'], model.matrix_docs_topics_)"
   ]
  },
  {
   "cell_type": "markdown",
   "id": "cf3a1373",
   "metadata": {},
   "source": [
    "# 4- Latent Semantic Indexing (LSI)"
   ]
  },
  {
   "cell_type": "code",
   "execution_count": 63,
   "id": "353b5f86",
   "metadata": {},
   "outputs": [
    {
     "name": "stdout",
     "output_type": "stream",
     "text": [
      "['هنأ', 'دكتور', 'حمد', 'جمال', 'دين', 'قياد', 'حزب', 'مناسب', 'صدور', 'أولى', 'رواية']\n"
     ]
    }
   ],
   "source": [
    "data_words = list(processed_docs)\n",
    "print(data_words[:1][0][:30])"
   ]
  },
  {
   "cell_type": "code",
   "execution_count": 64,
   "id": "550b24fa",
   "metadata": {},
   "outputs": [
    {
     "name": "stderr",
     "output_type": "stream",
     "text": [
      "C:\\Users\\PRO\\AppData\\Roaming\\Python\\Python39\\site-packages\\gensim\\models\\lsimodel.py:926: DeprecationWarning: Please use `csc_matvecs` from the `scipy.sparse` namespace, the `scipy.sparse.sparsetools` namespace is deprecated.\n",
      "  sparsetools.csc_matvecs(m, n, samples, corpus.indptr, corpus.indices,\n"
     ]
    }
   ],
   "source": [
    "lsi_model = gensim.models.lsimodel.LsiModel(\n",
    "   corpus=corpus_tfidf, id2word=dictionary, num_topics=10,chunksize=3000\n",
    ")"
   ]
  },
  {
   "cell_type": "code",
   "execution_count": 65,
   "id": "a4d3b1ef",
   "metadata": {},
   "outputs": [
    {
     "name": "stdout",
     "output_type": "stream",
     "text": [
      "Topic: 0 \n",
      "Words: -0.187*\"رئيسى\" + -0.187*\"انتخب\" + -0.178*\"حر\" + -0.178*\"أول\" + -0.178*\"سرار\" + -0.178*\"ألام\" + -0.178*\"كواليس\" + -0.178*\"ليل\" + -0.178*\"شاهد\" + -0.178*\"اتحاد\"\n",
      "Topic: 1 \n",
      "Words: -0.246*\"انتخب\" + -0.246*\"رئيسى\" + 0.204*\"نفس\" + 0.204*\"والطرمخة\" + 0.204*\"جعل\" + 0.204*\"تقدم\" + 0.204*\"سابق\" + 0.204*\"جماع\" + 0.204*\"جرائم\" + 0.204*\"حياة\"\n",
      "Topic: 2 \n",
      "Words: -0.265*\"حدث\" + -0.212*\"أربعاء\" + -0.212*\"حضور\" + -0.212*\"تفاصيل\" + -0.212*\"اعداد\" + -0.212*\"دع\" + -0.212*\"قادة\" + -0.212*\"مركز\" + -0.212*\"ثقاف\" + -0.212*\"ندوة\"\n",
      "Topic: 3 \n",
      "Words: 0.240*\"حدث\" + -0.202*\"رئيسى\" + -0.202*\"انتخب\" + -0.194*\"أربعاء\" + -0.194*\"حضور\" + -0.194*\"قادة\" + -0.194*\"دع\" + -0.194*\"مركز\" + -0.194*\"اعداد\" + -0.194*\"تفاصيل\"\n",
      "Topic: 4 \n",
      "Words: 0.302*\"حزب\" + 0.302*\"مناسب\" + 0.302*\"قياد\" + 0.302*\"هنأ\" + 0.302*\"جمال\" + 0.302*\"صدور\" + 0.302*\"دكتور\" + 0.302*\"أولى\" + 0.302*\"دين\" + 0.302*\"حمد\"\n"
     ]
    }
   ],
   "source": [
    "#lsi_model.show_topics()\n",
    "\n",
    "\n",
    "for indx, topics in lsi_model.print_topics(num_topics=5, num_words=10):\n",
    "    print('Topic: {} \\nWords: {}'.format(indx, topics))"
   ]
  },
  {
   "cell_type": "markdown",
   "id": "85550cb5",
   "metadata": {},
   "source": [
    "**print_topic**:\n",
    "Return the result of show_topic, but formatted as a single string.\n",
    "\n",
    "**- show_topic :** \n",
    "Return a list of (word, probability) \n",
    "2-tuples for the most probable words in topic topicid.\n",
    "\n",
    "Only return 2-tuples for the topn most probable words (ignore the rest).\n",
    "\n",
    "Read_more (https://tedboy.github.io/nlps/_modules/gensim/models/lsimodel.html#LsiModel.show_topics)"
   ]
  },
  {
   "cell_type": "markdown",
   "id": "3123bb29",
   "metadata": {},
   "source": [
    "### LSI coherence with CV"
   ]
  },
  {
   "cell_type": "code",
   "execution_count": 66,
   "id": "09c47821",
   "metadata": {},
   "outputs": [
    {
     "name": "stdout",
     "output_type": "stream",
     "text": [
      "\n",
      "Coherence Score:  0.2581645952275928\n"
     ]
    }
   ],
   "source": [
    "# Compute Coherence Score\n",
    "coherence_model_lsi = CoherenceModel(model=lsi_model, texts=processed_docs, dictionary=dictionary, coherence='c_v')\n",
    "coherence_lsi_cv = coherence_model_lsi.get_coherence()\n",
    "print('\\nCoherence Score: ', coherence_lsi_cv)"
   ]
  },
  {
   "cell_type": "markdown",
   "id": "4e338357",
   "metadata": {},
   "source": [
    "### LSI coherence with Umass"
   ]
  },
  {
   "cell_type": "code",
   "execution_count": 67,
   "id": "0329a181",
   "metadata": {},
   "outputs": [
    {
     "name": "stdout",
     "output_type": "stream",
     "text": [
      "\n",
      "Coherence Score:  -14.783808183908665\n"
     ]
    }
   ],
   "source": [
    "# Compute Coherence Score\n",
    "coherence_model_lsi = CoherenceModel(model=lsi_model, texts=processed_docs, dictionary=dictionary, coherence='u_mass')\n",
    "coherence_lsi_umass = coherence_model_lsi.get_coherence()\n",
    "print('\\nCoherence Score: ', coherence_lsi_umass)"
   ]
  },
  {
   "cell_type": "markdown",
   "id": "d58fac3d",
   "metadata": {},
   "source": [
    "### LSI coherence with C_nmpi"
   ]
  },
  {
   "cell_type": "code",
   "execution_count": 68,
   "id": "b4fd58c5",
   "metadata": {},
   "outputs": [
    {
     "name": "stdout",
     "output_type": "stream",
     "text": [
      "\n",
      "Coherence Score:  -0.1460740734123533\n"
     ]
    }
   ],
   "source": [
    "# Compute Coherence Score\n",
    "coherence_model_lsi = CoherenceModel(model=lsi_model, texts=processed_docs, dictionary=dictionary, coherence='c_npmi')\n",
    "coherence_lsi_nmpi = coherence_model_lsi.get_coherence()\n",
    "print('\\nCoherence Score: ', coherence_lsi_nmpi)"
   ]
  },
  {
   "cell_type": "markdown",
   "id": "1cfd4473",
   "metadata": {},
   "source": [
    "### LSI coherence with C_uci"
   ]
  },
  {
   "cell_type": "code",
   "execution_count": 69,
   "id": "94e8b4c5",
   "metadata": {},
   "outputs": [
    {
     "name": "stdout",
     "output_type": "stream",
     "text": [
      "\n",
      "Coherence Score:  -12.537342468928864\n"
     ]
    }
   ],
   "source": [
    "# Compute Coherence Score\n",
    "coherence_model_lsi = CoherenceModel(model=lsi_model, texts=processed_docs, dictionary=dictionary, coherence='c_uci')\n",
    "coherence_lsi_uci = coherence_model_lsi.get_coherence()\n",
    "print('\\nCoherence Score: ', coherence_lsi_uci)"
   ]
  },
  {
   "cell_type": "markdown",
   "id": "9d250215",
   "metadata": {},
   "source": [
    "### Optimal number of topics LSI:"
   ]
  },
  {
   "cell_type": "code",
   "execution_count": 70,
   "id": "8b9dc42f",
   "metadata": {},
   "outputs": [
    {
     "name": "stderr",
     "output_type": "stream",
     "text": [
      "C:\\Users\\PRO\\AppData\\Roaming\\Python\\Python39\\site-packages\\gensim\\models\\lsimodel.py:926: DeprecationWarning: Please use `csc_matvecs` from the `scipy.sparse` namespace, the `scipy.sparse.sparsetools` namespace is deprecated.\n",
      "  sparsetools.csc_matvecs(m, n, samples, corpus.indptr, corpus.indices,\n",
      "C:\\Users\\PRO\\AppData\\Roaming\\Python\\Python39\\site-packages\\gensim\\models\\lsimodel.py:926: DeprecationWarning: Please use `csc_matvecs` from the `scipy.sparse` namespace, the `scipy.sparse.sparsetools` namespace is deprecated.\n",
      "  sparsetools.csc_matvecs(m, n, samples, corpus.indptr, corpus.indices,\n",
      "C:\\Users\\PRO\\AppData\\Roaming\\Python\\Python39\\site-packages\\gensim\\models\\lsimodel.py:926: DeprecationWarning: Please use `csc_matvecs` from the `scipy.sparse` namespace, the `scipy.sparse.sparsetools` namespace is deprecated.\n",
      "  sparsetools.csc_matvecs(m, n, samples, corpus.indptr, corpus.indices,\n",
      "C:\\Users\\PRO\\AppData\\Roaming\\Python\\Python39\\site-packages\\gensim\\models\\lsimodel.py:926: DeprecationWarning: Please use `csc_matvecs` from the `scipy.sparse` namespace, the `scipy.sparse.sparsetools` namespace is deprecated.\n",
      "  sparsetools.csc_matvecs(m, n, samples, corpus.indptr, corpus.indices,\n",
      "C:\\Users\\PRO\\AppData\\Roaming\\Python\\Python39\\site-packages\\gensim\\models\\lsimodel.py:926: DeprecationWarning: Please use `csc_matvecs` from the `scipy.sparse` namespace, the `scipy.sparse.sparsetools` namespace is deprecated.\n",
      "  sparsetools.csc_matvecs(m, n, samples, corpus.indptr, corpus.indices,\n",
      "C:\\Users\\PRO\\AppData\\Roaming\\Python\\Python39\\site-packages\\gensim\\models\\lsimodel.py:926: DeprecationWarning: Please use `csc_matvecs` from the `scipy.sparse` namespace, the `scipy.sparse.sparsetools` namespace is deprecated.\n",
      "  sparsetools.csc_matvecs(m, n, samples, corpus.indptr, corpus.indices,\n",
      "C:\\Users\\PRO\\AppData\\Roaming\\Python\\Python39\\site-packages\\gensim\\models\\lsimodel.py:926: DeprecationWarning: Please use `csc_matvecs` from the `scipy.sparse` namespace, the `scipy.sparse.sparsetools` namespace is deprecated.\n",
      "  sparsetools.csc_matvecs(m, n, samples, corpus.indptr, corpus.indices,\n",
      "C:\\Users\\PRO\\AppData\\Roaming\\Python\\Python39\\site-packages\\gensim\\models\\lsimodel.py:926: DeprecationWarning: Please use `csc_matvecs` from the `scipy.sparse` namespace, the `scipy.sparse.sparsetools` namespace is deprecated.\n",
      "  sparsetools.csc_matvecs(m, n, samples, corpus.indptr, corpus.indices,\n"
     ]
    }
   ],
   "source": [
    "\n",
    "results = []\n",
    "\n",
    "for t in range(2,10):\n",
    "    lsi_model = models.LsiModel(corpus_tfidf, id2word=dictionary, num_topics=t)\n",
    "    corpus_lsi = lsi_model[corpus_tfidf]\n",
    "\n",
    "    cm = CoherenceModel(model=lsi_model, corpus=corpus_lsi, coherence='u_mass')\n",
    "    score = cm.get_coherence()\n",
    "    tup = t, score\n",
    "    results.append(tup)\n",
    "\n",
    "results_lsi = pd.DataFrame(results, columns=['topic', 'score'])"
   ]
  },
  {
   "cell_type": "code",
   "execution_count": 71,
   "id": "4d83cd36",
   "metadata": {},
   "outputs": [
    {
     "data": {
      "text/html": [
       "<div>\n",
       "<style scoped>\n",
       "    .dataframe tbody tr th:only-of-type {\n",
       "        vertical-align: middle;\n",
       "    }\n",
       "\n",
       "    .dataframe tbody tr th {\n",
       "        vertical-align: top;\n",
       "    }\n",
       "\n",
       "    .dataframe thead th {\n",
       "        text-align: right;\n",
       "    }\n",
       "</style>\n",
       "<table border=\"1\" class=\"dataframe\">\n",
       "  <thead>\n",
       "    <tr style=\"text-align: right;\">\n",
       "      <th></th>\n",
       "      <th>topic</th>\n",
       "      <th>score</th>\n",
       "    </tr>\n",
       "  </thead>\n",
       "  <tbody>\n",
       "    <tr>\n",
       "      <th>0</th>\n",
       "      <td>2</td>\n",
       "      <td>0.000000</td>\n",
       "    </tr>\n",
       "    <tr>\n",
       "      <th>1</th>\n",
       "      <td>3</td>\n",
       "      <td>0.000000</td>\n",
       "    </tr>\n",
       "    <tr>\n",
       "      <th>2</th>\n",
       "      <td>4</td>\n",
       "      <td>0.000000</td>\n",
       "    </tr>\n",
       "    <tr>\n",
       "      <th>3</th>\n",
       "      <td>5</td>\n",
       "      <td>0.000000</td>\n",
       "    </tr>\n",
       "    <tr>\n",
       "      <th>4</th>\n",
       "      <td>6</td>\n",
       "      <td>-1.725988</td>\n",
       "    </tr>\n",
       "    <tr>\n",
       "      <th>5</th>\n",
       "      <td>7</td>\n",
       "      <td>-2.325947</td>\n",
       "    </tr>\n",
       "    <tr>\n",
       "      <th>6</th>\n",
       "      <td>8</td>\n",
       "      <td>-1.487145</td>\n",
       "    </tr>\n",
       "    <tr>\n",
       "      <th>7</th>\n",
       "      <td>9</td>\n",
       "      <td>-1.565930</td>\n",
       "    </tr>\n",
       "  </tbody>\n",
       "</table>\n",
       "</div>"
      ],
      "text/plain": [
       "   topic     score\n",
       "0      2  0.000000\n",
       "1      3  0.000000\n",
       "2      4  0.000000\n",
       "3      5  0.000000\n",
       "4      6 -1.725988\n",
       "5      7 -2.325947\n",
       "6      8 -1.487145\n",
       "7      9 -1.565930"
      ]
     },
     "execution_count": 71,
     "metadata": {},
     "output_type": "execute_result"
    }
   ],
   "source": [
    "results_lsi"
   ]
  },
  {
   "cell_type": "code",
   "execution_count": 72,
   "id": "ea00d689",
   "metadata": {},
   "outputs": [
    {
     "data": {
      "image/png": "[encoded data removed]",
      "text/plain": [
       "<Figure size 720x360 with 1 Axes>"
      ]
     },
     "metadata": {
      "needs_background": "light"
     },
     "output_type": "display_data"
    }
   ],
   "source": [
    "plt.figure(figsize = (10,5))\n",
    "s = pd.Series(results_lsi.score.values, index=results_lsi.topic.values)\n",
    "plt.xlabel(\"number of topics\")\n",
    "plt.ylabel(\"Score\")\n",
    "_ = s.plot()"
   ]
  },
  {
   "cell_type": "markdown",
   "id": "7c09fb61",
   "metadata": {},
   "source": [
    "# 5- Hierarchical Dirichlet Process (HDP)"
   ]
  },
  {
   "cell_type": "code",
   "execution_count": 73,
   "id": "b2d40814",
   "metadata": {},
   "outputs": [],
   "source": [
    "\n",
    "hdp_model = HdpModel(bow_corpus,dictionary)"
   ]
  },
  {
   "cell_type": "code",
   "execution_count": 74,
   "id": "7e345098",
   "metadata": {},
   "outputs": [
    {
     "name": "stdout",
     "output_type": "stream",
     "text": [
      "Topic: 0 \n",
      "Words: 0.057*واشنطن + 0.042*ليل + 0.032*يتم + 0.030*لي + 0.029*خاطر + 0.027*الله + 0.026*رسل + 0.024*حر + 0.023*جعل + 0.021*فجور\n",
      "Topic: 1 \n",
      "Words: 0.042*شبر + 0.040*حك + 0.035*برص + 0.034*شاهد + 0.031*علاج + 0.030*واحد + 0.027*سك + 0.026*سعودي + 0.024*كواليس + 0.023*استمر\n",
      "Topic: 2 \n",
      "Words: 0.067*برص + 0.036*مقرف + 0.034*تقدم + 0.027*خاطر + 0.026*قصة + 0.026*يانبع + 0.025*حقيق + 0.025*ليل + 0.023*حشيش + 0.022*إخوان\n",
      "Topic: 3 \n",
      "Words: 0.056*فجور + 0.036*اعداد + 0.035*حياة + 0.034*استمر + 0.028*سوري + 0.027*تقدم + 0.027*حمد + 0.026*الله + 0.026*عصام + 0.025*عمان\n",
      "Topic: 4 \n",
      "Words: 0.067*ندوة + 0.047*حمد + 0.033*يمن + 0.028*سابق + 0.025*يتم + 0.024*أربعاء + 0.024*حر + 0.024*ليبي + 0.024*بامريكا + 0.022*إخوان\n"
     ]
    }
   ],
   "source": [
    "for idxh, topich in hdp_model.print_topics(num_topics=5, num_words=10):\n",
    "    print('Topic: {} \\nWords: {}'.format(idxh, topich))"
   ]
  },
  {
   "cell_type": "markdown",
   "id": "9e970856",
   "metadata": {},
   "source": [
    "### HDP coherence with  u_mass "
   ]
  },
  {
   "cell_type": "code",
   "execution_count": 75,
   "id": "34f994ec",
   "metadata": {},
   "outputs": [
    {
     "name": "stdout",
     "output_type": "stream",
     "text": [
      "\n",
      "Coherence Score u_mass:  -22.80981189349504\n"
     ]
    }
   ],
   "source": [
    "\n",
    "cm = CoherenceModel(model=hdp_model, corpus=bow_corpus, coherence='u_mass')\n",
    "hdp_coherence_umass = cm.get_coherence()\n",
    "print('\\nCoherence Score u_mass: ', hdp_coherence_umass)"
   ]
  },
  {
   "cell_type": "markdown",
   "id": "9cd4107e",
   "metadata": {},
   "source": [
    "### HDP coherence with  cv "
   ]
  },
  {
   "cell_type": "code",
   "execution_count": 76,
   "id": "5425c764",
   "metadata": {
    "scrolled": true
   },
   "outputs": [
    {
     "name": "stdout",
     "output_type": "stream",
     "text": [
      "\n",
      "Coherence Score c_v:  0.6757975859893164\n"
     ]
    }
   ],
   "source": [
    "\n",
    "cm = CoherenceModel(model=hdp_model, corpus=bow_corpus, coherence='c_v', texts = processed_docs)\n",
    "hdp_coherence_cv = cm.get_coherence()\n",
    "print('\\nCoherence Score c_v: ', hdp_coherence_cv)"
   ]
  },
  {
   "cell_type": "markdown",
   "id": "f6277627",
   "metadata": {},
   "source": [
    "### HDP coherence with  c_uci"
   ]
  },
  {
   "cell_type": "code",
   "execution_count": 77,
   "id": "42dcaed9",
   "metadata": {},
   "outputs": [
    {
     "name": "stdout",
     "output_type": "stream",
     "text": [
      "\n",
      "Coherence Score c_uci:  -20.035817610325168\n"
     ]
    }
   ],
   "source": [
    "from gensim.models import CoherenceModel\n",
    "cm = CoherenceModel(model=hdp_model, corpus=bow_corpus, coherence='c_uci', texts = processed_docs)\n",
    "hdp_coherence_uci = cm.get_coherence()\n",
    "print('\\nCoherence Score c_uci: ', hdp_coherence_uci)"
   ]
  },
  {
   "cell_type": "markdown",
   "id": "7aa74d66",
   "metadata": {},
   "source": [
    "### HDP coherence with  c_nmpi"
   ]
  },
  {
   "cell_type": "code",
   "execution_count": 78,
   "id": "88132183",
   "metadata": {},
   "outputs": [
    {
     "name": "stdout",
     "output_type": "stream",
     "text": [
      "\n",
      "Coherence Score c_npmi:  -0.655963128383878\n"
     ]
    }
   ],
   "source": [
    "\n",
    "cm = CoherenceModel(model=hdp_model, corpus=bow_corpus, coherence='c_npmi', texts = processed_docs)\n",
    "hdp_coherence_nmpi = cm.get_coherence()\n",
    "print('\\nCoherence Score c_npmi: ', hdp_coherence_nmpi)"
   ]
  },
  {
   "cell_type": "markdown",
   "id": "3474f0d3",
   "metadata": {
    "id": "3474f0d3"
   },
   "source": [
    "# 6- Non-Negative Matrix Factorization(NMF) :"
   ]
  },
  {
   "cell_type": "code",
   "execution_count": 79,
   "id": "2435a1bd",
   "metadata": {
    "id": "2435a1bd"
   },
   "outputs": [],
   "source": [
    "\n",
    "processed_docs = ' '.join(str(v) for v in processed_docs)\n",
    "reshaped_text = arabic_reshaper.reshape(processed_docs)\n",
    "bidi_text = get_display(reshaped_text)"
   ]
  },
  {
   "cell_type": "code",
   "execution_count": 80,
   "id": "0b912416",
   "metadata": {
    "id": "0b912416"
   },
   "outputs": [],
   "source": [
    "# We only need the Headlines text column from the data\n",
    "#the count vectorizer module needs string inputs, not array, so I join them with a space. This is a very quick operation.\n",
    "train_headlines_sentences =[processed_docs]"
   ]
  },
  {
   "cell_type": "code",
   "execution_count": 81,
   "id": "9e2c0804",
   "metadata": {},
   "outputs": [
    {
     "data": {
      "text/plain": [
       "[\"['هنأ', 'دكتور', 'حمد', 'جمال', 'دين', 'قياد', 'حزب', 'مناسب', 'صدور', 'أولى', 'رواية'] ['برادع', 'يستقوى', 'بامريكا', 'مرةاخرى', 'رسل', 'عصام', 'عرى', 'واشنطن', 'مقرف'] ['حر', 'عدال', 'شاهد', 'ليل', 'اتحاد', 'ألام', 'استقصاء', 'تناول', 'سرار', 'كواليس', 'تعرض', 'أول', 'حقيق'] ['والد', 'اقولها', 'خاطر', 'حشيش', 'ضحك', 'اقولها', 'الله', 'كيل', 'أعطى', 'محاضر', 'فسق', 'فجور', 'جنوب', 'شيش', 'يانبع', 'حنان'] ['انتخب', 'العرص', 'انتخب', 'برص', 'مرسى', 'رئيسى', 'رئيسى'] ['امير', 'لي', 'علا', 'يتقال', 'ستريكر', 'صريح', 'كاريوكي', 'سك'] ['حك', 'حدث', 'فت', 'بين', 'كبير', 'حدث', 'غلط', 'واحد', 'استمر', 'قصة', 'يتم'] ['دع', 'حضور', 'ندوة', 'ثقاف', 'أربعاء', 'مركز', 'اعداد', 'قادة', 'تفاصيل'] ['عود', 'جماع', 'إخوان', 'حياة', 'سياسة', 'نفس', 'وضع', 'سابق', 'مستحيل', 'والطرمخة', 'جرائم', 'ماضي', 'جعل', 'تقدم', 'شبر'] ['علاج', 'سكر', 'نتشورال', 'سعودي', 'عراق', 'يمن', 'كويت', 'عمان', 'سوري', 'ليبي']\"]"
      ]
     },
     "execution_count": 81,
     "metadata": {},
     "output_type": "execute_result"
    }
   ],
   "source": [
    "train_headlines_sentences "
   ]
  },
  {
   "cell_type": "code",
   "execution_count": 82,
   "id": "5ddd61d4",
   "metadata": {
    "id": "5ddd61d4"
   },
   "outputs": [],
   "source": [
    "vectorizer = CountVectorizer();\n",
    "x_counts = vectorizer.fit_transform(train_headlines_sentences);"
   ]
  },
  {
   "cell_type": "code",
   "execution_count": 83,
   "id": "b5384c7a",
   "metadata": {
    "id": "b5384c7a"
   },
   "outputs": [],
   "source": [
    "transformer = TfidfTransformer(smooth_idf=False);\n",
    "x_tfidf = transformer.fit_transform(x_counts)"
   ]
  },
  {
   "cell_type": "code",
   "execution_count": 84,
   "id": "72437864",
   "metadata": {
    "id": "72437864"
   },
   "outputs": [],
   "source": [
    "xtfidf_norm = normalize(x_tfidf, norm='l1', axis=1)"
   ]
  },
  {
   "cell_type": "code",
   "execution_count": 85,
   "id": "863c74f4",
   "metadata": {
    "id": "863c74f4"
   },
   "outputs": [
    {
     "data": {
      "text/plain": [
       "NMF(init=None, n_components=10)"
      ]
     },
     "execution_count": 85,
     "metadata": {},
     "output_type": "execute_result"
    }
   ],
   "source": [
    "#obtain a NMF model.\n",
    "modelNMF = NMF(n_components=10, init=None);\n",
    "#fit the model\n",
    "modelNMF.fit(xtfidf_norm)"
   ]
  },
  {
   "cell_type": "code",
   "execution_count": 86,
   "id": "eef6cb03",
   "metadata": {
    "id": "eef6cb03"
   },
   "outputs": [],
   "source": [
    "def get_nmf_topics(modelNMF, n_top_words):\n",
    "    \n",
    "    #the word ids obtained need to be reverse-mapped to the words so we can print the topic names.\n",
    "    feat_names = vectorizer.get_feature_names()\n",
    "    \n",
    "    word_dict = {};\n",
    "    for i in range(10):\n",
    "        \n",
    "        #for each topic, obtain the largest values, and add the words they map to into the dictionary.\n",
    "        words_ids = modelNMF.components_[i].argsort()[:-20 - 1:-1]\n",
    "        words = [feat_names[key] for key in words_ids]\n",
    "        word_dict['Topic # ' + '{:02d}'.format(i+1)] = words;\n",
    "    \n",
    "    return pd.DataFrame(word_dict);"
   ]
  },
  {
   "cell_type": "code",
   "execution_count": 87,
   "id": "70771dcd",
   "metadata": {
    "id": "70771dcd"
   },
   "outputs": [
    {
     "data": {
      "text/html": [
       "<div>\n",
       "<style scoped>\n",
       "    .dataframe tbody tr th:only-of-type {\n",
       "        vertical-align: middle;\n",
       "    }\n",
       "\n",
       "    .dataframe tbody tr th {\n",
       "        vertical-align: top;\n",
       "    }\n",
       "\n",
       "    .dataframe thead th {\n",
       "        text-align: right;\n",
       "    }\n",
       "</style>\n",
       "<table border=\"1\" class=\"dataframe\">\n",
       "  <thead>\n",
       "    <tr style=\"text-align: right;\">\n",
       "      <th></th>\n",
       "      <th>Topic # 01</th>\n",
       "      <th>Topic # 02</th>\n",
       "      <th>Topic # 03</th>\n",
       "      <th>Topic # 04</th>\n",
       "      <th>Topic # 05</th>\n",
       "      <th>Topic # 06</th>\n",
       "      <th>Topic # 07</th>\n",
       "      <th>Topic # 08</th>\n",
       "      <th>Topic # 09</th>\n",
       "      <th>Topic # 10</th>\n",
       "    </tr>\n",
       "  </thead>\n",
       "  <tbody>\n",
       "    <tr>\n",
       "      <th>0</th>\n",
       "      <td>اقولها</td>\n",
       "      <td>تقدم</td>\n",
       "      <td>برص</td>\n",
       "      <td>يانبع</td>\n",
       "      <td>عود</td>\n",
       "      <td>ندوة</td>\n",
       "      <td>دكتور</td>\n",
       "      <td>مرةاخرى</td>\n",
       "      <td>جنوب</td>\n",
       "      <td>ضحك</td>\n",
       "    </tr>\n",
       "    <tr>\n",
       "      <th>1</th>\n",
       "      <td>انتخب</td>\n",
       "      <td>استمر</td>\n",
       "      <td>فت</td>\n",
       "      <td>لي</td>\n",
       "      <td>سرار</td>\n",
       "      <td>العرص</td>\n",
       "      <td>برادع</td>\n",
       "      <td>يمن</td>\n",
       "      <td>حياة</td>\n",
       "      <td>استمر</td>\n",
       "    </tr>\n",
       "    <tr>\n",
       "      <th>2</th>\n",
       "      <td>رئيسى</td>\n",
       "      <td>سابق</td>\n",
       "      <td>حقيق</td>\n",
       "      <td>ليل</td>\n",
       "      <td>اتحاد</td>\n",
       "      <td>نفس</td>\n",
       "      <td>رئيسى</td>\n",
       "      <td>مرسى</td>\n",
       "      <td>أعطى</td>\n",
       "      <td>جماع</td>\n",
       "    </tr>\n",
       "    <tr>\n",
       "      <th>3</th>\n",
       "      <td>حدث</td>\n",
       "      <td>ستريكر</td>\n",
       "      <td>مرةاخرى</td>\n",
       "      <td>عرى</td>\n",
       "      <td>سك</td>\n",
       "      <td>حياة</td>\n",
       "      <td>صدور</td>\n",
       "      <td>علا</td>\n",
       "      <td>كواليس</td>\n",
       "      <td>دع</td>\n",
       "    </tr>\n",
       "    <tr>\n",
       "      <th>4</th>\n",
       "      <td>إخوان</td>\n",
       "      <td>مناسب</td>\n",
       "      <td>علاج</td>\n",
       "      <td>جماع</td>\n",
       "      <td>محاضر</td>\n",
       "      <td>مستحيل</td>\n",
       "      <td>علاج</td>\n",
       "      <td>حمد</td>\n",
       "      <td>أولى</td>\n",
       "      <td>كبير</td>\n",
       "    </tr>\n",
       "    <tr>\n",
       "      <th>5</th>\n",
       "      <td>امير</td>\n",
       "      <td>جماع</td>\n",
       "      <td>عدال</td>\n",
       "      <td>حضور</td>\n",
       "      <td>شاهد</td>\n",
       "      <td>كاريوكي</td>\n",
       "      <td>جمال</td>\n",
       "      <td>والطرمخة</td>\n",
       "      <td>حك</td>\n",
       "      <td>حياة</td>\n",
       "    </tr>\n",
       "    <tr>\n",
       "      <th>6</th>\n",
       "      <td>حشيش</td>\n",
       "      <td>جرائم</td>\n",
       "      <td>واحد</td>\n",
       "      <td>أعطى</td>\n",
       "      <td>استقصاء</td>\n",
       "      <td>علا</td>\n",
       "      <td>والطرمخة</td>\n",
       "      <td>حك</td>\n",
       "      <td>سعودي</td>\n",
       "      <td>يمن</td>\n",
       "    </tr>\n",
       "    <tr>\n",
       "      <th>7</th>\n",
       "      <td>ليبي</td>\n",
       "      <td>أول</td>\n",
       "      <td>مركز</td>\n",
       "      <td>ضحك</td>\n",
       "      <td>رئيسى</td>\n",
       "      <td>أولى</td>\n",
       "      <td>كبير</td>\n",
       "      <td>الله</td>\n",
       "      <td>مستحيل</td>\n",
       "      <td>قصة</td>\n",
       "    </tr>\n",
       "    <tr>\n",
       "      <th>8</th>\n",
       "      <td>رواية</td>\n",
       "      <td>نفس</td>\n",
       "      <td>يمن</td>\n",
       "      <td>شيش</td>\n",
       "      <td>حمد</td>\n",
       "      <td>وضع</td>\n",
       "      <td>سياسة</td>\n",
       "      <td>بين</td>\n",
       "      <td>وضع</td>\n",
       "      <td>قادة</td>\n",
       "    </tr>\n",
       "    <tr>\n",
       "      <th>9</th>\n",
       "      <td>مقرف</td>\n",
       "      <td>يستقوى</td>\n",
       "      <td>صريح</td>\n",
       "      <td>فجور</td>\n",
       "      <td>والد</td>\n",
       "      <td>برص</td>\n",
       "      <td>فسق</td>\n",
       "      <td>والد</td>\n",
       "      <td>صريح</td>\n",
       "      <td>والطرمخة</td>\n",
       "    </tr>\n",
       "    <tr>\n",
       "      <th>10</th>\n",
       "      <td>أربعاء</td>\n",
       "      <td>ثقاف</td>\n",
       "      <td>يتقال</td>\n",
       "      <td>قادة</td>\n",
       "      <td>عصام</td>\n",
       "      <td>بين</td>\n",
       "      <td>كاريوكي</td>\n",
       "      <td>شبر</td>\n",
       "      <td>مرةاخرى</td>\n",
       "      <td>أعطى</td>\n",
       "    </tr>\n",
       "    <tr>\n",
       "      <th>11</th>\n",
       "      <td>ندوة</td>\n",
       "      <td>ضحك</td>\n",
       "      <td>جرائم</td>\n",
       "      <td>تناول</td>\n",
       "      <td>دكتور</td>\n",
       "      <td>عراق</td>\n",
       "      <td>الله</td>\n",
       "      <td>جماع</td>\n",
       "      <td>عراق</td>\n",
       "      <td>نتشورال</td>\n",
       "    </tr>\n",
       "    <tr>\n",
       "      <th>12</th>\n",
       "      <td>حر</td>\n",
       "      <td>بامريكا</td>\n",
       "      <td>يستقوى</td>\n",
       "      <td>مركز</td>\n",
       "      <td>بامريكا</td>\n",
       "      <td>فجور</td>\n",
       "      <td>شيش</td>\n",
       "      <td>مناسب</td>\n",
       "      <td>كويت</td>\n",
       "      <td>والد</td>\n",
       "    </tr>\n",
       "    <tr>\n",
       "      <th>13</th>\n",
       "      <td>تعرض</td>\n",
       "      <td>شيش</td>\n",
       "      <td>بين</td>\n",
       "      <td>مرةاخرى</td>\n",
       "      <td>نتشورال</td>\n",
       "      <td>حك</td>\n",
       "      <td>مقرف</td>\n",
       "      <td>فت</td>\n",
       "      <td>فت</td>\n",
       "      <td>حنان</td>\n",
       "    </tr>\n",
       "    <tr>\n",
       "      <th>14</th>\n",
       "      <td>كيل</td>\n",
       "      <td>دين</td>\n",
       "      <td>مناسب</td>\n",
       "      <td>عمان</td>\n",
       "      <td>سابق</td>\n",
       "      <td>مرسى</td>\n",
       "      <td>ستريكر</td>\n",
       "      <td>فجور</td>\n",
       "      <td>لي</td>\n",
       "      <td>أول</td>\n",
       "    </tr>\n",
       "    <tr>\n",
       "      <th>15</th>\n",
       "      <td>يتم</td>\n",
       "      <td>حك</td>\n",
       "      <td>حزب</td>\n",
       "      <td>ثقاف</td>\n",
       "      <td>عراق</td>\n",
       "      <td>بامريكا</td>\n",
       "      <td>لي</td>\n",
       "      <td>برص</td>\n",
       "      <td>تفاصيل</td>\n",
       "      <td>سياسة</td>\n",
       "    </tr>\n",
       "    <tr>\n",
       "      <th>16</th>\n",
       "      <td>حزب</td>\n",
       "      <td>سوري</td>\n",
       "      <td>عمان</td>\n",
       "      <td>ماضي</td>\n",
       "      <td>رسل</td>\n",
       "      <td>فسق</td>\n",
       "      <td>واحد</td>\n",
       "      <td>رئيسى</td>\n",
       "      <td>حضور</td>\n",
       "      <td>غلط</td>\n",
       "    </tr>\n",
       "    <tr>\n",
       "      <th>17</th>\n",
       "      <td>جنوب</td>\n",
       "      <td>دع</td>\n",
       "      <td>قادة</td>\n",
       "      <td>علا</td>\n",
       "      <td>أولى</td>\n",
       "      <td>رئيسى</td>\n",
       "      <td>ألام</td>\n",
       "      <td>كاريوكي</td>\n",
       "      <td>العرص</td>\n",
       "      <td>مرةاخرى</td>\n",
       "    </tr>\n",
       "    <tr>\n",
       "      <th>18</th>\n",
       "      <td>واشنطن</td>\n",
       "      <td>بين</td>\n",
       "      <td>ستريكر</td>\n",
       "      <td>والد</td>\n",
       "      <td>هنأ</td>\n",
       "      <td>جعل</td>\n",
       "      <td>سابق</td>\n",
       "      <td>أربعاء</td>\n",
       "      <td>علا</td>\n",
       "      <td>جرائم</td>\n",
       "    </tr>\n",
       "    <tr>\n",
       "      <th>19</th>\n",
       "      <td>سكر</td>\n",
       "      <td>مستحيل</td>\n",
       "      <td>رئيسى</td>\n",
       "      <td>يتم</td>\n",
       "      <td>جعل</td>\n",
       "      <td>والطرمخة</td>\n",
       "      <td>بين</td>\n",
       "      <td>عود</td>\n",
       "      <td>اقولها</td>\n",
       "      <td>سوري</td>\n",
       "    </tr>\n",
       "  </tbody>\n",
       "</table>\n",
       "</div>"
      ],
      "text/plain": [
       "   Topic # 01 Topic # 02 Topic # 03 Topic # 04 Topic # 05 Topic # 06  \\\n",
       "0      اقولها       تقدم        برص      يانبع        عود       ندوة   \n",
       "1       انتخب      استمر         فت         لي       سرار      العرص   \n",
       "2       رئيسى       سابق       حقيق        ليل      اتحاد        نفس   \n",
       "3         حدث     ستريكر    مرةاخرى        عرى         سك       حياة   \n",
       "4       إخوان      مناسب       علاج       جماع      محاضر     مستحيل   \n",
       "5        امير       جماع       عدال       حضور       شاهد    كاريوكي   \n",
       "6        حشيش      جرائم       واحد       أعطى    استقصاء        علا   \n",
       "7        ليبي        أول       مركز        ضحك      رئيسى       أولى   \n",
       "8       رواية        نفس        يمن        شيش        حمد        وضع   \n",
       "9        مقرف     يستقوى       صريح       فجور       والد        برص   \n",
       "10     أربعاء       ثقاف      يتقال       قادة       عصام        بين   \n",
       "11       ندوة        ضحك      جرائم      تناول      دكتور       عراق   \n",
       "12         حر    بامريكا     يستقوى       مركز    بامريكا       فجور   \n",
       "13       تعرض        شيش        بين    مرةاخرى    نتشورال         حك   \n",
       "14        كيل        دين      مناسب       عمان       سابق       مرسى   \n",
       "15        يتم         حك        حزب       ثقاف       عراق    بامريكا   \n",
       "16        حزب       سوري       عمان       ماضي        رسل        فسق   \n",
       "17       جنوب         دع       قادة        علا       أولى      رئيسى   \n",
       "18     واشنطن        بين     ستريكر       والد        هنأ        جعل   \n",
       "19        سكر     مستحيل      رئيسى        يتم        جعل   والطرمخة   \n",
       "\n",
       "   Topic # 07 Topic # 08 Topic # 09 Topic # 10  \n",
       "0       دكتور    مرةاخرى       جنوب        ضحك  \n",
       "1       برادع        يمن       حياة      استمر  \n",
       "2       رئيسى       مرسى       أعطى       جماع  \n",
       "3        صدور        علا     كواليس         دع  \n",
       "4        علاج        حمد       أولى       كبير  \n",
       "5        جمال   والطرمخة         حك       حياة  \n",
       "6    والطرمخة         حك      سعودي        يمن  \n",
       "7        كبير       الله     مستحيل        قصة  \n",
       "8       سياسة        بين        وضع       قادة  \n",
       "9         فسق       والد       صريح   والطرمخة  \n",
       "10    كاريوكي        شبر    مرةاخرى       أعطى  \n",
       "11       الله       جماع       عراق    نتشورال  \n",
       "12        شيش      مناسب       كويت       والد  \n",
       "13       مقرف         فت         فت       حنان  \n",
       "14     ستريكر       فجور         لي        أول  \n",
       "15         لي        برص     تفاصيل      سياسة  \n",
       "16       واحد      رئيسى       حضور        غلط  \n",
       "17       ألام    كاريوكي      العرص    مرةاخرى  \n",
       "18       سابق     أربعاء        علا      جرائم  \n",
       "19        بين        عود     اقولها       سوري  "
      ]
     },
     "execution_count": 87,
     "metadata": {},
     "output_type": "execute_result"
    }
   ],
   "source": [
    "get_nmf_topics(modelNMF, 20)"
   ]
  },
  {
   "cell_type": "code",
   "execution_count": 88,
   "id": "9db36348",
   "metadata": {},
   "outputs": [
    {
     "name": "stderr",
     "output_type": "stream",
     "text": [
      "C:\\Users\\PRO\\AppData\\Roaming\\Python\\Python39\\site-packages\\gensim\\models\\nmf.py:571: DeprecationWarning: Please use `csc_matrix` from the `scipy.sparse` namespace, the `scipy.sparse.csc` namespace is deprecated.\n",
      "  if isinstance(corpus, scipy.sparse.csc.csc_matrix):\n",
      "C:\\Users\\PRO\\AppData\\Roaming\\Python\\Python39\\site-packages\\gensim\\models\\nmf.py:588: DeprecationWarning: Using or importing the ABCs from 'collections' instead of from 'collections.abc' is deprecated since Python 3.3, and in 3.10 it will stop working\n",
      "  if isinstance(corpus, collections.Iterator) and self.passes > 1:\n",
      "C:\\Users\\PRO\\AppData\\Roaming\\Python\\Python39\\site-packages\\gensim\\models\\nmf.py:600: DeprecationWarning: Please use `csc_matrix` from the `scipy.sparse` namespace, the `scipy.sparse.csc` namespace is deprecated.\n",
      "  if isinstance(corpus, scipy.sparse.csc.csc_matrix):\n",
      "C:\\Users\\PRO\\AppData\\Roaming\\Python\\Python39\\site-packages\\gensim\\models\\nmf.py:613: DeprecationWarning: Please use `csc_matrix` from the `scipy.sparse` namespace, the `scipy.sparse.csc` namespace is deprecated.\n",
      "  if isinstance(corpus, scipy.sparse.csc.csc_matrix):\n",
      "C:\\Users\\PRO\\AppData\\Roaming\\Python\\Python39\\site-packages\\gensim\\models\\nmf.py:600: DeprecationWarning: Please use `csc_matrix` from the `scipy.sparse` namespace, the `scipy.sparse.csc` namespace is deprecated.\n",
      "  if isinstance(corpus, scipy.sparse.csc.csc_matrix):\n",
      "C:\\Users\\PRO\\AppData\\Roaming\\Python\\Python39\\site-packages\\gensim\\models\\nmf.py:613: DeprecationWarning: Please use `csc_matrix` from the `scipy.sparse` namespace, the `scipy.sparse.csc` namespace is deprecated.\n",
      "  if isinstance(corpus, scipy.sparse.csc.csc_matrix):\n",
      "C:\\Users\\PRO\\AppData\\Roaming\\Python\\Python39\\site-packages\\gensim\\models\\nmf.py:600: DeprecationWarning: Please use `csc_matrix` from the `scipy.sparse` namespace, the `scipy.sparse.csc` namespace is deprecated.\n",
      "  if isinstance(corpus, scipy.sparse.csc.csc_matrix):\n",
      "C:\\Users\\PRO\\AppData\\Roaming\\Python\\Python39\\site-packages\\gensim\\models\\nmf.py:613: DeprecationWarning: Please use `csc_matrix` from the `scipy.sparse` namespace, the `scipy.sparse.csc` namespace is deprecated.\n",
      "  if isinstance(corpus, scipy.sparse.csc.csc_matrix):\n",
      "C:\\Users\\PRO\\AppData\\Roaming\\Python\\Python39\\site-packages\\gensim\\models\\nmf.py:600: DeprecationWarning: Please use `csc_matrix` from the `scipy.sparse` namespace, the `scipy.sparse.csc` namespace is deprecated.\n",
      "  if isinstance(corpus, scipy.sparse.csc.csc_matrix):\n",
      "C:\\Users\\PRO\\AppData\\Roaming\\Python\\Python39\\site-packages\\gensim\\models\\nmf.py:613: DeprecationWarning: Please use `csc_matrix` from the `scipy.sparse` namespace, the `scipy.sparse.csc` namespace is deprecated.\n",
      "  if isinstance(corpus, scipy.sparse.csc.csc_matrix):\n",
      "C:\\Users\\PRO\\AppData\\Roaming\\Python\\Python39\\site-packages\\gensim\\models\\nmf.py:600: DeprecationWarning: Please use `csc_matrix` from the `scipy.sparse` namespace, the `scipy.sparse.csc` namespace is deprecated.\n",
      "  if isinstance(corpus, scipy.sparse.csc.csc_matrix):\n",
      "C:\\Users\\PRO\\AppData\\Roaming\\Python\\Python39\\site-packages\\gensim\\models\\nmf.py:613: DeprecationWarning: Please use `csc_matrix` from the `scipy.sparse` namespace, the `scipy.sparse.csc` namespace is deprecated.\n",
      "  if isinstance(corpus, scipy.sparse.csc.csc_matrix):\n"
     ]
    }
   ],
   "source": [
    "\n",
    "nmf = GensimNmf(\n",
    "    corpus=bow_corpus,\n",
    "    num_topics=5,\n",
    "    id2word=dictionary,\n",
    "    chunksize=1000,\n",
    "    passes=5,\n",
    "    eval_every=10,\n",
    "    minimum_probability=0,\n",
    "    random_state=0,\n",
    "    kappa=1,\n",
    ")"
   ]
  },
  {
   "cell_type": "markdown",
   "id": "ae31a0b4",
   "metadata": {},
   "source": [
    "### NMF coherence with Umass"
   ]
  },
  {
   "cell_type": "code",
   "execution_count": 89,
   "id": "c1b6cd39",
   "metadata": {},
   "outputs": [
    {
     "name": "stdout",
     "output_type": "stream",
     "text": [
      "\n",
      "Coherence Score u_mass:  -12.664218011462255\n"
     ]
    }
   ],
   "source": [
    "cm = CoherenceModel(model=nmf,dictionary=id2word, corpus=bow_corpus, coherence='u_mass')\n",
    "nmf_coherence_uMass = cm.get_coherence()\n",
    "print('\\nCoherence Score u_mass: ', nmf_coherence_uMass)"
   ]
  },
  {
   "cell_type": "markdown",
   "id": "f6ef107d",
   "metadata": {},
   "source": [
    "### NMF coherence with C_nmpi"
   ]
  },
  {
   "cell_type": "code",
   "execution_count": 90,
   "id": "22ca1a35",
   "metadata": {},
   "outputs": [
    {
     "name": "stdout",
     "output_type": "stream",
     "text": [
      "\n",
      "Coherence Score c_npmi:  -0.2563636005240045\n"
     ]
    }
   ],
   "source": [
    "documents = data['text'].values\n",
    "texts = [[word for word in str(document).split()] for document in documents]\n",
    "id2word = corpora.Dictionary(texts)\n",
    "corpus = [id2word.doc2bow(text) for text in texts]\n",
    "\n",
    "cm = CoherenceModel(model=nmf,texts=texts,dictionary=id2word, corpus=bow_corpus, coherence='c_npmi')\n",
    "nmf_coherence_cnmpi = cm.get_coherence()\n",
    "print('\\nCoherence Score c_npmi: ', nmf_coherence_cnmpi)"
   ]
  },
  {
   "cell_type": "markdown",
   "id": "dd3ffe2c",
   "metadata": {},
   "source": [
    "### NMF coherence with c_uci"
   ]
  },
  {
   "cell_type": "code",
   "execution_count": 91,
   "id": "9dfef19b",
   "metadata": {},
   "outputs": [
    {
     "name": "stdout",
     "output_type": "stream",
     "text": [
      "\n",
      "Coherence Score c_uci:  -9.201128015182338\n"
     ]
    }
   ],
   "source": [
    "documents = data['text'].values\n",
    "texts = [[word for word in str(document).split()] for document in documents]\n",
    "id2word = corpora.Dictionary(texts)\n",
    "corpus = [id2word.doc2bow(text) for text in texts]\n",
    "cm = CoherenceModel(model=nmf,texts=texts,dictionary=id2word, corpus=bow_corpus, coherence='c_uci')\n",
    "nmf_coherence_cuci = cm.get_coherence()\n",
    "print('\\nCoherence Score c_uci: ', nmf_coherence_cuci)"
   ]
  },
  {
   "cell_type": "markdown",
   "id": "7f7b4dd2",
   "metadata": {},
   "source": [
    "### NMF coherence with cv"
   ]
  },
  {
   "cell_type": "code",
   "execution_count": 92,
   "id": "27108f60",
   "metadata": {},
   "outputs": [
    {
     "name": "stdout",
     "output_type": "stream",
     "text": [
      "\n",
      "Coherence Score c_cv:  0.39626292306354577\n"
     ]
    }
   ],
   "source": [
    "documents = data['text'].values\n",
    "texts = [[word for word in str(document).split()] for document in documents]\n",
    "id2word = corpora.Dictionary(texts)\n",
    "corpus = [id2word.doc2bow(text) for text in texts]\n",
    "cm = CoherenceModel(model=nmf,texts=texts,dictionary=id2word, corpus=bow_corpus, coherence='c_v')\n",
    "nmf_coherence_cv = cm.get_coherence()\n",
    "print('\\nCoherence Score c_cv: ', nmf_coherence_cv)"
   ]
  },
  {
   "cell_type": "markdown",
   "id": "woLQ5TeTVufs",
   "metadata": {
    "id": "woLQ5TeTVufs"
   },
   "source": [
    "# 7- Pachinko allocation (PAM)"
   ]
  },
  {
   "cell_type": "code",
   "execution_count": 93,
   "id": "UNi4gHUllcbY",
   "metadata": {
    "id": "UNi4gHUllcbY",
    "scrolled": false
   },
   "outputs": [
    {
     "name": "stdout",
     "output_type": "stream",
     "text": [
      "Iteration: 10\tLog-likelihood: -8.697644575225583\n",
      "Iteration: 20\tLog-likelihood: nan\n",
      "Iteration: 30\tLog-likelihood: nan\n",
      "Iteration: 40\tLog-likelihood: nan\n",
      "Iteration: 50\tLog-likelihood: nan\n",
      "Iteration: 60\tLog-likelihood: nan\n",
      "Iteration: 70\tLog-likelihood: nan\n",
      "Iteration: 80\tLog-likelihood: nan\n",
      "Iteration: 90\tLog-likelihood: nan\n",
      "Top 10 words of topic #0\n",
      "[(\"'اقولها',\", 0.009345795027911663), (\"'حدث',\", 0.009345795027911663), (\"['هنأ',\", 0.009345795027911663), (\"'دكتور',\", 0.009345795027911663), (\"'حمد',\", 0.009345795027911663), (\"'جمال',\", 0.009345795027911663), (\"'دين',\", 0.009345795027911663), (\"'قياد',\", 0.009345795027911663), (\"'حزب',\", 0.009345795027911663), (\"'مناسب',\", 0.009345795027911663)]\n",
      "Top 10 words of topic #1\n",
      "[(\"'اقولها',\", 0.009345795027911663), (\"'حدث',\", 0.009345795027911663), (\"['هنأ',\", 0.009345795027911663), (\"'دكتور',\", 0.009345795027911663), (\"'حمد',\", 0.009345795027911663), (\"'جمال',\", 0.009345795027911663), (\"'دين',\", 0.009345795027911663), (\"'قياد',\", 0.009345795027911663), (\"'حزب',\", 0.009345795027911663), (\"'مناسب',\", 0.009345795027911663)]\n",
      "Top 10 words of topic #2\n",
      "[(\"'اقولها',\", 0.009345795027911663), (\"'حدث',\", 0.009345795027911663), (\"['هنأ',\", 0.009345795027911663), (\"'دكتور',\", 0.009345795027911663), (\"'حمد',\", 0.009345795027911663), (\"'جمال',\", 0.009345795027911663), (\"'دين',\", 0.009345795027911663), (\"'قياد',\", 0.009345795027911663), (\"'حزب',\", 0.009345795027911663), (\"'مناسب',\", 0.009345795027911663)]\n",
      "Top 10 words of topic #3\n",
      "[(\"'اقولها',\", 0.009345795027911663), (\"'حدث',\", 0.009345795027911663), (\"['هنأ',\", 0.009345795027911663), (\"'دكتور',\", 0.009345795027911663), (\"'حمد',\", 0.009345795027911663), (\"'جمال',\", 0.009345795027911663), (\"'دين',\", 0.009345795027911663), (\"'قياد',\", 0.009345795027911663), (\"'حزب',\", 0.009345795027911663), (\"'مناسب',\", 0.009345795027911663)]\n",
      "Top 10 words of topic #4\n",
      "[(\"'اقولها',\", 0.009345795027911663), (\"'حدث',\", 0.009345795027911663), (\"['هنأ',\", 0.009345795027911663), (\"'دكتور',\", 0.009345795027911663), (\"'حمد',\", 0.009345795027911663), (\"'جمال',\", 0.009345795027911663), (\"'دين',\", 0.009345795027911663), (\"'قياد',\", 0.009345795027911663), (\"'حزب',\", 0.009345795027911663), (\"'مناسب',\", 0.009345795027911663)]\n"
     ]
    }
   ],
   "source": [
    "\n",
    "k = 5\n",
    "mdl = tp.PAModel(k1=5, k2=25)\n",
    "for line in [processed_docs]:\n",
    "    mdl.add_doc(line.strip().split())\n",
    "\n",
    "for i in range(10,100,10):\n",
    "    mdl.train(100)\n",
    "    print('Iteration: {}\\tLog-likelihood: {}'.format( i,mdl.ll_per_word))\n",
    "\n",
    "# save into file\n",
    "#mdl.save('sample_PAM_model.bin')\n",
    "\n",
    "# load from file\n",
    "#mdl = tp.PAModel.load('sample_PAM_model.bin')\n",
    "for s in range(mdl.k):\n",
    "    if not mdl.get_sub_topics(s): continue\n",
    "    print('Top 10 words of topic #{}'.format(s))\n",
    "    print(mdl.get_topic_words(k,top_n=10))  \n"
   ]
  },
  {
   "cell_type": "markdown",
   "id": "0d06225a",
   "metadata": {},
   "source": [
    "### PAM coherence with Umass"
   ]
  },
  {
   "cell_type": "code",
   "execution_count": 94,
   "id": "70f664a1",
   "metadata": {},
   "outputs": [
    {
     "name": "stdout",
     "output_type": "stream",
     "text": [
      "==== Coherence : u_mass ====\n",
      "Average: -1.1102230246251565e-16 \n",
      "Per Topic: [-1.1102230246251565e-16, -1.1102230246251565e-16, -1.1102230246251565e-16, -1.1102230246251565e-16, -1.1102230246251565e-16]\n",
      "\n"
     ]
    }
   ],
   "source": [
    "\n",
    "coh = tp.coherence.Coherence(mdl, coherence='u_mass')\n",
    "PAM_umass_coherence = coh.get_score()\n",
    "coherence_per_topic = [coh.get_score(topic_id=k) for k in range(mdl.k)]\n",
    "print('==== Coherence : {} ===='.format('u_mass'))\n",
    "print('Average:', PAM_umass_coherence, '\\nPer Topic:', coherence_per_topic)\n",
    "print()"
   ]
  },
  {
   "cell_type": "markdown",
   "id": "84bb1670",
   "metadata": {},
   "source": [
    "### PAM coherence C_uci"
   ]
  },
  {
   "cell_type": "code",
   "execution_count": 95,
   "id": "18a52c86",
   "metadata": {},
   "outputs": [
    {
     "name": "stdout",
     "output_type": "stream",
     "text": [
      "==== Coherence : c_uci ====\n",
      "Average: -6.040275876788976 \n",
      "Per Topic: [-6.040275876788976, -6.040275876788976, -6.040275876788976, -6.040275876788976, -6.040275876788976]\n",
      "\n"
     ]
    }
   ],
   "source": [
    "\n",
    "coh = tp.coherence.Coherence(mdl, coherence='c_uci')\n",
    "PAM_cuci_coherence = coh.get_score()\n",
    "coherence_per_topic = [coh.get_score(topic_id=k) for k in range(mdl.k)]\n",
    "print('==== Coherence : {} ===='.format('c_uci'))\n",
    "print('Average:', PAM_cuci_coherence, '\\nPer Topic:', coherence_per_topic)\n",
    "print()\n"
   ]
  },
  {
   "cell_type": "markdown",
   "id": "d46128be",
   "metadata": {},
   "source": [
    "### PAM coherence with c_nmpi"
   ]
  },
  {
   "cell_type": "code",
   "execution_count": 96,
   "id": "8506501f",
   "metadata": {},
   "outputs": [
    {
     "name": "stdout",
     "output_type": "stream",
     "text": [
      "==== Coherence : c_npmi ====\n",
      "Average: 0.10369340698910308 \n",
      "Per Topic: [0.10369340698910307, 0.10369340698910307, 0.10369340698910307, 0.10369340698910307, 0.10369340698910307]\n",
      "\n"
     ]
    }
   ],
   "source": [
    "\n",
    "coh = tp.coherence.Coherence(mdl, coherence='c_npmi')\n",
    "PAM_cnpmi_coherence = coh.get_score()\n",
    "coherence_per_topic = [coh.get_score(topic_id=k) for k in range(mdl.k)]\n",
    "print('==== Coherence : {} ===='.format('c_npmi'))\n",
    "print('Average:', PAM_cnpmi_coherence, '\\nPer Topic:', coherence_per_topic)\n",
    "print()\n"
   ]
  },
  {
   "cell_type": "markdown",
   "id": "b6fad1ea",
   "metadata": {},
   "source": [
    "### PAM coherence with cv"
   ]
  },
  {
   "cell_type": "code",
   "execution_count": 97,
   "id": "f4b66480",
   "metadata": {},
   "outputs": [
    {
     "name": "stdout",
     "output_type": "stream",
     "text": [
      "==== Coherence : c_v ====\n",
      "Average: 0.3162277638912201 \n",
      "Per Topic: [0.3162277638912201, 0.3162277638912201, 0.3162277638912201, 0.3162277638912201, 0.3162277638912201]\n",
      "\n"
     ]
    }
   ],
   "source": [
    "\n",
    "coh = tp.coherence.Coherence(mdl, coherence='c_v')\n",
    "PAM_cv_coherence = coh.get_score()\n",
    "coherence_per_topic = [coh.get_score(topic_id=k) for k in range(mdl.k)]\n",
    "print('==== Coherence : {} ===='.format('c_v'))\n",
    "print('Average:', PAM_cv_coherence, '\\nPer Topic:', coherence_per_topic)\n",
    "print()\n"
   ]
  },
  {
   "cell_type": "markdown",
   "id": "3qrzMcjaNXcF",
   "metadata": {
    "id": "3qrzMcjaNXcF"
   },
   "source": [
    "# 8- Hierarchical Pachinko allocation (HPAM)"
   ]
  },
  {
   "cell_type": "code",
   "execution_count": 98,
   "id": "3fGmtYHCNZT1",
   "metadata": {
    "id": "3fGmtYHCNZT1"
   },
   "outputs": [
    {
     "name": "stdout",
     "output_type": "stream",
     "text": [
      "Iteration: 10\tLog-likelihood: -2.2492008485293034\n",
      "Iteration: 20\tLog-likelihood: 16.56817130878602\n",
      "Iteration: 30\tLog-likelihood: 28.835790332962134\n",
      "Iteration: 40\tLog-likelihood: 50.42644481495057\n",
      "Iteration: 50\tLog-likelihood: 49.25375047064634\n",
      "Iteration: 60\tLog-likelihood: 87.8912382876808\n",
      "Iteration: 70\tLog-likelihood: 88.48241788829856\n",
      "Iteration: 80\tLog-likelihood: 87.53285239002061\n",
      "Iteration: 90\tLog-likelihood: 125.00209886079159\n",
      "Top 10 words of topic #0\n",
      "[(\"'اقولها',\", 0.009345795027911663), (\"'حدث',\", 0.009345795027911663), (\"['هنأ',\", 0.009345795027911663), (\"'دكتور',\", 0.009345795027911663), (\"'حمد',\", 0.009345795027911663), (\"'جمال',\", 0.009345795027911663), (\"'دين',\", 0.009345795027911663), (\"'قياد',\", 0.009345795027911663), (\"'حزب',\", 0.009345795027911663), (\"'مناسب',\", 0.009345795027911663)]\n",
      "Top 10 words of topic #1\n",
      "[(\"'اقولها',\", 0.009345795027911663), (\"'حدث',\", 0.009345795027911663), (\"['هنأ',\", 0.009345795027911663), (\"'دكتور',\", 0.009345795027911663), (\"'حمد',\", 0.009345795027911663), (\"'جمال',\", 0.009345795027911663), (\"'دين',\", 0.009345795027911663), (\"'قياد',\", 0.009345795027911663), (\"'حزب',\", 0.009345795027911663), (\"'مناسب',\", 0.009345795027911663)]\n",
      "Top 10 words of topic #2\n",
      "[(\"'اقولها',\", 0.009345795027911663), (\"'حدث',\", 0.009345795027911663), (\"['هنأ',\", 0.009345795027911663), (\"'دكتور',\", 0.009345795027911663), (\"'حمد',\", 0.009345795027911663), (\"'جمال',\", 0.009345795027911663), (\"'دين',\", 0.009345795027911663), (\"'قياد',\", 0.009345795027911663), (\"'حزب',\", 0.009345795027911663), (\"'مناسب',\", 0.009345795027911663)]\n",
      "Top 10 words of topic #3\n",
      "[(\"'اقولها',\", 0.009345795027911663), (\"'حدث',\", 0.009345795027911663), (\"['هنأ',\", 0.009345795027911663), (\"'دكتور',\", 0.009345795027911663), (\"'حمد',\", 0.009345795027911663), (\"'جمال',\", 0.009345795027911663), (\"'دين',\", 0.009345795027911663), (\"'قياد',\", 0.009345795027911663), (\"'حزب',\", 0.009345795027911663), (\"'مناسب',\", 0.009345795027911663)]\n",
      "Top 10 words of topic #4\n",
      "[(\"'اقولها',\", 0.009345795027911663), (\"'حدث',\", 0.009345795027911663), (\"['هنأ',\", 0.009345795027911663), (\"'دكتور',\", 0.009345795027911663), (\"'حمد',\", 0.009345795027911663), (\"'جمال',\", 0.009345795027911663), (\"'دين',\", 0.009345795027911663), (\"'قياد',\", 0.009345795027911663), (\"'حزب',\", 0.009345795027911663), (\"'مناسب',\", 0.009345795027911663)]\n"
     ]
    }
   ],
   "source": [
    "\n",
    "k = 5\n",
    "mdlH = tp.HPAModel(k1=5, k2=25)\n",
    "\n",
    "for line in [processed_docs]:\n",
    "    mdlH.add_doc(line.strip().split())\n",
    "\n",
    "for i in range(10,100,10):\n",
    "    mdlH.train(100)\n",
    "    print('Iteration: {}\\tLog-likelihood: {}'.format( i,mdlH.ll_per_word))\n",
    "\n",
    "# save into file\n",
    "#mdl.save('sample_PAM_model.bin')\n",
    "\n",
    "# load from file\n",
    "#mdl = tp.PAModel.load('sample_PAM_model.bin')\n",
    "for s in range(mdlH.k):\n",
    "    if not mdlH.get_sub_topics(s): continue\n",
    "    print('Top 10 words of topic #{}'.format(s))\n",
    "    print(mdlH.get_topic_words(k,top_n=10))  \n",
    "\n"
   ]
  },
  {
   "cell_type": "markdown",
   "id": "ccfb1a5d",
   "metadata": {},
   "source": [
    "### HPAM coherence with Umass"
   ]
  },
  {
   "cell_type": "code",
   "execution_count": 99,
   "id": "e3a9b5b9",
   "metadata": {},
   "outputs": [
    {
     "name": "stdout",
     "output_type": "stream",
     "text": [
      "==== Coherence : u_mass ====\n",
      "Average: -1.1102230246251565e-16 \n",
      "Per Topic: [-1.1102230246251565e-16, -1.1102230246251565e-16, -1.1102230246251565e-16, -1.1102230246251565e-16, -1.1102230246251565e-16]\n",
      "\n"
     ]
    }
   ],
   "source": [
    "\n",
    "coh = tp.coherence.Coherence(mdlH, coherence='u_mass')\n",
    "HPAM_umass_coherence = coh.get_score()\n",
    "coherence_per_topic = [coh.get_score(topic_id=k) for k in range(mdlH.k)]\n",
    "print('==== Coherence : {} ===='.format('u_mass'))\n",
    "print('Average:', HPAM_umass_coherence, '\\nPer Topic:', coherence_per_topic)\n",
    "print()\n"
   ]
  },
  {
   "cell_type": "markdown",
   "id": "fd7b6ccb",
   "metadata": {},
   "source": [
    "### HPAM coherence with C_uci"
   ]
  },
  {
   "cell_type": "code",
   "execution_count": 100,
   "id": "cc02308b",
   "metadata": {},
   "outputs": [
    {
     "name": "stdout",
     "output_type": "stream",
     "text": [
      "==== Coherence : c_uci ====\n",
      "Average: -14.600013634047892 \n",
      "Per Topic: [-6.040275876788976, -19.988310322302674, -15.706894455339352, -14.82609748720111, -16.438490028607347]\n",
      "\n"
     ]
    }
   ],
   "source": [
    "\n",
    "coh = tp.coherence.Coherence(mdlH, coherence='c_uci')\n",
    "HPAM_cuci_coherence = coh.get_score()\n",
    "coherence_per_topic = [coh.get_score(topic_id=k) for k in range(mdlH.k)]\n",
    "print('==== Coherence : {} ===='.format('c_uci'))\n",
    "print('Average:', HPAM_cuci_coherence, '\\nPer Topic:', coherence_per_topic)\n",
    "print()\n"
   ]
  },
  {
   "cell_type": "markdown",
   "id": "89690ded",
   "metadata": {},
   "source": [
    "### HPAM coherence with C_nmpi"
   ]
  },
  {
   "cell_type": "code",
   "execution_count": 101,
   "id": "9ca3c6ef",
   "metadata": {},
   "outputs": [
    {
     "name": "stdout",
     "output_type": "stream",
     "text": [
      "==== Coherence : c_npmi ====\n",
      "Average: -0.37352435677417056 \n",
      "Per Topic: [0.10369340698910307, -0.6891221115797148, -0.38418603199784523, -0.4681924897956003, -0.4298145574867957]\n",
      "\n"
     ]
    }
   ],
   "source": [
    "\n",
    "coh = tp.coherence.Coherence(mdlH, coherence='c_npmi')\n",
    "HPAM_cnmpi_coherence = coh.get_score()\n",
    "coherence_per_topic = [coh.get_score(topic_id=k) for k in range(mdlH.k)]\n",
    "print('==== Coherence : {} ===='.format('c_npmi'))\n",
    "print('Average:', HPAM_cnmpi_coherence, '\\nPer Topic:', coherence_per_topic)\n",
    "print()\n"
   ]
  },
  {
   "cell_type": "markdown",
   "id": "b6d4ee1d",
   "metadata": {},
   "source": [
    "### HPAM coherence with CV"
   ]
  },
  {
   "cell_type": "code",
   "execution_count": 102,
   "id": "1a2fcf29",
   "metadata": {},
   "outputs": [
    {
     "name": "stdout",
     "output_type": "stream",
     "text": [
      "==== Coherence : c_v ====\n",
      "Average: 0.3162277638912201 \n",
      "Per Topic: [0.3162277638912201, 0.3162277638912201, 0.3162277638912201, 0.3162277638912201, 0.3162277638912201]\n",
      "\n"
     ]
    }
   ],
   "source": [
    "\n",
    "coh = tp.coherence.Coherence(mdlH, coherence='c_v')\n",
    "HPAM_cv_coherence = coh.get_score()\n",
    "coherence_per_topic = [coh.get_score(topic_id=k) for k in range(mdlH.k)]\n",
    "print('==== Coherence : {} ===='.format('c_v'))\n",
    "print('Average:', HPAM_cv_coherence, '\\nPer Topic:', coherence_per_topic)\n",
    "print()"
   ]
  },
  {
   "cell_type": "markdown",
   "id": "a162a24c",
   "metadata": {},
   "source": [
    "# 9- Dirichlet Multinomial Regression(DMR)"
   ]
  },
  {
   "cell_type": "code",
   "execution_count": 103,
   "id": "DByFX_ADbIff",
   "metadata": {
    "id": "DByFX_ADbIff"
   },
   "outputs": [
    {
     "name": "stdout",
     "output_type": "stream",
     "text": [
      "Iteration: 10\tLog-likelihood: -8.944056787348668\n",
      "Iteration: 20\tLog-likelihood: -8.957104729197988\n",
      "Iteration: 30\tLog-likelihood: -8.884842822687068\n",
      "Iteration: 40\tLog-likelihood: -8.915286818707209\n",
      "Iteration: 50\tLog-likelihood: -8.894755308200187\n",
      "Iteration: 60\tLog-likelihood: -8.987022952544033\n",
      "Iteration: 70\tLog-likelihood: -8.897879774930006\n",
      "Iteration: 80\tLog-likelihood: -8.949034478788802\n",
      "Iteration: 90\tLog-likelihood: -8.907220589424218\n"
     ]
    }
   ],
   "source": [
    "\n",
    "corpus = tp.utils.Corpus()\n",
    "\n",
    "mdlD = tp.DMRModel(tw=tp.TermWeight.ONE, \n",
    "    k=20,\n",
    "    corpus=corpus)\n",
    "\n",
    "for line in [processed_docs]:\n",
    "    mdlD.add_doc(line.strip().split())\n",
    "\n",
    "for i in range(10,100,10):\n",
    "    mdlD.train(100)\n",
    "    print('Iteration: {}\\tLog-likelihood: {}'.format( i,mdlD.ll_per_word))\n",
    "\n"
   ]
  },
  {
   "cell_type": "code",
   "execution_count": 104,
   "id": "b75d6dcb",
   "metadata": {},
   "outputs": [
    {
     "name": "stdout",
     "output_type": "stream",
     "text": [
      "Iteration: 0000 LL per word: -8.907\n",
      "Iteration: 0020 LL per word: -8.877\n",
      "Iteration: 0040 LL per word: -8.868\n",
      "Iteration: 0060 LL per word: -8.913\n",
      "Iteration: 0080 LL per word: -8.955\n",
      "Iteration: 0100 LL per word: -8.901\n",
      "Iteration: 0120 LL per word: -8.978\n",
      "Iteration: 0140 LL per word: -8.995\n",
      "Iteration: 0160 LL per word: -8.971\n",
      "Iteration: 0180 LL per word: -8.93\n",
      "Iteration: 0200 LL per word: -8.987\n",
      "Iteration: 0220 LL per word: -8.937\n",
      "Iteration: 0240 LL per word: -8.909\n",
      "Iteration: 0260 LL per word: -8.931\n",
      "Iteration: 0280 LL per word: -8.93\n",
      "Iteration: 0300 LL per word: -8.99\n",
      "Iteration: 0320 LL per word: -8.911\n",
      "Iteration: 0340 LL per word: -8.986\n",
      "Iteration: 0360 LL per word: -8.905\n",
      "Iteration: 0380 LL per word: -8.914\n",
      "Iteration: 0400 LL per word: -8.929\n",
      "Iteration: 0420 LL per word: -8.934\n",
      "Iteration: 0440 LL per word: -8.933\n",
      "Iteration: 0460 LL per word: -8.97\n",
      "Iteration: 0480 LL per word: -8.888\n",
      "Iteration: 0500 LL per word: -8.95\n",
      "Iteration: 0520 LL per word: -8.926\n",
      "Iteration: 0540 LL per word: -8.929\n",
      "Iteration: 0560 LL per word: -8.906\n",
      "Iteration: 0580 LL per word: -8.854\n",
      "Iteration: 0600 LL per word: -8.957\n",
      "Iteration: 0620 LL per word: -8.95\n",
      "Iteration: 0640 LL per word: -8.912\n",
      "Iteration: 0660 LL per word: -8.893\n",
      "Iteration: 0680 LL per word: -8.928\n",
      "Iteration: 0700 LL per word: -8.907\n",
      "Iteration: 0720 LL per word: -8.828\n",
      "Iteration: 0740 LL per word: -8.869\n",
      "Iteration: 0760 LL per word: -8.858\n",
      "Iteration: 0780 LL per word: -8.874\n",
      "Iteration: 0800 LL per word: -8.977\n",
      "Iteration: 0820 LL per word: -8.932\n",
      "Iteration: 0840 LL per word: -8.915\n",
      "Iteration: 0860 LL per word: -8.963\n",
      "Iteration: 0880 LL per word: -8.893\n",
      "Iteration: 0900 LL per word: -8.955\n",
      "Iteration: 0920 LL per word: -8.89\n",
      "Iteration: 0940 LL per word: -8.963\n",
      "Iteration: 0960 LL per word: -8.892\n",
      "Iteration: 0980 LL per word: -8.88\n",
      "Iteration: 1000 LL per word: -8.965\n",
      "Iteration: 1020 LL per word: -8.93\n",
      "Iteration: 1040 LL per word: -8.981\n",
      "Iteration: 1060 LL per word: -8.899\n",
      "Iteration: 1080 LL per word: -9.02\n",
      "Iteration: 1100 LL per word: -8.876\n",
      "Iteration: 1120 LL per word: -8.946\n",
      "Iteration: 1140 LL per word: -8.832\n",
      "Iteration: 1160 LL per word: -8.924\n",
      "Iteration: 1180 LL per word: -8.973\n",
      "Iteration: 1200 LL per word: -8.947\n",
      "Iteration: 1220 LL per word: -8.906\n",
      "Iteration: 1240 LL per word: -8.906\n",
      "Iteration: 1260 LL per word: -8.884\n",
      "Iteration: 1280 LL per word: -8.933\n",
      "Iteration: 1300 LL per word: -8.831\n",
      "Iteration: 1320 LL per word: -8.981\n",
      "Iteration: 1340 LL per word: -8.908\n",
      "Iteration: 1360 LL per word: -8.862\n",
      "Iteration: 1380 LL per word: -8.922\n",
      "Iteration: 1400 LL per word: -8.934\n",
      "Iteration: 1420 LL per word: -8.813\n",
      "Iteration: 1440 LL per word: -8.914\n",
      "Iteration: 1460 LL per word: -8.879\n",
      "Iteration: 1480 LL per word: -8.89\n",
      "Iteration: 1500 LL per word: -8.922\n",
      "Iteration: 1520 LL per word: -8.913\n",
      "Iteration: 1540 LL per word: -8.814\n",
      "Iteration: 1560 LL per word: -8.895\n",
      "Iteration: 1580 LL per word: -8.986\n",
      "Iteration: 1600 LL per word: -8.985\n",
      "Iteration: 1620 LL per word: -8.943\n",
      "Iteration: 1640 LL per word: -8.887\n",
      "Iteration: 1660 LL per word: -8.954\n",
      "Iteration: 1680 LL per word: -8.958\n",
      "Iteration: 1700 LL per word: -8.886\n",
      "Iteration: 1720 LL per word: -8.877\n",
      "Iteration: 1740 LL per word: -8.9\n",
      "Iteration: 1760 LL per word: -8.907\n",
      "Iteration: 1780 LL per word: -8.897\n",
      "Iteration: 1800 LL per word: -8.904\n",
      "Iteration: 1820 LL per word: -8.941\n",
      "Iteration: 1840 LL per word: -8.92\n",
      "Iteration: 1860 LL per word: -8.993\n",
      "Iteration: 1880 LL per word: -8.899\n",
      "Iteration: 1900 LL per word: -8.907\n",
      "Iteration: 1920 LL per word: -8.873\n",
      "Iteration: 1940 LL per word: -8.924\n",
      "Iteration: 1960 LL per word: -8.894\n",
      "Iteration: 1980 LL per word: -8.971\n",
      "Iteration: 2000 LL per word: -8.957\n",
      "<Basic Info>\n",
      "| DMRModel (current version: 0.12.2)\n",
      "| 1 docs, 109 words\n",
      "| Total Vocabs: 107, Used Vocabs: 107\n",
      "| Entropy of words: 4.66591\n",
      "| Entropy of term-weighted words: 4.66591\n",
      "| Removed Vocabs: <NA>\n",
      "|\n",
      "<Training Info>\n",
      "| Iterations: 2900, Burn-in steps: 0\n",
      "| Optimization Interval: 10\n",
      "| Log-likelihood per word: -8.95736\n",
      "|\n",
      "<Initial Parameters>\n",
      "| tw: TermWeight.ONE\n",
      "| min_cf: 0 (minimum collection frequency of words)\n",
      "| min_df: 0 (minimum document frequency of words)\n",
      "| rm_top: 0 (the number of top words to be removed)\n",
      "| k: 20 (the number of topics between 1 ~ 32767)\n",
      "| alpha: [0.1] (an initial value of exponential of mean of normal distribution for `lambdas`, given as a single `float` in case of symmetric prior and as a list with length `k` of `float` in case of asymmetric prior.)\n",
      "| eta: 0.01 (hyperparameter of Dirichlet distribution for topic - word)\n",
      "| sigma: 1.0 (standard deviation of normal distribution for `lambdas`)\n",
      "| alpha_epsilon: 1e-10 (small smoothing value for preventing `exp(lambdas)` to be near zero)\n",
      "| seed: 2104764704 (random seed)\n",
      "| trained in version 0.12.2\n",
      "|\n",
      "<Parameters>\n",
      "| lambda (feature vector per metadata of documents)\n",
      "|  [[[-2.3025851]]\n",
      "|  \n",
      "|   [[-2.3025851]]\n",
      "|  \n",
      "|   [[-2.3025851]]\n",
      "|  \n",
      "|   [[-2.3025851]]\n",
      "|  \n",
      "|   [[-2.3025851]]\n",
      "|  \n",
      "|   [[-2.3025851]]\n",
      "|  \n",
      "|   [[-2.3025851]]\n",
      "|  \n",
      "|   [[-2.3025851]]\n",
      "|  \n",
      "|   [[-2.3025851]]\n",
      "|  \n",
      "|   [[-2.3025851]]\n",
      "|  \n",
      "|   [[-2.3025851]]\n",
      "|  \n",
      "|   [[-2.3025851]]\n",
      "|  \n",
      "|   [[-2.3025851]]\n",
      "|  \n",
      "|   [[-2.3025851]]\n",
      "|  \n",
      "|   [[-2.3025851]]\n",
      "|  \n",
      "|   [[-2.3025851]]\n",
      "|  \n",
      "|   [[-2.3025851]]\n",
      "|  \n",
      "|   [[-2.3025851]]\n",
      "|  \n",
      "|   [[-2.3025851]]\n",
      "|  \n",
      "|   [[-2.3025851]]]\n",
      "| alpha (Dirichlet prior on the per-document topic distributions for each metadata)\n",
      "|  : [0.09999999 0.09999999 0.09999999 0.09999999 0.09999999 0.09999999\n",
      "|     0.09999999 0.09999999 0.09999999 0.09999999 0.09999999 0.09999999\n",
      "|     0.09999999 0.09999999 0.09999999 0.09999999 0.09999999 0.09999999\n",
      "|     0.09999999 0.09999999]\n",
      "| eta (Dirichlet prior on the per-topic word distribution)\n",
      "|  0.01\n",
      "|\n",
      "<Topics>\n",
      "| #0 (2) : 'أولى', 'إخوان', 'حدث', ['هنأ', 'دكتور',\n",
      "| #1 (1) : 'اتحاد', 'حدث', ['هنأ', 'دكتور', 'حمد',\n",
      "| #2 (2) : 'يانبع', 'واحد', 'حدث', ['هنأ', 'دكتور',\n",
      "| #3 (8) : ['برادع', 'مرسى', 'شاهد', 'الله', 'مقرف']\n",
      "| #4 (2) : 'رئيسى', 'كاريوكي', ['هنأ', 'دكتور', 'حمد',\n",
      "| #5 (5) : 'ليل', 'قياد', 'واشنطن', 'مستحيل', ['علاج',\n",
      "| #6 (8) : 'حدث', 'اقولها', 'مرةاخرى', 'ليبي'] 'سك']\n",
      "| #7 (12) : 'جمال', 'عصام', ['انتخب', 'تناول', 'شيش',\n",
      "| #8 (6) : 'بين', 'كيل', 'حزب', ['عود', 'سياسة',\n",
      "| #9 (13) : 'اقولها', 'سرار', 'العرص', 'تعرض', 'أول',\n",
      "| #10 (0) : 'اقولها', 'حدث', ['هنأ', 'دكتور', 'حمد',\n",
      "| #11 (0) : 'اقولها', 'حدث', ['هنأ', 'دكتور', 'حمد',\n",
      "| #12 (1) : 'فت', 'حدث', ['هنأ', 'دكتور', 'حمد',\n",
      "| #13 (7) : ['حر', 'مناسب', 'حضور', 'اعداد', 'جماع',\n",
      "| #14 (4) : 'حمد', 'محاضر', 'صريح', ['حك', ['هنأ',\n",
      "| #15 (4) : 'دين', 'بامريكا', 'حقيق'] 'قصة', 'حدث',\n",
      "| #16 (10) : 'عرى', 'حشيش', ['هنأ', 'لي', 'يتقال',\n",
      "| #17 (12) : 'ضحك', 'فجور', 'جنوب', 'ألام', 'استقصاء',\n",
      "| #18 (6) : 'صدور', 'برص', 'فسق', 'حنان'] 'يستقوى',\n",
      "| #19 (6) : 'كواليس', 'رسل', 'انتخب', 'دكتور', 'نتشورال',\n",
      "|\n",
      "\n"
     ]
    }
   ],
   "source": [
    "for i in range(0, 2000, 20):\n",
    "    print('Iteration: {:04} LL per word: {:.4}'.format(i, mdlD.ll_per_word))\n",
    "    mdlD.train(20)\n",
    "print('Iteration: {:04} LL per word: {:.4}'.format(2000, mdlD.ll_per_word))\n",
    "\n",
    "mdlD.summary()"
   ]
  },
  {
   "cell_type": "markdown",
   "id": "7bc05888",
   "metadata": {},
   "source": [
    "### DMR coherence with U_mass"
   ]
  },
  {
   "cell_type": "code",
   "execution_count": 105,
   "id": "8e6c4f8c",
   "metadata": {},
   "outputs": [
    {
     "name": "stdout",
     "output_type": "stream",
     "text": [
      "==== Coherence : u_mass ====\n",
      "Average: -1.1102230246251565e-16 \n",
      "Per Topic: [-1.1102230246251565e-16, -1.1102230246251565e-16, -1.1102230246251565e-16, -1.1102230246251565e-16, -1.1102230246251565e-16, -1.1102230246251565e-16, -1.1102230246251565e-16, -1.1102230246251565e-16, -1.1102230246251565e-16, -1.1102230246251565e-16, -1.1102230246251565e-16, -1.1102230246251565e-16, -1.1102230246251565e-16, -1.1102230246251565e-16, -1.1102230246251565e-16, -1.1102230246251565e-16, -1.1102230246251565e-16, -1.1102230246251565e-16, -1.1102230246251565e-16, -1.1102230246251565e-16]\n",
      "\n"
     ]
    }
   ],
   "source": [
    "coh = tp.coherence.Coherence(mdlD, coherence='u_mass')\n",
    "DMR_umass_coherence = coh.get_score()\n",
    "coherence_per_topic = [coh.get_score(topic_id=k) for k in range(mdlD.k)]\n",
    "print('==== Coherence : {} ===='.format('u_mass'))\n",
    "print('Average:', DMR_umass_coherence, '\\nPer Topic:', coherence_per_topic)\n",
    "print()\n"
   ]
  },
  {
   "cell_type": "markdown",
   "id": "86169718",
   "metadata": {},
   "source": [
    "### DMR coherence with C_V"
   ]
  },
  {
   "cell_type": "code",
   "execution_count": 106,
   "id": "25bafb1c",
   "metadata": {},
   "outputs": [
    {
     "name": "stdout",
     "output_type": "stream",
     "text": [
      "==== Coherence : c_v ====\n",
      "Average: 0.3162277638912201 \n",
      "Per Topic: [0.3162277638912201, 0.3162277638912201, 0.3162277638912201, 0.3162277638912201, 0.3162277638912201, 0.3162277638912201, 0.3162277638912201, 0.3162277638912201, 0.3162277638912201, 0.3162277638912201, 0.3162277638912201, 0.3162277638912201, 0.3162277638912201, 0.3162277638912201, 0.3162277638912201, 0.3162277638912201, 0.3162277638912201, 0.3162277638912201, 0.3162277638912201, 0.3162277638912201]\n",
      "\n"
     ]
    }
   ],
   "source": [
    "coh = tp.coherence.Coherence(mdlD, coherence='c_v')\n",
    "DMR_cv_coherence = coh.get_score()\n",
    "coherence_per_topic = [coh.get_score(topic_id=k) for k in range(mdlD.k)]\n",
    "print('==== Coherence : {} ===='.format('c_v'))\n",
    "print('Average:', DMR_cv_coherence, '\\nPer Topic:', coherence_per_topic)\n",
    "print()\n"
   ]
  },
  {
   "cell_type": "markdown",
   "id": "0913b282",
   "metadata": {},
   "source": [
    "### DMR coherence with UMASS"
   ]
  },
  {
   "cell_type": "code",
   "execution_count": 107,
   "id": "043d3edb",
   "metadata": {},
   "outputs": [
    {
     "name": "stdout",
     "output_type": "stream",
     "text": [
      "==== Coherence : c_uci ====\n",
      "Average: -11.934726738849127 \n",
      "Per Topic: [-6.019580703129422, -5.974902582564758, -8.680971718971374, -15.704303616103308, -5.397843712117679, -10.8378447566027, -19.85369055490832, -20.410385663554614, -15.821717790297427, -15.818049426299753, -6.040275876788976, -6.040275876788976, -5.4143897935139185, -16.542882866440166, -8.619023995409949, -10.913662575920672, -16.37859762295415, -17.349834653911387, -13.391538484738188, -13.484762505966824]\n",
      "\n"
     ]
    }
   ],
   "source": [
    "coh = tp.coherence.Coherence(mdlD, coherence='c_uci')\n",
    "DMR_cuci_coherence = coh.get_score()\n",
    "coherence_per_topic = [coh.get_score(topic_id=k) for k in range(mdlD.k)]\n",
    "print('==== Coherence : {} ===='.format('c_uci'))\n",
    "print('Average:', DMR_cuci_coherence, '\\nPer Topic:', coherence_per_topic)\n",
    "print()\n"
   ]
  },
  {
   "cell_type": "markdown",
   "id": "cf3d6aec",
   "metadata": {},
   "source": [
    "### DMR coherence with C_nmpi"
   ]
  },
  {
   "cell_type": "code",
   "execution_count": 108,
   "id": "59c3264d",
   "metadata": {},
   "outputs": [
    {
     "name": "stdout",
     "output_type": "stream",
     "text": [
      "==== Coherence : c_npmi ====\n",
      "Average: -0.24481016250720988 \n",
      "Per Topic: [0.09583784058098008, 0.10605934540122101, -0.06941444980290847, -0.5277514652045715, 0.12779116326816503, -0.2232027373185943, -0.6523603433984148, -0.6911969202252989, -0.40942861572394607, -0.43234237692694505, 0.10369340698910307, 0.10369340698910307, 0.1435327323503183, -0.45221587754264997, -0.06647638141385384, -0.22727813466697425, -0.5504859566161212, -0.4989568682886411, -0.39897077933275776, -0.37673023926141064]\n",
      "\n"
     ]
    }
   ],
   "source": [
    "\n",
    "coh = tp.coherence.Coherence(mdlD, coherence='c_npmi')\n",
    "DMR_cnmpi_coherence = coh.get_score()\n",
    "coherence_per_topic = [coh.get_score(topic_id=k) for k in range(mdlD.k)]\n",
    "print('==== Coherence : {} ===='.format('c_npmi'))\n",
    "print('Average:', DMR_cnmpi_coherence, '\\nPer Topic:', coherence_per_topic)\n",
    "print()"
   ]
  },
  {
   "cell_type": "markdown",
   "id": "dc09b2b5",
   "metadata": {},
   "source": [
    "# 10-  Adversarial-neural Topic Model(ATM)"
   ]
  },
  {
   "cell_type": "code",
   "execution_count": 109,
   "id": "05f11c41",
   "metadata": {},
   "outputs": [],
   "source": [
    "model = AuthorTopicModel(\n",
    "        corpus=bow_corpus, id2word=dictionary, num_topics=4\n",
    "    )"
   ]
  },
  {
   "cell_type": "code",
   "execution_count": 110,
   "id": "9faed80d",
   "metadata": {},
   "outputs": [
    {
     "name": "stdout",
     "output_type": "stream",
     "text": [
      "Topic: 0 \n",
      "Words: 0.012*\"واشنطن\" + 0.011*\"نفس\" + 0.011*\"يتم\" + 0.011*\"جنوب\" + 0.011*\"سوري\" + 0.011*\"انتخب\" + 0.011*\"واحد\" + 0.011*\"استقصاء\" + 0.011*\"الله\" + 0.010*\"رواية\"\n",
      "Topic: 1 \n",
      "Words: 0.012*\"جعل\" + 0.012*\"ماضي\" + 0.011*\"العرص\" + 0.011*\"حدث\" + 0.011*\"انتخب\" + 0.011*\"ليل\" + 0.011*\"حر\" + 0.011*\"تعرض\" + 0.011*\"محاضر\" + 0.011*\"علاج\"\n",
      "Topic: 2 \n",
      "Words: 0.012*\"خاطر\" + 0.011*\"امير\" + 0.011*\"حمد\" + 0.011*\"فسق\" + 0.011*\"اقولها\" + 0.011*\"نفس\" + 0.011*\"ألام\" + 0.011*\"وضع\" + 0.011*\"عراق\" + 0.011*\"شبر\"\n",
      "Topic: 3 \n",
      "Words: 0.011*\"رئيسى\" + 0.011*\"حدث\" + 0.011*\"والد\" + 0.011*\"محاضر\" + 0.011*\"سوري\" + 0.011*\"والطرمخة\" + 0.011*\"كيل\" + 0.011*\"اتحاد\" + 0.010*\"واحد\" + 0.010*\"حر\"\n"
     ]
    }
   ],
   "source": [
    "for indx, topics in model.print_topics(num_topics=5, num_words=10):\n",
    "    print('Topic: {} \\nWords: {}'.format(indx, topics))"
   ]
  },
  {
   "cell_type": "markdown",
   "id": "a6b78a44",
   "metadata": {},
   "source": [
    "### ATM coherence with UMass"
   ]
  },
  {
   "cell_type": "code",
   "execution_count": 111,
   "id": "454361fc",
   "metadata": {},
   "outputs": [
    {
     "name": "stdout",
     "output_type": "stream",
     "text": [
      "\n",
      "Coherence Score with UMASS:  -22.295689078081942\n"
     ]
    }
   ],
   "source": [
    "\n",
    "coherence_model_ATM = CoherenceModel(model=model, dictionary=dictionary, coherence='u_mass',corpus=bow_corpus)\n",
    "coherence_ATM_uMass = coherence_model_ATM.get_coherence()\n",
    "print('\\nCoherence Score with UMASS: ', coherence_ATM_uMass)"
   ]
  },
  {
   "cell_type": "markdown",
   "id": "a4363fb6",
   "metadata": {},
   "source": [
    "### ATM coherence with CV"
   ]
  },
  {
   "cell_type": "code",
   "execution_count": 112,
   "id": "f2731650",
   "metadata": {},
   "outputs": [
    {
     "name": "stdout",
     "output_type": "stream",
     "text": [
      "\n",
      "Coherence Score with CV:  0.5839480041250008\n"
     ]
    }
   ],
   "source": [
    "# Compute Coherence Score\n",
    "documents = data['text'].values\n",
    "texts = [[word for word in str(document).split()] for document in documents]\n",
    "id2word = corpora.Dictionary(texts)\n",
    "corpus = [id2word.doc2bow(text) for text in texts]\n",
    "\n",
    "coherence_model_ATM = CoherenceModel(model=model, dictionary=id2word, corpus=bow_corpus, coherence='c_v', texts = texts)\n",
    "coherence_ATM_CV = coherence_model_ATM.get_coherence()\n",
    "print('\\nCoherence Score with CV: ', coherence_ATM_CV)"
   ]
  },
  {
   "cell_type": "markdown",
   "id": "3ffcf9cf",
   "metadata": {},
   "source": [
    "### ATM coherence with c_uci"
   ]
  },
  {
   "cell_type": "code",
   "execution_count": 113,
   "id": "6765d6e3",
   "metadata": {},
   "outputs": [
    {
     "name": "stdout",
     "output_type": "stream",
     "text": [
      "\n",
      "Coherence Score c_uci:  -12.195774781149046\n"
     ]
    }
   ],
   "source": [
    "documents = data['text'].values\n",
    "texts = [[word for word in str(document).split()] for document in documents]\n",
    "id2word = corpora.Dictionary(texts)\n",
    "corpus = [id2word.doc2bow(text) for text in texts]\n",
    "cm = CoherenceModel(model=model,texts=texts,dictionary=id2word, corpus=bow_corpus, coherence='c_uci')\n",
    "ATM_coherence_cuci = cm.get_coherence()\n",
    "print('\\nCoherence Score c_uci: ', ATM_coherence_cuci)\n"
   ]
  },
  {
   "cell_type": "markdown",
   "id": "1936f658",
   "metadata": {},
   "source": [
    "### ATM coherence with c_nmpi "
   ]
  },
  {
   "cell_type": "code",
   "execution_count": 114,
   "id": "3626b824",
   "metadata": {},
   "outputs": [
    {
     "name": "stdout",
     "output_type": "stream",
     "text": [
      "\n",
      "Coherence Score c_npmi:  -0.41021696506177574\n"
     ]
    }
   ],
   "source": [
    "documents = data['text'].values\n",
    "texts = [[word for word in str(document).split()] for document in documents]\n",
    "id2word = corpora.Dictionary(texts)\n",
    "corpus = [id2word.doc2bow(text) for text in texts]\n",
    "cm = CoherenceModel(model=model,texts=texts,dictionary=id2word, corpus=bow_corpus, coherence='c_npmi')\n",
    "ATM_coherence_cnmpi = cm.get_coherence()\n",
    "print('\\nCoherence Score c_npmi: ', ATM_coherence_cnmpi)"
   ]
  },
  {
   "cell_type": "code",
   "execution_count": 115,
   "id": "691cf9a1",
   "metadata": {},
   "outputs": [],
   "source": [
    "#process = pd.DataFrame(processed_docs)\n",
    "    "
   ]
  },
  {
   "cell_type": "code",
   "execution_count": 116,
   "id": "f6963e1e",
   "metadata": {
    "scrolled": true
   },
   "outputs": [
    {
     "data": {
      "text/plain": [
       "pandas.core.frame.DataFrame"
      ]
     },
     "execution_count": 116,
     "metadata": {},
     "output_type": "execute_result"
    }
   ],
   "source": [
    "type(data_text)"
   ]
  },
  {
   "cell_type": "markdown",
   "id": "85bacf9a",
   "metadata": {
    "id": "MJba2H5PbF_q"
   },
   "source": [
    "# 11- Short for Gibbs Sampling Dirichlet Multinomial Mixture(GSDMM)"
   ]
  },
  {
   "cell_type": "code",
   "execution_count": 117,
   "id": "hbgaKlM_XinJ",
   "metadata": {
    "id": "hbgaKlM_XinJ"
   },
   "outputs": [
    {
     "name": "stdout",
     "output_type": "stream",
     "text": [
      "In stage 0: transferred 8062 clusters with 20 clusters populated\n"
     ]
    }
   ],
   "source": [
    "documents = data['text'].values\n",
    "mgp = MovieGroupProcess(K=20, alpha=0.1, beta=0.1, n_iters=1)\n",
    "\n",
    "# Transform documents\n",
    "tokens = [doc.split() for doc in documents]\n",
    "\n",
    "id2word = gensim.corpora.Dictionary(tokens)\n",
    "\n",
    "y = mgp.fit(tokens ,len(id2word))"
   ]
  },
  {
   "cell_type": "code",
   "execution_count": 118,
   "id": "ce9f5883",
   "metadata": {},
   "outputs": [
    {
     "name": "stdout",
     "output_type": "stream",
     "text": [
      "Number of documents per topic : [584 457 421 452 466 448 479 484 449 473 455 436 544 492 491 480 529 439\n",
      " 526 588]\n",
      "********************\n",
      "Most important clusters (by number of docs inside): [ 2 11 17  5  8  3 10  1  4  9  6 15  7 14 13 18 16 12  0 19]\n",
      "********************\n",
      "Cluster 0 : [('حسني', 1), ('جمهورية', 1), ('حقوق', 1), ('نقطة', 1), ('الخطاب', 1), ('القيادي', 1), ('قائمة', 1), ('ستنتصر', 1), ('بسمة', 1), ('ياسيسى', 1)]\n",
      "Cluster 1 : [('شاب', 1), ('العظيم', 1), ('قيام', 1), ('عنه', 1), ('تعيين', 1), ('التفاصيل', 1), ('بمناسبة', 1), ('الأشخاص', 1), ('مشكلة', 1), ('بإذن', 1)]\n",
      "Cluster 2 : [('المعادى', 1), ('الأحمر', 1), ('السادة', 1), ('المحترمون', 1), ('حملات', 1), ('مكان', 1), ('البرلمان', 1), ('الشرطة', 1), ('سلام', 1), ('بالشرقية', 1)]\n",
      "Cluster 3 : [('خارج', 1), ('الليلة', 1), ('الاخوان', 1), ('6', 1), ('اذا', 1), ('البرلمان', 1), ('السياسي', 1), ('مقال', 1), ('لفهم', 1), ('الدين', 1)]\n",
      "Cluster 4 : [('عمرو', 1), ('حمزاوي', 1), ('اتحاد', 1), ('مقال', 1), ('دعمرو', 1), ('الحكومة', 1), ('العدل', 1), ('الاتحاد', 1), ('لديه', 1), ('وسط', 1)]\n",
      "Cluster 5 : [('دخول', 1), ('نفسك', 1), ('فاشل', 1), ('الحسيني', 1), ('حقوق', 1), ('بـ', 1), ('المصرى', 1), ('البوابة', 1), ('حركة', 1), ('قطاع', 1)]\n",
      "Cluster 6 : [('التفاصيل', 1), ('النجاح', 1), ('العالم', 1), ('مطر', 1), ('11', 1), ('2012', 1), ('وصول', 1), ('موقف', 1), ('الاول', 1), ('الانتخابات', 1)]\n",
      "Cluster 7 : [('الشروق', 1), ('المصريين', 1), ('فترة', 1), ('اخوان', 1), ('فقط', 1), ('عمرو', 1), ('حلقة', 1), ('اكشن', 1), ('حياة', 1), ('يمكن', 1)]\n",
      "Cluster 8 : [('كانوا', 1), ('كفار', 1), ('يحكمهم', 1), ('الحريه', 1), ('جبهة', 1), ('اللهم', 1), ('رمضان', 1), ('25', 1), ('الدولة', 1), ('جماعة', 1)]\n",
      "Cluster 9 : [('تزرع', 1), ('زيادة', 1), ('يسجل', 1), ('السابع', 1), ('مكافحة', 1), ('ضيف', 1), ('برنامج', 1), ('جدة', 1), ('زملكاوى', 1), ('البلد', 1)]\n",
      "Cluster 10 : [('المشير', 1), ('حي', 1), ('==', 1), ('حب', 1), ('زب', 1), ('حمزاوي', 1), ('بحملة', 1), ('2', 1), ('انتظروا', 1), ('هى', 1)]\n",
      "Cluster 11 : [('اللهم', 1), ('خير', 1), ('الشروق', 1), ('أيام', 1), ('=', 1), ('ربنا', 1), ('عبدالفتاح', 1), ('السيسي', 1), ('ذكريات', 1), ('المغرب', 1)]\n",
      "Cluster 12 : [('زيادة', 1), ('الانقلاب', 1), ('الرياض', 1), ('٨', 1), ('زي', 1), ('لابد', 1), ('الدوله', 1), ('أنصار', 1), ('الصحفى', 1), ('بحضور', 1)]\n",
      "Cluster 13 : [('السعودية', 1), ('اليمن', 1), ('صاحب', 1), ('رأي', 1), ('سياسي', 1), ('العام', 1), ('اعلام', 1), ('الانتخابات', 1), ('تسلم', 1), ('الايادى', 1)]\n",
      "Cluster 14 : [('البعد', 1), ('الكتاب', 1), ('سوهاج', 1), ('دي', 1), ('عشان', 1), ('الفيوم', 1), ('وزير', 1), ('تقديم', 1), ('عامر', 1), ('البرنامج', 1)]\n",
      "Cluster 15 : [('القيادي', 1), ('مالك', 1), ('حازم', 1), ('حدث', 1), ('الرئيس', 1), ('علاء', 1), ('ينشر', 1), ('بجريدة', 1), ('شرف', 1), ('بوابة', 1)]\n",
      "Cluster 16 : [('الي', 1), ('بتاع', 1), ('موقف', 1), ('واحنا', 1), ('نادي', 1), ('طب', 1), ('بلطجية', 1), ('الببلاوي', 1), ('الدستور', 1), ('ضرورة', 1)]\n",
      "Cluster 17 : [('بكره', 1), ('مفيش', 1), ('نور', 1), ('احنا', 1), ('اوعى', 1), ('تنسى', 1), ('البنات', 1), ('=', 1), ('أمن', 1), ('الانقلاب', 1)]\n",
      "Cluster 18 : [('كاملاً', 1), ('الرابط', 1), ('والرئيس', 1), ('7', 1), ('حول', 1), ('شيء', 1), ('دول', 1), ('الطريق', 1), ('قناة', 1), ('التفكير', 1)]\n",
      "Cluster 19 : [('حمص', 1), ('المحكمة', 1), ('ترفض', 1), ('الأمريكية', 1), ('بكري', 1), ('ثورتنا', 1), ('ربي', 1), ('الأردن', 1), ('بيننا', 1), ('أسيوط', 1)]\n"
     ]
    }
   ],
   "source": [
    "doc_count = np.array(mgp.cluster_doc_count)\n",
    "print('Number of documents per topic :', doc_count)\n",
    "print('*'*20)\n",
    "# Topics sorted by the number of document they are allocated to\n",
    "top_index = doc_count.argsort()\n",
    "print('Most important clusters (by number of docs inside):', top_index)\n",
    "print('*'*20)\n",
    "# Show the top 5 words in term frequency for each cluster \n",
    "for i in range(20):\n",
    "    print(\"Cluster\",i,':',sorted(mgp.cluster_word_distribution[i].items(), key=lambda item: item[1])[:10])"
   ]
  },
  {
   "cell_type": "code",
   "execution_count": 119,
   "id": "44897ab7",
   "metadata": {},
   "outputs": [],
   "source": [
    "def get_topics_lists(model, top_clusters, n_words):\n",
    "    '''\n",
    "    Gets lists of words in topics as a list of lists.\n",
    "    \n",
    "    model: gsdmm instance\n",
    "    top_clusters:  numpy array containing indices of top_clusters\n",
    "    n_words: top n number of words to include\n",
    "    \n",
    "    '''\n",
    "    # create empty list to contain topics\n",
    "    topics = []\n",
    "    \n",
    "    # iterate over top n clusters\n",
    "    for cluster in top_clusters:\n",
    "        #create sorted dictionary of word distributions\n",
    "        sorted_dict = sorted(model.cluster_word_distribution[cluster].items(), key=lambda k: k[1], reverse=True)[:n_words]\n",
    "         \n",
    "        #create empty list to contain words\n",
    "        topic = []\n",
    "        \n",
    "        #iterate over top n words in topic\n",
    "        for k,v in sorted_dict:\n",
    "            #append words to topic list\n",
    "            topic.append(k)\n",
    "            \n",
    "        #append topics to topics list    \n",
    "        topics.append(topic)\n",
    "    \n",
    "    return topics"
   ]
  },
  {
   "cell_type": "markdown",
   "id": "fa47c053",
   "metadata": {},
   "source": [
    "### GSDMM coherence with u_mass"
   ]
  },
  {
   "cell_type": "code",
   "execution_count": 120,
   "id": "ad870bec",
   "metadata": {},
   "outputs": [
    {
     "name": "stdout",
     "output_type": "stream",
     "text": [
      "-5.258983163709287\n"
     ]
    }
   ],
   "source": [
    "documents = data['text'].values\n",
    "texts = [[word for word in str(document).split()] for document in documents]\n",
    "id2word = corpora.Dictionary(texts)\n",
    "corpus = [id2word.doc2bow(text) for text in texts]\n",
    "topics = get_topics_lists(mgp, top_index, 20) \n",
    "\n",
    "# evaluate model using Topic Coherence score\n",
    "cm_gsdmm = CoherenceModel(topics=topics, \n",
    "                          dictionary=id2word, \n",
    "                          corpus=bow_corpus, \n",
    "                          texts=documents, \n",
    "                          coherence='u_mass')\n",
    "\n",
    "# get coherence value\n",
    "coherence_gsdmm_u_mass = cm_gsdmm.get_coherence()  \n",
    "\n",
    "print(coherence_gsdmm_u_mass)"
   ]
  },
  {
   "cell_type": "markdown",
   "id": "f3892a75",
   "metadata": {},
   "source": [
    "### GSDMM coherence with C_uci"
   ]
  },
  {
   "cell_type": "code",
   "execution_count": 121,
   "id": "7400617f",
   "metadata": {},
   "outputs": [
    {
     "name": "stdout",
     "output_type": "stream",
     "text": [
      "inf\n"
     ]
    }
   ],
   "source": [
    "documents = data['text'].values\n",
    "texts = [[word for word in str(document).split()] for document in documents]\n",
    "id2word = corpora.Dictionary(texts)\n",
    "corpus = [id2word.doc2bow(text) for text in texts]\n",
    "topics = get_topics_lists(mgp, top_index, 20) \n",
    "\n",
    "# evaluate model using Topic Coherence score\n",
    "cm_gsdmm = CoherenceModel(topics=topics, \n",
    "                          dictionary=id2word, \n",
    "                          corpus=bow_corpus, \n",
    "                          texts=documents, \n",
    "                          coherence='c_uci')\n",
    "\n",
    "# get coherence value\n",
    "coherence_gsdmm_cuci = cm_gsdmm.get_coherence()  \n",
    "\n",
    "print(coherence_gsdmm_cuci)\n"
   ]
  },
  {
   "cell_type": "markdown",
   "id": "31187f2d",
   "metadata": {},
   "source": [
    "### GSDMM coherence with c_nmpi"
   ]
  },
  {
   "cell_type": "code",
   "execution_count": 122,
   "id": "31335038",
   "metadata": {},
   "outputs": [
    {
     "name": "stdout",
     "output_type": "stream",
     "text": [
      "inf\n"
     ]
    }
   ],
   "source": [
    "documents = data['text'].values\n",
    "texts = [[word for word in str(document).split()] for document in documents]\n",
    "id2word = corpora.Dictionary(texts)\n",
    "corpus = [id2word.doc2bow(text) for text in texts]\n",
    "topics = get_topics_lists(mgp, top_index, 20) \n",
    "\n",
    "# evaluate model using Topic Coherence score\n",
    "cm_gsdmm = CoherenceModel(topics=topics, \n",
    "                          dictionary=id2word, \n",
    "                          corpus=bow_corpus, \n",
    "                          texts=documents, \n",
    "                          coherence='c_npmi')\n",
    "\n",
    "# get coherence value\n",
    "coherence_gsdmm_nmpi = cm_gsdmm.get_coherence()  \n",
    "\n",
    "print(coherence_gsdmm_nmpi)\n"
   ]
  },
  {
   "cell_type": "markdown",
   "id": "c6a62d7c",
   "metadata": {},
   "source": [
    "### GSDMM coherence with CV"
   ]
  },
  {
   "cell_type": "code",
   "execution_count": 123,
   "id": "f050c86e",
   "metadata": {},
   "outputs": [
    {
     "name": "stdout",
     "output_type": "stream",
     "text": [
      "nan\n"
     ]
    }
   ],
   "source": [
    "documents = data['text'].values\n",
    "texts = [[word for word in str(document).split()] for document in documents]\n",
    "id2word = corpora.Dictionary(texts)\n",
    "corpus = [id2word.doc2bow(text) for text in texts]\n",
    "topics = get_topics_lists(mgp, top_index, 20) \n",
    "\n",
    "# evaluate model using Topic Coherence score\n",
    "cm_gsdmm = CoherenceModel(topics=topics, \n",
    "                          dictionary=id2word, \n",
    "                          corpus=bow_corpus, \n",
    "                          texts=documents, \n",
    "                          coherence='c_v')\n",
    "\n",
    "# get coherence value\n",
    "coherence_gsdmm_cv = cm_gsdmm.get_coherence()  \n",
    "\n",
    "print(coherence_gsdmm_cv)\n"
   ]
  },
  {
   "cell_type": "markdown",
   "id": "493ebd24",
   "metadata": {},
   "source": [
    "# Evaluation models using grid_search"
   ]
  },
  {
   "cell_type": "markdown",
   "id": "8fad0e7a",
   "metadata": {},
   "source": [
    "# comparison by score"
   ]
  },
  {
   "cell_type": "code",
   "execution_count": 124,
   "id": "beba28a3",
   "metadata": {},
   "outputs": [
    {
     "data": {
      "text/html": [
       "<div>\n",
       "<style scoped>\n",
       "    .dataframe tbody tr th:only-of-type {\n",
       "        vertical-align: middle;\n",
       "    }\n",
       "\n",
       "    .dataframe tbody tr th {\n",
       "        vertical-align: top;\n",
       "    }\n",
       "\n",
       "    .dataframe thead th {\n",
       "        text-align: right;\n",
       "    }\n",
       "</style>\n",
       "<table border=\"1\" class=\"dataframe\">\n",
       "  <thead>\n",
       "    <tr style=\"text-align: right;\">\n",
       "      <th></th>\n",
       "      <th>Model</th>\n",
       "      <th>Score_by_CV</th>\n",
       "      <th>Score_by_uMass</th>\n",
       "      <th>Score_by_cuci</th>\n",
       "      <th>Score_by_cnpmi</th>\n",
       "    </tr>\n",
       "  </thead>\n",
       "  <tbody>\n",
       "    <tr>\n",
       "      <th>2</th>\n",
       "      <td>HDP</td>\n",
       "      <td>0.675798</td>\n",
       "      <td>-2.280981e+01</td>\n",
       "      <td>-20.035818</td>\n",
       "      <td>-0.655963</td>\n",
       "    </tr>\n",
       "    <tr>\n",
       "      <th>4</th>\n",
       "      <td>ATM</td>\n",
       "      <td>0.583948</td>\n",
       "      <td>-2.229569e+01</td>\n",
       "      <td>-12.195775</td>\n",
       "      <td>-0.410217</td>\n",
       "    </tr>\n",
       "    <tr>\n",
       "      <th>0</th>\n",
       "      <td>LDA</td>\n",
       "      <td>0.508884</td>\n",
       "      <td>-1.960954e+01</td>\n",
       "      <td>-16.484590</td>\n",
       "      <td>-0.424421</td>\n",
       "    </tr>\n",
       "    <tr>\n",
       "      <th>3</th>\n",
       "      <td>NMF</td>\n",
       "      <td>0.396263</td>\n",
       "      <td>-1.266422e+01</td>\n",
       "      <td>-9.201128</td>\n",
       "      <td>-0.256364</td>\n",
       "    </tr>\n",
       "    <tr>\n",
       "      <th>5</th>\n",
       "      <td>LDA_SEQ</td>\n",
       "      <td>0.339985</td>\n",
       "      <td>-1.549034e+01</td>\n",
       "      <td>-13.180757</td>\n",
       "      <td>-0.201067</td>\n",
       "    </tr>\n",
       "    <tr>\n",
       "      <th>6</th>\n",
       "      <td>PAM</td>\n",
       "      <td>0.316228</td>\n",
       "      <td>-1.110223e-16</td>\n",
       "      <td>-6.040276</td>\n",
       "      <td>0.103693</td>\n",
       "    </tr>\n",
       "    <tr>\n",
       "      <th>8</th>\n",
       "      <td>HPAM</td>\n",
       "      <td>0.316228</td>\n",
       "      <td>-1.110223e-16</td>\n",
       "      <td>-14.600014</td>\n",
       "      <td>-0.373524</td>\n",
       "    </tr>\n",
       "    <tr>\n",
       "      <th>9</th>\n",
       "      <td>DMR</td>\n",
       "      <td>0.316228</td>\n",
       "      <td>-1.110223e-16</td>\n",
       "      <td>-11.934727</td>\n",
       "      <td>-0.244810</td>\n",
       "    </tr>\n",
       "    <tr>\n",
       "      <th>1</th>\n",
       "      <td>LSI</td>\n",
       "      <td>0.258165</td>\n",
       "      <td>-1.478381e+01</td>\n",
       "      <td>-12.537342</td>\n",
       "      <td>-0.146074</td>\n",
       "    </tr>\n",
       "    <tr>\n",
       "      <th>7</th>\n",
       "      <td>GSDMM</td>\n",
       "      <td>NaN</td>\n",
       "      <td>-5.258983e+00</td>\n",
       "      <td>inf</td>\n",
       "      <td>inf</td>\n",
       "    </tr>\n",
       "  </tbody>\n",
       "</table>\n",
       "</div>"
      ],
      "text/plain": [
       "     Model  Score_by_CV  Score_by_uMass  Score_by_cuci  Score_by_cnpmi\n",
       "2      HDP     0.675798   -2.280981e+01     -20.035818       -0.655963\n",
       "4      ATM     0.583948   -2.229569e+01     -12.195775       -0.410217\n",
       "0      LDA     0.508884   -1.960954e+01     -16.484590       -0.424421\n",
       "3      NMF     0.396263   -1.266422e+01      -9.201128       -0.256364\n",
       "5  LDA_SEQ     0.339985   -1.549034e+01     -13.180757       -0.201067\n",
       "6      PAM     0.316228   -1.110223e-16      -6.040276        0.103693\n",
       "8     HPAM     0.316228   -1.110223e-16     -14.600014       -0.373524\n",
       "9      DMR     0.316228   -1.110223e-16     -11.934727       -0.244810\n",
       "1      LSI     0.258165   -1.478381e+01     -12.537342       -0.146074\n",
       "7    GSDMM          NaN   -5.258983e+00            inf             inf"
      ]
     },
     "execution_count": 124,
     "metadata": {},
     "output_type": "execute_result"
    }
   ],
   "source": [
    "models = pd.DataFrame({\n",
    "    'Model': ['LDA', 'LSI','HDP','NMF','ATM','LDA_SEQ','PAM','GSDMM','HPAM','DMR'], 'Score_by_CV': [coherence_lda_cv, coherence_lsi_cv,hdp_coherence_cv,nmf_coherence_cv,coherence_ATM_CV,ldaseq_cv,PAM_cv_coherence,coherence_gsdmm_cv,HPAM_cv_coherence,DMR_cv_coherence], 'Score_by_uMass': [coherence_lda_uMass, coherence_lsi_umass,hdp_coherence_umass,nmf_coherence_uMass,coherence_ATM_uMass,ldaseq_umass,PAM_umass_coherence,coherence_gsdmm_u_mass,HPAM_umass_coherence,DMR_umass_coherence]\n",
    "      , 'Score_by_cuci': [coherence_lda_uci, coherence_lsi_uci,hdp_coherence_uci,nmf_coherence_cuci,ATM_coherence_cuci,ldaseq_cuci,PAM_cuci_coherence,coherence_gsdmm_cuci,HPAM_cuci_coherence,DMR_cuci_coherence], 'Score_by_cnpmi': [coherence_lda_npmi, coherence_lsi_nmpi,hdp_coherence_nmpi,nmf_coherence_cnmpi,ATM_coherence_cnmpi,ldaseq_cnmpi,PAM_cnpmi_coherence,coherence_gsdmm_nmpi,HPAM_cnmpi_coherence,DMR_cnmpi_coherence]})\n",
    "\n",
    "#print(models)\n",
    "models.sort_values(by='Score_by_CV', ascending=False)\n",
    "\n",
    "\n",
    "\n"
   ]
  },
  {
   "cell_type": "code",
   "execution_count": 125,
   "id": "1ac890c0",
   "metadata": {},
   "outputs": [
    {
     "data": {
      "image/png": "[encoded data removed]",
      "text/plain": [
       "<Figure size 432x288 with 1 Axes>"
      ]
     },
     "metadata": {
      "needs_background": "light"
     },
     "output_type": "display_data"
    }
   ],
   "source": [
    "\n",
    "# A python dictionary\n",
    "\n",
    "data = {\"Models\":['LDA', 'LSI','HDP','NMF','ATM','LDA_SEQ','PAM','HPAM','DMR'],\n",
    "\n",
    "        \"Score_by_CV\":[coherence_lda_cv, coherence_lsi_cv,hdp_coherence_cv,nmf_coherence_cv,coherence_ATM_CV,ldaseq_cv,PAM_cv_coherence,HPAM_cv_coherence,DMR_cv_coherence]\n",
    "\n",
    "        };\n",
    "\n",
    "# Dictionary loaded into a DataFrame       \n",
    "\n",
    "dataFrame = pd.DataFrame(data=data);\n",
    "\n",
    " \n",
    "\n",
    "# Draw a vertical bar chart\n",
    "\n",
    "dataFrame.plot.bar(x=\"Models\", y=\"Score_by_CV\", rot=70, title=\"Evaluate topic modeling algorimths(CV)\");\n",
    "\n",
    "plt.show(block=True);"
   ]
  },
  {
   "cell_type": "code",
   "execution_count": 126,
   "id": "8e80b4a0",
   "metadata": {},
   "outputs": [
    {
     "data": {
      "image/png": "[encoded data removed]",
      "text/plain": [
       "<Figure size 432x288 with 1 Axes>"
      ]
     },
     "metadata": {
      "needs_background": "light"
     },
     "output_type": "display_data"
    }
   ],
   "source": [
    "# A python dictionary\n",
    "\n",
    "data = {\"Models\":['LDA', 'LSI','HDP','NMF','ATM','LDA_SEQ','PAM','HPAM','DMR'],\n",
    "\n",
    "        \"Score_by_Umass\":[coherence_lda_uMass, coherence_lsi_umass,hdp_coherence_umass,nmf_coherence_uMass,coherence_ATM_uMass,ldaseq_umass,PAM_umass_coherence,HPAM_umass_coherence,DMR_umass_coherence]\n",
    "\n",
    "        };\n",
    "\n",
    "# Dictionary loaded into a DataFrame       \n",
    "\n",
    "dataFrame = pd.DataFrame(data=data);\n",
    "\n",
    " \n",
    "\n",
    "# Draw a vertical bar chart\n",
    "\n",
    "dataFrame.plot.barh(x=\"Models\", y=\"Score_by_Umass\", title=\"Evaluate topic modeling algorithms(Umass)\");\n",
    "\n",
    "plt.show(block=True);"
   ]
  },
  {
   "cell_type": "code",
   "execution_count": 127,
   "id": "57e2f22f",
   "metadata": {},
   "outputs": [
    {
     "data": {
      "image/png": "[encoded data removed]",
      "text/plain": [
       "<Figure size 432x288 with 1 Axes>"
      ]
     },
     "metadata": {
      "needs_background": "light"
     },
     "output_type": "display_data"
    }
   ],
   "source": [
    "# A python dictionary\n",
    "\n",
    "data = {\"Models\":['LDA', 'LSI','HDP','NMF','ATM','LDA_SEQ','PAM','HPAM','DMR'],\n",
    "\n",
    "        \"Score_by_Cuci\":[coherence_lda_uci, coherence_lsi_uci,hdp_coherence_uci,nmf_coherence_cuci,ATM_coherence_cuci,ldaseq_cuci,PAM_cuci_coherence,HPAM_cuci_coherence,DMR_cuci_coherence]\n",
    "\n",
    "        };\n",
    "\n",
    "# Dictionary loaded into a DataFrame       \n",
    "\n",
    "dataFrame = pd.DataFrame(data=data);\n",
    "\n",
    " \n",
    "\n",
    "# Draw a vertical bar chart\n",
    "\n",
    "dataFrame.plot.barh(x=\"Models\", y=\"Score_by_Cuci\", title=\"Evaluate topic modeling algorithms (C_uci)\");\n",
    "\n",
    "plt.show(block=True);"
   ]
  },
  {
   "cell_type": "code",
   "execution_count": null,
   "id": "00a46a1f",
   "metadata": {},
   "outputs": [],
   "source": []
  },
  {
   "cell_type": "code",
   "execution_count": null,
   "id": "a0f4df84",
   "metadata": {},
   "outputs": [],
   "source": []
  }
 ],
 "metadata": {
  "colab": {
   "collapsed_sections": [
    "f56d3435",
    "7cd3cba9",
    "da66a7af",
    "27c9cf2e",
    "6dfcb698",
    "79f1dc3b"
   ],
   "name": "Topic Modeling with Arabic Dataset_C.ipynb",
   "provenance": []
  },
  "kernelspec": {
   "display_name": "Python 3",
   "language": "python",
   "name": "python3"
  },
  "language_info": {
   "codemirror_mode": {
    "name": "ipython",
    "version": 3
   },
   "file_extension": ".py",
   "mimetype": "text/x-python",
   "name": "python",
   "nbconvert_exporter": "python",
   "pygments_lexer": "ipython3",
   "version": "3.9.11"
  }
 },
 "nbformat": 4,
 "nbformat_minor": 5
}
